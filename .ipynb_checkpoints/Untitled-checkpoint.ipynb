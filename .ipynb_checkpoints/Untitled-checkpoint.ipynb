{
 "cells": [
  {
   "cell_type": "code",
   "execution_count": 90,
   "id": "be796184",
   "metadata": {},
   "outputs": [],
   "source": [
    "import pandas as pd\n",
    "import seaborn as sns\n",
    "\n",
    "sabonete_a= pd.read_csv('../perfumaria/dados/body_splash_a.csv')\n",
    "sabonete_b = pd.read_csv('../perfumaria/dados/body_splash_j.csv')"
   ]
  },
  {
   "cell_type": "code",
   "execution_count": 91,
   "id": "3ad485db",
   "metadata": {},
   "outputs": [],
   "source": [
    "sabonete_a['loja'] = 'avon'\n",
    "sabonete_b['loja'] = 'jequiti'"
   ]
  },
  {
   "cell_type": "code",
   "execution_count": 92,
   "id": "6386ac8d",
   "metadata": {},
   "outputs": [],
   "source": [
    "lojas = pd.concat([sabonete_a,sabonete_b])\n",
    "\n",
    "lojas = lojas.drop(columns={'Unnamed: 0'})\n",
    "\n",
    "lojas = lojas.rename(columns={'preco(R$)':'preco'})"
   ]
  },
  {
   "cell_type": "code",
   "execution_count": 104,
   "id": "c61507d3",
   "metadata": {},
   "outputs": [
    {
     "data": {
      "text/html": [
       "<div>\n",
       "<style scoped>\n",
       "    .dataframe tbody tr th:only-of-type {\n",
       "        vertical-align: middle;\n",
       "    }\n",
       "\n",
       "    .dataframe tbody tr th {\n",
       "        vertical-align: top;\n",
       "    }\n",
       "\n",
       "    .dataframe thead th {\n",
       "        text-align: right;\n",
       "    }\n",
       "</style>\n",
       "<table border=\"1\" class=\"dataframe\">\n",
       "  <thead>\n",
       "    <tr style=\"text-align: right;\">\n",
       "      <th></th>\n",
       "      <th>nome</th>\n",
       "      <th>preco</th>\n",
       "      <th>loja</th>\n",
       "    </tr>\n",
       "  </thead>\n",
       "  <tbody>\n",
       "    <tr>\n",
       "      <th>16</th>\n",
       "      <td>Musk Marine Body Splash - 90ml</td>\n",
       "      <td>0.0</td>\n",
       "      <td>avon</td>\n",
       "    </tr>\n",
       "    <tr>\n",
       "      <th>0</th>\n",
       "      <td>Desodorante Colônia Splash Eu Conquisto 200 ml</td>\n",
       "      <td>36.46</td>\n",
       "      <td>jequiti</td>\n",
       "    </tr>\n",
       "    <tr>\n",
       "      <th>1</th>\n",
       "      <td>Desodorante Colônia Splash Eu Provoco Morangos...</td>\n",
       "      <td>36.46</td>\n",
       "      <td>jequiti</td>\n",
       "    </tr>\n",
       "    <tr>\n",
       "      <th>2</th>\n",
       "      <td>Desodorante Colônia Splash Vida + Amor Flor de...</td>\n",
       "      <td>38.16</td>\n",
       "      <td>jequiti</td>\n",
       "    </tr>\n",
       "    <tr>\n",
       "      <th>3</th>\n",
       "      <td>Desodorante Colônia Splash Eu Desperto Blackbe...</td>\n",
       "      <td>36.46</td>\n",
       "      <td>jequiti</td>\n",
       "    </tr>\n",
       "  </tbody>\n",
       "</table>\n",
       "</div>"
      ],
      "text/plain": [
       "                                                 nome  preco     loja\n",
       "16                     Musk Marine Body Splash - 90ml    0.0     avon\n",
       "0      Desodorante Colônia Splash Eu Conquisto 200 ml  36.46  jequiti\n",
       "1   Desodorante Colônia Splash Eu Provoco Morangos...  36.46  jequiti\n",
       "2   Desodorante Colônia Splash Vida + Amor Flor de...  38.16  jequiti\n",
       "3   Desodorante Colônia Splash Eu Desperto Blackbe...  36.46  jequiti"
      ]
     },
     "execution_count": 104,
     "metadata": {},
     "output_type": "execute_result"
    }
   ],
   "source": [
    "lojas.tail(5)"
   ]
  },
  {
   "cell_type": "code",
   "execution_count": 101,
   "id": "b1836410",
   "metadata": {},
   "outputs": [
    {
     "data": {
      "text/plain": [
       "<seaborn.axisgrid.FacetGrid at 0x2431d9b8>"
      ]
     },
     "execution_count": 101,
     "metadata": {},
     "output_type": "execute_result"
    },
    {
     "data": {
      "image/png": "[encoded data removed]",
      "text/plain": [
       "<Figure size 720x360 with 1 Axes>"
      ]
     },
     "metadata": {
      "needs_background": "light"
     },
     "output_type": "display_data"
    }
   ],
   "source": [
    "sns.catplot(x='preco', y='loja', data=lojas, height=5, aspect=2)"
   ]
  },
  {
   "cell_type": "code",
   "execution_count": null,
   "id": "46b708b3",
   "metadata": {},
   "outputs": [],
   "source": []
  }
 ],
 "metadata": {
  "kernelspec": {
   "display_name": "Python 3",
   "language": "python",
   "name": "python3"
  },
  "language_info": {
   "codemirror_mode": {
    "name": "ipython",
    "version": 3
   },
   "file_extension": ".py",
   "mimetype": "text/x-python",
   "name": "python",
   "nbconvert_exporter": "python",
   "pygments_lexer": "ipython3",
   "version": "3.8.8"
  }
 },
 "nbformat": 4,
 "nbformat_minor": 5
}
