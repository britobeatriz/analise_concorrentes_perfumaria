{
 "cells": [
  {
   "cell_type": "markdown",
   "id": "c701bdb1",
   "metadata": {},
   "source": [
    "# Bibliotecas"
   ]
  },
  {
   "cell_type": "code",
   "execution_count": 240,
   "id": "be796184",
   "metadata": {},
   "outputs": [],
   "source": [
    "import pandas as pd\n",
    "import seaborn as sns\n",
    "import itertools\n",
    "\n",
    "sns.set(rc={'figure.figsize':(11.7,8.27)})"
   ]
  },
  {
   "cell_type": "markdown",
   "id": "9e1b8de9",
   "metadata": {},
   "source": [
    "## Datasets"
   ]
  },
  {
   "cell_type": "code",
   "execution_count": 241,
   "id": "9a5f901e",
   "metadata": {},
   "outputs": [],
   "source": [
    "body_splash_a = pd.read_csv('../perfumaria/dados/body_splash_a.csv')\n",
    "body_splash_j = pd.read_csv('../perfumaria/dados/body_splash_j.csv')\n",
    "antitranspirante_a = pd.read_csv('../perfumaria/dados/antitranspirante_a.csv')\n",
    "antitranspirante_j = pd.read_csv('../perfumaria/dados/antitranspirante_j.csv')\n",
    "shampoo_a = pd.read_csv('../perfumaria/dados/shampoo_a.csv')\n",
    "shampoo_j = pd.read_csv('../perfumaria/dados/shampoo_j.csv')\n",
    "sabonete_a = pd.read_csv('../perfumaria/dados/sabonete_a.csv')\n",
    "sabonete_j = pd.read_csv('../perfumaria/dados/sabonete_j.csv')"
   ]
  },
  {
   "cell_type": "markdown",
   "id": "3d860cc5",
   "metadata": {},
   "source": [
    "### Body Splash"
   ]
  },
  {
   "cell_type": "code",
   "execution_count": 242,
   "id": "3ad485db",
   "metadata": {},
   "outputs": [],
   "source": [
    "body_splash_a['loja'] = 'avon'\n",
    "body_splash_j['loja'] = 'jequiti'"
   ]
  },
  {
   "cell_type": "code",
   "execution_count": 243,
   "id": "6386ac8d",
   "metadata": {},
   "outputs": [],
   "source": [
    "# concatenando dataframes #\n",
    "body_splash= pd.concat([body_splash_a,body_splash_j])\n",
    "#  #  #  #\n",
    "\n",
    "# removendo a coluna 'Unnamed: 0' #\n",
    "body_splash = body_splash.drop(columns={'Unnamed: 0'})\n",
    "#  #  #  #"
   ]
  },
  {
   "cell_type": "code",
   "execution_count": 244,
   "id": "80d0b4ad",
   "metadata": {},
   "outputs": [],
   "source": [
    "# transformando str em float #\n",
    "body_splash['preco'] = body_splash['preco'].astype(float)\n",
    "#  #  #  #"
   ]
  },
  {
   "cell_type": "code",
   "execution_count": 245,
   "id": "c61507d3",
   "metadata": {},
   "outputs": [],
   "source": [
    "# ordenando preços #\n",
    "body_splash = body_splash.sort_values('preco')\n",
    "#  #  #  #"
   ]
  },
  {
   "cell_type": "code",
   "execution_count": 246,
   "id": "47aa6b5b",
   "metadata": {},
   "outputs": [
    {
     "data": {
      "text/html": [
       "<div>\n",
       "<style scoped>\n",
       "    .dataframe tbody tr th:only-of-type {\n",
       "        vertical-align: middle;\n",
       "    }\n",
       "\n",
       "    .dataframe tbody tr th {\n",
       "        vertical-align: top;\n",
       "    }\n",
       "\n",
       "    .dataframe thead th {\n",
       "        text-align: right;\n",
       "    }\n",
       "</style>\n",
       "<table border=\"1\" class=\"dataframe\">\n",
       "  <thead>\n",
       "    <tr style=\"text-align: right;\">\n",
       "      <th></th>\n",
       "      <th>mean</th>\n",
       "      <th>std</th>\n",
       "      <th>min</th>\n",
       "      <th>25%</th>\n",
       "      <th>50%</th>\n",
       "      <th>75%</th>\n",
       "      <th>max</th>\n",
       "    </tr>\n",
       "    <tr>\n",
       "      <th>loja</th>\n",
       "      <th></th>\n",
       "      <th></th>\n",
       "      <th></th>\n",
       "      <th></th>\n",
       "      <th></th>\n",
       "      <th></th>\n",
       "      <th></th>\n",
       "    </tr>\n",
       "  </thead>\n",
       "  <tbody>\n",
       "    <tr>\n",
       "      <th>avon</th>\n",
       "      <td>22.140</td>\n",
       "      <td>12.559817</td>\n",
       "      <td>0.00</td>\n",
       "      <td>12.39</td>\n",
       "      <td>23.99</td>\n",
       "      <td>23.990</td>\n",
       "      <td>44.90</td>\n",
       "    </tr>\n",
       "    <tr>\n",
       "      <th>jequiti</th>\n",
       "      <td>36.885</td>\n",
       "      <td>0.850000</td>\n",
       "      <td>36.46</td>\n",
       "      <td>36.46</td>\n",
       "      <td>36.46</td>\n",
       "      <td>36.885</td>\n",
       "      <td>38.16</td>\n",
       "    </tr>\n",
       "  </tbody>\n",
       "</table>\n",
       "</div>"
      ],
      "text/plain": [
       "           mean        std    min    25%    50%     75%    max\n",
       "loja                                                          \n",
       "avon     22.140  12.559817   0.00  12.39  23.99  23.990  44.90\n",
       "jequiti  36.885   0.850000  36.46  36.46  36.46  36.885  38.16"
      ]
     },
     "execution_count": 246,
     "metadata": {},
     "output_type": "execute_result"
    }
   ],
   "source": [
    "# estatistica #\n",
    "analise_bs = body_splash.groupby('loja').describe()['preco']\n",
    "analise_bs = analise_bs.drop(columns={'count'})\n",
    "analise_bs\n",
    "#  #  #  #"
   ]
  },
  {
   "cell_type": "code",
   "execution_count": 247,
   "id": "f1d3503e",
   "metadata": {},
   "outputs": [
    {
     "data": {
      "text/html": [
       "<div>\n",
       "<style scoped>\n",
       "    .dataframe tbody tr th:only-of-type {\n",
       "        vertical-align: middle;\n",
       "    }\n",
       "\n",
       "    .dataframe tbody tr th {\n",
       "        vertical-align: top;\n",
       "    }\n",
       "\n",
       "    .dataframe thead th {\n",
       "        text-align: right;\n",
       "    }\n",
       "</style>\n",
       "<table border=\"1\" class=\"dataframe\">\n",
       "  <thead>\n",
       "    <tr style=\"text-align: right;\">\n",
       "      <th></th>\n",
       "      <th>loja</th>\n",
       "      <th>atributo</th>\n",
       "      <th>valor</th>\n",
       "    </tr>\n",
       "  </thead>\n",
       "  <tbody>\n",
       "    <tr>\n",
       "      <th>0</th>\n",
       "      <td>avon</td>\n",
       "      <td>mean</td>\n",
       "      <td>22.140000</td>\n",
       "    </tr>\n",
       "    <tr>\n",
       "      <th>1</th>\n",
       "      <td>avon</td>\n",
       "      <td>std</td>\n",
       "      <td>12.559817</td>\n",
       "    </tr>\n",
       "    <tr>\n",
       "      <th>2</th>\n",
       "      <td>avon</td>\n",
       "      <td>min</td>\n",
       "      <td>0.000000</td>\n",
       "    </tr>\n",
       "  </tbody>\n",
       "</table>\n",
       "</div>"
      ],
      "text/plain": [
       "   loja atributo      valor\n",
       "0  avon     mean  22.140000\n",
       "1  avon      std  12.559817\n",
       "2  avon      min   0.000000"
      ]
     },
     "execution_count": 247,
     "metadata": {},
     "output_type": "execute_result"
    }
   ],
   "source": [
    "# tranformando describe #\n",
    "transform_describe = pd.DataFrame(columns=['loja', 'atributo', 'valor'])\n",
    "for loja, atributo in itertools.product(analise_bs.index, analise_bs.columns):\n",
    "    valor = analise_bs.at[loja, atributo]\n",
    "    transform_describe = transform_describe.append({'loja': loja, 'atributo': atributo, 'valor': valor},\n",
    "                           ignore_index=True)\n",
    "    \n",
    "transform_describe.head(3)\n",
    "#  #  #  #"
   ]
  },
  {
   "cell_type": "markdown",
   "id": "06e78c2f",
   "metadata": {},
   "source": [
    "#### Analises "
   ]
  },
  {
   "cell_type": "code",
   "execution_count": 248,
   "id": "b1836410",
   "metadata": {},
   "outputs": [
    {
     "data": {
      "text/plain": [
       "<seaborn.axisgrid.FacetGrid at 0x1d098da8>"
      ]
     },
     "execution_count": 248,
     "metadata": {},
     "output_type": "execute_result"
    },
    {
     "data": {
      "image/png": "[encoded data removed]",
      "text/plain": [
       "<Figure size 720x360 with 1 Axes>"
      ]
     },
     "metadata": {},
     "output_type": "display_data"
    }
   ],
   "source": [
    "sns.catplot(x='loja', y='preco', data=body_splash, height=5, aspect=2)"
   ]
  },
  {
   "cell_type": "markdown",
   "id": "fdc08ca6",
   "metadata": {},
   "source": [
    "O gráfico mostra a distruibuição de preços de body splashs de cada loja, sendo possivel observar como estão sendo espalhados os preços dos produtos. A partir de uma perspectiva mais analítica, é visivel que a Avon possui uma distruibuição de preço mais 'espalhada' em relaçao a Jequiti, englobando maiores faixas de preço, logo, a Avon possui um arsenal maior de body splash. "
   ]
  },
  {
   "cell_type": "code",
   "execution_count": 249,
   "id": "9c0c606e",
   "metadata": {},
   "outputs": [
    {
     "data": {
      "text/plain": [
       "<AxesSubplot:xlabel='loja', ylabel='preco'>"
      ]
     },
     "execution_count": 249,
     "metadata": {},
     "output_type": "execute_result"
    },
    {
     "data": {
      "image/png": "[encoded data removed]",
      "text/plain": [
       "<Figure size 842.4x595.44 with 1 Axes>"
      ]
     },
     "metadata": {},
     "output_type": "display_data"
    }
   ],
   "source": [
    "sns.violinplot(x='loja', y='preco', data=body_splash)"
   ]
  },
  {
   "cell_type": "markdown",
   "id": "1b406168",
   "metadata": {},
   "source": [
    "É possivel notar que cada uma das lojas possui uma concentração de preços em diferentes faixas, a Jequiti possui uma expressiva quantidade de produtos na faixa de R$ 35,00, enquanto os preços da Avon se concentram mais uniformimente em diferentes faixas. A partir desse gráfico, também é possível visualizar de forma clara o piso e o teto de cada loja.\n",
    "\n",
    "Obs: considerei como \"0,0\" produtos que estavam indisponiveis, logo, é possível notar que a Avon possui alguns produtos indisponiveis no estoque enquanto a Jequiti está com todos os produtos disponiveis."
   ]
  },
  {
   "cell_type": "code",
   "execution_count": 250,
   "id": "ebf16b8c",
   "metadata": {},
   "outputs": [
    {
     "data": {
      "text/plain": [
       "<AxesSubplot:xlabel='loja', ylabel='preco'>"
      ]
     },
     "execution_count": 250,
     "metadata": {},
     "output_type": "execute_result"
    },
    {
     "data": {
      "image/png": "[encoded data removed]",
      "text/plain": [
       "<Figure size 842.4x595.44 with 1 Axes>"
      ]
     },
     "metadata": {},
     "output_type": "display_data"
    }
   ],
   "source": [
    "sns.boxplot(x='loja', y='preco', data=body_splash)"
   ]
  },
  {
   "cell_type": "markdown",
   "id": "ea20b47d",
   "metadata": {},
   "source": [
    "Neste gráfico podemos observar o bloco de agrupamento dos preços, por exemplo, a Jequiti possui uma caixa mais achatada, nos dizendo que a informação daquela parte dos preços é de alta previsibilidade, ao mesmo tempo em que há pouca variabilidade. A loja da Avon, pelo contrário, é que possui maior variabilidade , enquanto que sua previsibilidade torna-se um pouco mais escassa."
   ]
  },
  {
   "cell_type": "code",
   "execution_count": 251,
   "id": "264438d7",
   "metadata": {},
   "outputs": [
    {
     "data": {
      "text/plain": [
       "<AxesSubplot:xlabel='atributo', ylabel='valor'>"
      ]
     },
     "execution_count": 251,
     "metadata": {},
     "output_type": "execute_result"
    },
    {
     "data": {
      "image/png": "[encoded data removed]",
      "text/plain": [
       "<Figure size 842.4x595.44 with 1 Axes>"
      ]
     },
     "metadata": {},
     "output_type": "display_data"
    }
   ],
   "source": [
    "sns.barplot(x= 'atributo', y = 'valor', hue = 'loja', data = transform_describe)"
   ]
  },
  {
   "cell_type": "markdown",
   "id": "012d7408",
   "metadata": {},
   "source": [
    "O maior desvio padrao é da avon, confirmando a análise anterior no boxplot."
   ]
  },
  {
   "cell_type": "markdown",
   "id": "c78fcc42",
   "metadata": {},
   "source": [
    "### Antitranspirante"
   ]
  },
  {
   "cell_type": "code",
   "execution_count": 252,
   "id": "a5c282ad",
   "metadata": {},
   "outputs": [],
   "source": [
    "antitranspirante_a['loja'] = 'avon'\n",
    "antitranspirante_j['loja'] = 'jequiti'"
   ]
  },
  {
   "cell_type": "code",
   "execution_count": 253,
   "id": "73e8f43c",
   "metadata": {},
   "outputs": [],
   "source": [
    "# concatenando dataframes #\n",
    "antitranspirante = pd.concat([antitranspirante_a,antitranspirante_j])\n",
    "#  #  #  #\n",
    "\n",
    "# removendo a coluna 'Unnamed: 0' #\n",
    "antitranspirante = antitranspirante.drop(columns={'Unnamed: 0'})\n",
    "#  #  #  #"
   ]
  },
  {
   "cell_type": "code",
   "execution_count": 254,
   "id": "48856e5a",
   "metadata": {},
   "outputs": [],
   "source": [
    "# transformando str em float #\n",
    "antitranspirante['preco'] = antitranspirante['preco'].astype(float)\n",
    "#  #  #  #"
   ]
  },
  {
   "cell_type": "code",
   "execution_count": 255,
   "id": "53899482",
   "metadata": {},
   "outputs": [],
   "source": [
    "# ordenando preços #\n",
    "antitranspirante = antitranspirante.sort_values('preco')\n",
    "#  #  #  #"
   ]
  },
  {
   "cell_type": "code",
   "execution_count": 256,
   "id": "701fa1f5",
   "metadata": {},
   "outputs": [
    {
     "data": {
      "text/html": [
       "<div>\n",
       "<style scoped>\n",
       "    .dataframe tbody tr th:only-of-type {\n",
       "        vertical-align: middle;\n",
       "    }\n",
       "\n",
       "    .dataframe tbody tr th {\n",
       "        vertical-align: top;\n",
       "    }\n",
       "\n",
       "    .dataframe thead th {\n",
       "        text-align: right;\n",
       "    }\n",
       "</style>\n",
       "<table border=\"1\" class=\"dataframe\">\n",
       "  <thead>\n",
       "    <tr style=\"text-align: right;\">\n",
       "      <th></th>\n",
       "      <th>mean</th>\n",
       "      <th>std</th>\n",
       "      <th>min</th>\n",
       "      <th>25%</th>\n",
       "      <th>50%</th>\n",
       "      <th>75%</th>\n",
       "      <th>max</th>\n",
       "    </tr>\n",
       "    <tr>\n",
       "      <th>loja</th>\n",
       "      <th></th>\n",
       "      <th></th>\n",
       "      <th></th>\n",
       "      <th></th>\n",
       "      <th></th>\n",
       "      <th></th>\n",
       "      <th></th>\n",
       "    </tr>\n",
       "  </thead>\n",
       "  <tbody>\n",
       "    <tr>\n",
       "      <th>avon</th>\n",
       "      <td>8.507045</td>\n",
       "      <td>4.381229</td>\n",
       "      <td>0.00</td>\n",
       "      <td>6.99</td>\n",
       "      <td>6.99</td>\n",
       "      <td>7.99</td>\n",
       "      <td>17.99</td>\n",
       "    </tr>\n",
       "    <tr>\n",
       "      <th>jequiti</th>\n",
       "      <td>26.618750</td>\n",
       "      <td>36.258019</td>\n",
       "      <td>11.82</td>\n",
       "      <td>11.82</td>\n",
       "      <td>14.36</td>\n",
       "      <td>16.91</td>\n",
       "      <td>149.90</td>\n",
       "    </tr>\n",
       "  </tbody>\n",
       "</table>\n",
       "</div>"
      ],
      "text/plain": [
       "              mean        std    min    25%    50%    75%     max\n",
       "loja                                                             \n",
       "avon      8.507045   4.381229   0.00   6.99   6.99   7.99   17.99\n",
       "jequiti  26.618750  36.258019  11.82  11.82  14.36  16.91  149.90"
      ]
     },
     "execution_count": 256,
     "metadata": {},
     "output_type": "execute_result"
    }
   ],
   "source": [
    "# estatistica #\n",
    "analise_a = antitranspirante.groupby('loja').describe()['preco']\n",
    "analise_a = analise_a.drop(columns={'count'})\n",
    "analise_a\n",
    "#  #  #  #"
   ]
  },
  {
   "cell_type": "code",
   "execution_count": 257,
   "id": "2f88b9dc",
   "metadata": {},
   "outputs": [
    {
     "data": {
      "text/html": [
       "<div>\n",
       "<style scoped>\n",
       "    .dataframe tbody tr th:only-of-type {\n",
       "        vertical-align: middle;\n",
       "    }\n",
       "\n",
       "    .dataframe tbody tr th {\n",
       "        vertical-align: top;\n",
       "    }\n",
       "\n",
       "    .dataframe thead th {\n",
       "        text-align: right;\n",
       "    }\n",
       "</style>\n",
       "<table border=\"1\" class=\"dataframe\">\n",
       "  <thead>\n",
       "    <tr style=\"text-align: right;\">\n",
       "      <th></th>\n",
       "      <th>loja</th>\n",
       "      <th>atributo</th>\n",
       "      <th>valor</th>\n",
       "    </tr>\n",
       "  </thead>\n",
       "  <tbody>\n",
       "    <tr>\n",
       "      <th>0</th>\n",
       "      <td>avon</td>\n",
       "      <td>mean</td>\n",
       "      <td>8.507045</td>\n",
       "    </tr>\n",
       "    <tr>\n",
       "      <th>1</th>\n",
       "      <td>avon</td>\n",
       "      <td>std</td>\n",
       "      <td>4.381229</td>\n",
       "    </tr>\n",
       "    <tr>\n",
       "      <th>2</th>\n",
       "      <td>avon</td>\n",
       "      <td>min</td>\n",
       "      <td>0.000000</td>\n",
       "    </tr>\n",
       "  </tbody>\n",
       "</table>\n",
       "</div>"
      ],
      "text/plain": [
       "   loja atributo     valor\n",
       "0  avon     mean  8.507045\n",
       "1  avon      std  4.381229\n",
       "2  avon      min  0.000000"
      ]
     },
     "execution_count": 257,
     "metadata": {},
     "output_type": "execute_result"
    }
   ],
   "source": [
    "# tranformando describe #\n",
    "transform_describe = pd.DataFrame(columns=['loja', 'atributo', 'valor'])\n",
    "for loja, atributo in itertools.product(analise_a.index, analise_a.columns):\n",
    "    valor = analise_a.at[loja, atributo]\n",
    "    transform_describe = transform_describe.append({'loja': loja, 'atributo': atributo, 'valor': valor},\n",
    "                           ignore_index=True)\n",
    "    \n",
    "transform_describe.head(3)\n",
    "#  #  #  #"
   ]
  },
  {
   "cell_type": "markdown",
   "id": "3c738e14",
   "metadata": {},
   "source": [
    "#### Analises"
   ]
  },
  {
   "cell_type": "code",
   "execution_count": 258,
   "id": "0804c89b",
   "metadata": {},
   "outputs": [
    {
     "data": {
      "text/plain": [
       "<seaborn.axisgrid.FacetGrid at 0x1dace2c8>"
      ]
     },
     "execution_count": 258,
     "metadata": {},
     "output_type": "execute_result"
    },
    {
     "data": {
      "image/png": "[encoded data removed]",
      "text/plain": [
       "<Figure size 720x360 with 1 Axes>"
      ]
     },
     "metadata": {},
     "output_type": "display_data"
    }
   ],
   "source": [
    "sns.catplot(x='loja', y='preco', data=antitranspirante, height=5, aspect=2)"
   ]
  },
  {
   "cell_type": "markdown",
   "id": "06ff0a23",
   "metadata": {},
   "source": [
    "A distribuição de preços de antitranspirantes de cada loja não está tao diferente, embora a Jequiti tenha alguns outliers."
   ]
  },
  {
   "cell_type": "code",
   "execution_count": 259,
   "id": "fab606c7",
   "metadata": {},
   "outputs": [
    {
     "data": {
      "text/plain": [
       "<AxesSubplot:xlabel='loja', ylabel='preco'>"
      ]
     },
     "execution_count": 259,
     "metadata": {},
     "output_type": "execute_result"
    },
    {
     "data": {
      "image/png": "[encoded data removed]",
      "text/plain": [
       "<Figure size 842.4x595.44 with 1 Axes>"
      ]
     },
     "metadata": {},
     "output_type": "display_data"
    }
   ],
   "source": [
    "sns.violinplot(x='loja', y='preco', data=antitranspirante)"
   ]
  },
  {
   "cell_type": "markdown",
   "id": "38990568",
   "metadata": {},
   "source": [
    "É possivel notar que cada uma das lojas possui uma concentração de preços que não estão tao distantes de uma loja para outra, porem a Avon possui maior concentração de preços em uma determinada faixa enquanto a Jequiti se concentra de forma mais uniforme em outras faixas de preço, o que significa uma maior variabilidade de preços."
   ]
  },
  {
   "cell_type": "code",
   "execution_count": 260,
   "id": "619d419b",
   "metadata": {},
   "outputs": [
    {
     "data": {
      "text/plain": [
       "<AxesSubplot:xlabel='loja', ylabel='preco'>"
      ]
     },
     "execution_count": 260,
     "metadata": {},
     "output_type": "execute_result"
    },
    {
     "data": {
      "image/png": "[encoded data removed]",
      "text/plain": [
       "<Figure size 842.4x595.44 with 1 Axes>"
      ]
     },
     "metadata": {},
     "output_type": "display_data"
    }
   ],
   "source": [
    "sns.boxplot(x='loja', y='preco', data=antitranspirante)"
   ]
  },
  {
   "cell_type": "markdown",
   "id": "943f9f61",
   "metadata": {},
   "source": [
    "A Avon possui uma caixa mais achatada, nos dizendo que a informação daquela parte dos preços é de alta previsibilidade, ao mesmo tempo em que há pouca variabilidade de preço."
   ]
  },
  {
   "cell_type": "code",
   "execution_count": 261,
   "id": "a44484dc",
   "metadata": {},
   "outputs": [
    {
     "data": {
      "text/plain": [
       "<AxesSubplot:xlabel='atributo', ylabel='valor'>"
      ]
     },
     "execution_count": 261,
     "metadata": {},
     "output_type": "execute_result"
    },
    {
     "data": {
      "image/png": "[encoded data removed]",
      "text/plain": [
       "<Figure size 842.4x595.44 with 1 Axes>"
      ]
     },
     "metadata": {},
     "output_type": "display_data"
    }
   ],
   "source": [
    "sns.barplot(x= 'atributo', y = 'valor', hue = 'loja', data = transform_describe)"
   ]
  },
  {
   "cell_type": "markdown",
   "id": "82f4533a",
   "metadata": {},
   "source": [
    "O maior desvio padrao é da Jequiti, confirmando a análise anterior no boxplot."
   ]
  },
  {
   "cell_type": "markdown",
   "id": "f2606198",
   "metadata": {},
   "source": [
    "### Shampoo"
   ]
  },
  {
   "cell_type": "code",
   "execution_count": 262,
   "id": "ea523ffd",
   "metadata": {},
   "outputs": [],
   "source": [
    "shampoo_a['loja'] = 'avon'\n",
    "shampoo_j['loja'] = 'jequiti'"
   ]
  },
  {
   "cell_type": "code",
   "execution_count": 263,
   "id": "405bafc2",
   "metadata": {},
   "outputs": [],
   "source": [
    "# concatenando dataframes #\n",
    "shampoo = pd.concat([shampoo_a,shampoo_j])\n",
    "#  #  #  #\n",
    "\n",
    "# removendo a coluna 'Unnamed: 0' #\n",
    "shampoo = shampoo.drop(columns={'Unnamed: 0'})\n",
    "#  #  #  #"
   ]
  },
  {
   "cell_type": "code",
   "execution_count": 264,
   "id": "2b6943f1",
   "metadata": {},
   "outputs": [],
   "source": [
    "# transformando str em float #\n",
    "shampoo['preco'] = shampoo['preco'].astype(float)\n",
    "#  #  #  #"
   ]
  },
  {
   "cell_type": "code",
   "execution_count": 265,
   "id": "f0d05e58",
   "metadata": {},
   "outputs": [],
   "source": [
    "# ordenando preços #\n",
    "shampoo = shampoo.sort_values('preco')\n",
    "#  #  #  #"
   ]
  },
  {
   "cell_type": "code",
   "execution_count": 266,
   "id": "e22aedac",
   "metadata": {},
   "outputs": [
    {
     "data": {
      "text/html": [
       "<div>\n",
       "<style scoped>\n",
       "    .dataframe tbody tr th:only-of-type {\n",
       "        vertical-align: middle;\n",
       "    }\n",
       "\n",
       "    .dataframe tbody tr th {\n",
       "        vertical-align: top;\n",
       "    }\n",
       "\n",
       "    .dataframe thead th {\n",
       "        text-align: right;\n",
       "    }\n",
       "</style>\n",
       "<table border=\"1\" class=\"dataframe\">\n",
       "  <thead>\n",
       "    <tr style=\"text-align: right;\">\n",
       "      <th></th>\n",
       "      <th>mean</th>\n",
       "      <th>std</th>\n",
       "      <th>min</th>\n",
       "      <th>25%</th>\n",
       "      <th>50%</th>\n",
       "      <th>75%</th>\n",
       "      <th>max</th>\n",
       "    </tr>\n",
       "    <tr>\n",
       "      <th>loja</th>\n",
       "      <th></th>\n",
       "      <th></th>\n",
       "      <th></th>\n",
       "      <th></th>\n",
       "      <th></th>\n",
       "      <th></th>\n",
       "      <th></th>\n",
       "    </tr>\n",
       "  </thead>\n",
       "  <tbody>\n",
       "    <tr>\n",
       "      <th>avon</th>\n",
       "      <td>15.148824</td>\n",
       "      <td>11.909970</td>\n",
       "      <td>0.00</td>\n",
       "      <td>1.875</td>\n",
       "      <td>16.99</td>\n",
       "      <td>19.99</td>\n",
       "      <td>49.99</td>\n",
       "    </tr>\n",
       "    <tr>\n",
       "      <th>jequiti</th>\n",
       "      <td>48.255500</td>\n",
       "      <td>37.783034</td>\n",
       "      <td>11.82</td>\n",
       "      <td>23.925</td>\n",
       "      <td>31.80</td>\n",
       "      <td>64.90</td>\n",
       "      <td>149.94</td>\n",
       "    </tr>\n",
       "  </tbody>\n",
       "</table>\n",
       "</div>"
      ],
      "text/plain": [
       "              mean        std    min     25%    50%    75%     max\n",
       "loja                                                              \n",
       "avon     15.148824  11.909970   0.00   1.875  16.99  19.99   49.99\n",
       "jequiti  48.255500  37.783034  11.82  23.925  31.80  64.90  149.94"
      ]
     },
     "execution_count": 266,
     "metadata": {},
     "output_type": "execute_result"
    }
   ],
   "source": [
    "# estatistica #\n",
    "analise_sh = shampoo.groupby('loja').describe()['preco']\n",
    "analise_sh = analise_sh.drop(columns={'count'})\n",
    "analise_sh\n",
    "#  #  #  #"
   ]
  },
  {
   "cell_type": "code",
   "execution_count": 267,
   "id": "f2477ede",
   "metadata": {},
   "outputs": [
    {
     "data": {
      "text/html": [
       "<div>\n",
       "<style scoped>\n",
       "    .dataframe tbody tr th:only-of-type {\n",
       "        vertical-align: middle;\n",
       "    }\n",
       "\n",
       "    .dataframe tbody tr th {\n",
       "        vertical-align: top;\n",
       "    }\n",
       "\n",
       "    .dataframe thead th {\n",
       "        text-align: right;\n",
       "    }\n",
       "</style>\n",
       "<table border=\"1\" class=\"dataframe\">\n",
       "  <thead>\n",
       "    <tr style=\"text-align: right;\">\n",
       "      <th></th>\n",
       "      <th>loja</th>\n",
       "      <th>atributo</th>\n",
       "      <th>valor</th>\n",
       "    </tr>\n",
       "  </thead>\n",
       "  <tbody>\n",
       "    <tr>\n",
       "      <th>0</th>\n",
       "      <td>avon</td>\n",
       "      <td>mean</td>\n",
       "      <td>8.507045</td>\n",
       "    </tr>\n",
       "    <tr>\n",
       "      <th>1</th>\n",
       "      <td>avon</td>\n",
       "      <td>std</td>\n",
       "      <td>4.381229</td>\n",
       "    </tr>\n",
       "    <tr>\n",
       "      <th>2</th>\n",
       "      <td>avon</td>\n",
       "      <td>min</td>\n",
       "      <td>0.000000</td>\n",
       "    </tr>\n",
       "  </tbody>\n",
       "</table>\n",
       "</div>"
      ],
      "text/plain": [
       "   loja atributo     valor\n",
       "0  avon     mean  8.507045\n",
       "1  avon      std  4.381229\n",
       "2  avon      min  0.000000"
      ]
     },
     "execution_count": 267,
     "metadata": {},
     "output_type": "execute_result"
    }
   ],
   "source": [
    "# tranformando describe #\n",
    "transform_describe = pd.DataFrame(columns=['loja', 'atributo', 'valor'])\n",
    "for loja, atributo in itertools.product(analise_a.index, analise_a.columns):\n",
    "    valor = analise_a.at[loja, atributo]\n",
    "    transform_describe = transform_describe.append({'loja': loja, 'atributo': atributo, 'valor': valor},\n",
    "                           ignore_index=True)\n",
    "    \n",
    "transform_describe.head(3)\n",
    "#  #  #  #"
   ]
  },
  {
   "cell_type": "markdown",
   "id": "67f0e6c8",
   "metadata": {},
   "source": [
    "#### Analises"
   ]
  },
  {
   "cell_type": "code",
   "execution_count": 268,
   "id": "89f79e7c",
   "metadata": {},
   "outputs": [
    {
     "data": {
      "text/plain": [
       "<seaborn.axisgrid.FacetGrid at 0x1d040748>"
      ]
     },
     "execution_count": 268,
     "metadata": {},
     "output_type": "execute_result"
    },
    {
     "data": {
      "image/png": "[encoded data removed]",
      "text/plain": [
       "<Figure size 720x360 with 1 Axes>"
      ]
     },
     "metadata": {},
     "output_type": "display_data"
    }
   ],
   "source": [
    "sns.catplot(x='loja', y='preco', data=shampoo, height=5, aspect=2)"
   ]
  },
  {
   "cell_type": "markdown",
   "id": "157ff4eb",
   "metadata": {},
   "source": [
    "Os preços da Jequiti estão mais espalhados, o que significa mais variabilidade de preços enquanto os da Avon estão mais condensados."
   ]
  },
  {
   "cell_type": "code",
   "execution_count": 269,
   "id": "1d3bfd80",
   "metadata": {},
   "outputs": [
    {
     "data": {
      "text/plain": [
       "<AxesSubplot:xlabel='loja', ylabel='preco'>"
      ]
     },
     "execution_count": 269,
     "metadata": {},
     "output_type": "execute_result"
    },
    {
     "data": {
      "image/png": "[encoded data removed]",
      "text/plain": [
       "<Figure size 842.4x595.44 with 1 Axes>"
      ]
     },
     "metadata": {},
     "output_type": "display_data"
    }
   ],
   "source": [
    "sns.violinplot(x='loja', y='preco', data=shampoo)"
   ]
  },
  {
   "cell_type": "markdown",
   "id": "378be583",
   "metadata": {},
   "source": [
    "A Avon possui maior concentração de preços em uma determinada faixa enquanto a Jequiti se concentra de forma mais uniforme em outras faixas de preço, o que significa uma maior variabilidade de preços."
   ]
  },
  {
   "cell_type": "code",
   "execution_count": 270,
   "id": "e523c02e",
   "metadata": {},
   "outputs": [
    {
     "data": {
      "text/plain": [
       "<AxesSubplot:xlabel='loja', ylabel='preco'>"
      ]
     },
     "execution_count": 270,
     "metadata": {},
     "output_type": "execute_result"
    },
    {
     "data": {
      "image/png": "[encoded data removed]",
      "text/plain": [
       "<Figure size 842.4x595.44 with 1 Axes>"
      ]
     },
     "metadata": {},
     "output_type": "display_data"
    }
   ],
   "source": [
    "sns.boxplot(x='loja', y='preco', data=shampoo)"
   ]
  },
  {
   "cell_type": "markdown",
   "id": "abbaa876",
   "metadata": {},
   "source": [
    "A Avon possui uma caixa mais achatada, nos dizendo que a informação daquela parte dos preços é de alta previsibilidade, ao mesmo tempo em que há pouca variabilidade de preço."
   ]
  },
  {
   "cell_type": "code",
   "execution_count": 271,
   "id": "a4411583",
   "metadata": {},
   "outputs": [
    {
     "data": {
      "text/plain": [
       "<AxesSubplot:xlabel='atributo', ylabel='valor'>"
      ]
     },
     "execution_count": 271,
     "metadata": {},
     "output_type": "execute_result"
    },
    {
     "data": {
      "image/png": "[encoded data removed]",
      "text/plain": [
       "<Figure size 842.4x595.44 with 1 Axes>"
      ]
     },
     "metadata": {},
     "output_type": "display_data"
    }
   ],
   "source": [
    "sns.barplot(x= 'atributo', y = 'valor', hue = 'loja', data = transform_describe)"
   ]
  },
  {
   "cell_type": "markdown",
   "id": "d890aeb5",
   "metadata": {},
   "source": [
    "O maior desvio padrao é da Jequiti, confirmando a análise anterior no boxplot."
   ]
  },
  {
   "cell_type": "markdown",
   "id": "f02395c0",
   "metadata": {},
   "source": [
    "### Sabonete"
   ]
  },
  {
   "cell_type": "code",
   "execution_count": null,
   "id": "06d0f31c",
   "metadata": {},
   "outputs": [],
   "source": []
  }
 ],
 "metadata": {
  "kernelspec": {
   "display_name": "Python 3",
   "language": "python",
   "name": "python3"
  },
  "language_info": {
   "codemirror_mode": {
    "name": "ipython",
    "version": 3
   },
   "file_extension": ".py",
   "mimetype": "text/x-python",
   "name": "python",
   "nbconvert_exporter": "python",
   "pygments_lexer": "ipython3",
   "version": "3.8.8"
  }
 },
 "nbformat": 4,
 "nbformat_minor": 5
}
