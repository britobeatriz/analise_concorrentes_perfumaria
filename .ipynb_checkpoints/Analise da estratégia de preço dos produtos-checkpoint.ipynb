{
 "cells": [
  {
   "cell_type": "markdown",
   "id": "c701bdb1",
   "metadata": {},
   "source": [
    "# Bibliotecas"
   ]
  },
  {
   "cell_type": "code",
   "execution_count": 207,
   "id": "be796184",
   "metadata": {},
   "outputs": [],
   "source": [
    "import pandas as pd\n",
    "import seaborn as sns\n",
    "import itertools\n",
    "\n",
    "sns.set(rc={'figure.figsize':(11.7,8.27)})"
   ]
  },
  {
   "cell_type": "markdown",
   "id": "9e1b8de9",
   "metadata": {},
   "source": [
    "## Datasets"
   ]
  },
  {
   "cell_type": "code",
   "execution_count": 208,
   "id": "9a5f901e",
   "metadata": {},
   "outputs": [],
   "source": [
    "body_splash_a = pd.read_csv('../perfumaria/dados/body_splash_a.csv')\n",
    "body_splash_j = pd.read_csv('../perfumaria/dados/body_splash_j.csv')\n",
    "antitranspirante_a = pd.read_csv('../perfumaria/dados/antitranspirante_a.csv')\n",
    "antitranspirante_j = pd.read_csv('../perfumaria/dados/antitranspirante_j.csv')\n",
    "shampoo_a = pd.read_csv('../perfumaria/dados/shampoo_a.csv')\n",
    "shampoo_j = pd.read_csv('../perfumaria/dados/shampoo_j.csv')\n",
    "sabonete_a = pd.read_csv('../perfumaria/dados/sabonete_a.csv')\n",
    "sabonete_j = pd.read_csv('../perfumaria/dados/sabonete_j.csv')"
   ]
  },
  {
   "cell_type": "markdown",
   "id": "3d860cc5",
   "metadata": {},
   "source": [
    "### Body Splash"
   ]
  },
  {
   "cell_type": "code",
   "execution_count": 209,
   "id": "3ad485db",
   "metadata": {},
   "outputs": [],
   "source": [
    "body_splash_a['loja'] = 'avon'\n",
    "body_splash_j['loja'] = 'jequiti'"
   ]
  },
  {
   "cell_type": "code",
   "execution_count": 210,
   "id": "6386ac8d",
   "metadata": {},
   "outputs": [],
   "source": [
    "# concatenando dataframes #\n",
    "body_splash= pd.concat([body_splash_a,body_splash_j])\n",
    "#  #  #  #\n",
    "\n",
    "# removendo a coluna 'Unnamed: 0' #\n",
    "body_splash = body_splash.drop(columns={'Unnamed: 0'})\n",
    "#  #  #  #"
   ]
  },
  {
   "cell_type": "code",
   "execution_count": 211,
   "id": "80d0b4ad",
   "metadata": {},
   "outputs": [],
   "source": [
    "# transformando str em float #\n",
    "body_splash['preco'] = body_splash['preco'].astype(float)\n",
    "#  #  #  #"
   ]
  },
  {
   "cell_type": "code",
   "execution_count": 212,
   "id": "c61507d3",
   "metadata": {},
   "outputs": [],
   "source": [
    "# ordenando preços #\n",
    "body_splash = body_splash.sort_values('preco')\n",
    "#  #  #  #"
   ]
  },
  {
   "cell_type": "code",
   "execution_count": 213,
   "id": "e3f47b90",
   "metadata": {},
   "outputs": [
    {
     "data": {
      "text/html": [
       "<div>\n",
       "<style scoped>\n",
       "    .dataframe tbody tr th:only-of-type {\n",
       "        vertical-align: middle;\n",
       "    }\n",
       "\n",
       "    .dataframe tbody tr th {\n",
       "        vertical-align: top;\n",
       "    }\n",
       "\n",
       "    .dataframe thead th {\n",
       "        text-align: right;\n",
       "    }\n",
       "</style>\n",
       "<table border=\"1\" class=\"dataframe\">\n",
       "  <thead>\n",
       "    <tr style=\"text-align: right;\">\n",
       "      <th></th>\n",
       "      <th>mean</th>\n",
       "      <th>std</th>\n",
       "      <th>min</th>\n",
       "      <th>25%</th>\n",
       "      <th>50%</th>\n",
       "      <th>75%</th>\n",
       "      <th>max</th>\n",
       "    </tr>\n",
       "    <tr>\n",
       "      <th>loja</th>\n",
       "      <th></th>\n",
       "      <th></th>\n",
       "      <th></th>\n",
       "      <th></th>\n",
       "      <th></th>\n",
       "      <th></th>\n",
       "      <th></th>\n",
       "    </tr>\n",
       "  </thead>\n",
       "  <tbody>\n",
       "    <tr>\n",
       "      <th>avon</th>\n",
       "      <td>22.140</td>\n",
       "      <td>12.559817</td>\n",
       "      <td>0.00</td>\n",
       "      <td>12.39</td>\n",
       "      <td>23.99</td>\n",
       "      <td>23.990</td>\n",
       "      <td>44.90</td>\n",
       "    </tr>\n",
       "    <tr>\n",
       "      <th>jequiti</th>\n",
       "      <td>36.885</td>\n",
       "      <td>0.850000</td>\n",
       "      <td>36.46</td>\n",
       "      <td>36.46</td>\n",
       "      <td>36.46</td>\n",
       "      <td>36.885</td>\n",
       "      <td>38.16</td>\n",
       "    </tr>\n",
       "  </tbody>\n",
       "</table>\n",
       "</div>"
      ],
      "text/plain": [
       "           mean        std    min    25%    50%     75%    max\n",
       "loja                                                          \n",
       "avon     22.140  12.559817   0.00  12.39  23.99  23.990  44.90\n",
       "jequiti  36.885   0.850000  36.46  36.46  36.46  36.885  38.16"
      ]
     },
     "execution_count": 213,
     "metadata": {},
     "output_type": "execute_result"
    }
   ],
   "source": [
    "# estatistica #\n",
    "analise_bs = body_splash.groupby('loja').describe()['preco']\n",
    "analise_bs = analise_bs.drop(columns={'count'})\n",
    "analise_bs\n",
    "#  #  #  #"
   ]
  },
  {
   "cell_type": "code",
   "execution_count": 214,
   "id": "f31af327",
   "metadata": {},
   "outputs": [
    {
     "data": {
      "text/html": [
       "<div>\n",
       "<style scoped>\n",
       "    .dataframe tbody tr th:only-of-type {\n",
       "        vertical-align: middle;\n",
       "    }\n",
       "\n",
       "    .dataframe tbody tr th {\n",
       "        vertical-align: top;\n",
       "    }\n",
       "\n",
       "    .dataframe thead th {\n",
       "        text-align: right;\n",
       "    }\n",
       "</style>\n",
       "<table border=\"1\" class=\"dataframe\">\n",
       "  <thead>\n",
       "    <tr style=\"text-align: right;\">\n",
       "      <th></th>\n",
       "      <th>loja</th>\n",
       "      <th>atributo</th>\n",
       "      <th>valor</th>\n",
       "    </tr>\n",
       "  </thead>\n",
       "  <tbody>\n",
       "    <tr>\n",
       "      <th>0</th>\n",
       "      <td>avon</td>\n",
       "      <td>mean</td>\n",
       "      <td>22.140000</td>\n",
       "    </tr>\n",
       "    <tr>\n",
       "      <th>1</th>\n",
       "      <td>avon</td>\n",
       "      <td>std</td>\n",
       "      <td>12.559817</td>\n",
       "    </tr>\n",
       "    <tr>\n",
       "      <th>2</th>\n",
       "      <td>avon</td>\n",
       "      <td>min</td>\n",
       "      <td>0.000000</td>\n",
       "    </tr>\n",
       "  </tbody>\n",
       "</table>\n",
       "</div>"
      ],
      "text/plain": [
       "   loja atributo      valor\n",
       "0  avon     mean  22.140000\n",
       "1  avon      std  12.559817\n",
       "2  avon      min   0.000000"
      ]
     },
     "execution_count": 214,
     "metadata": {},
     "output_type": "execute_result"
    }
   ],
   "source": [
    "# tranformando describe #\n",
    "transform_describe = pd.DataFrame(columns=['loja', 'atributo', 'valor'])\n",
    "for loja, atributo in itertools.product(analise_bs.index, analise_bs.columns):\n",
    "    valor = analise_bs.at[loja, atributo]\n",
    "    transform_describe = transform_describe.append({'loja': loja, 'atributo': atributo, 'valor': valor},\n",
    "                           ignore_index=True)\n",
    "    \n",
    "transform_describe.head(3)\n",
    "#  #  #  #"
   ]
  },
  {
   "cell_type": "markdown",
   "id": "bf1bc88c",
   "metadata": {},
   "source": [
    "#### Analises "
   ]
  },
  {
   "cell_type": "code",
   "execution_count": 215,
   "id": "b1836410",
   "metadata": {},
   "outputs": [
    {
     "data": {
      "text/plain": [
       "<seaborn.axisgrid.FacetGrid at 0x157e7b38>"
      ]
     },
     "execution_count": 215,
     "metadata": {},
     "output_type": "execute_result"
    },
    {
     "data": {
      "image/png": "[encoded data removed]",
      "text/plain": [
       "<Figure size 720x360 with 1 Axes>"
      ]
     },
     "metadata": {},
     "output_type": "display_data"
    }
   ],
   "source": [
    "sns.catplot(x='loja', y='preco', data=body_splash, height=5, aspect=2)"
   ]
  },
  {
   "cell_type": "markdown",
   "id": "1058406b",
   "metadata": {},
   "source": [
    "O gráfico mostra a distruibuição de preços de body splashs de cada loja, sendo possivel observar como estão sendo espalhados os preços dos produtos. A partir de uma perspectiva mais analítica, é visivel que a Avon possui uma distruibuição de preço mais 'espalhada' em relaçao a Jequiti, englobando maiores faixas de preço, logo, a Avon possui um arsenal maior de body splash. "
   ]
  },
  {
   "cell_type": "code",
   "execution_count": 216,
   "id": "9c0c606e",
   "metadata": {},
   "outputs": [
    {
     "data": {
      "text/plain": [
       "<AxesSubplot:xlabel='loja', ylabel='preco'>"
      ]
     },
     "execution_count": 216,
     "metadata": {},
     "output_type": "execute_result"
    },
    {
     "data": {
      "image/png": "[encoded data removed]",
      "text/plain": [
       "<Figure size 842.4x595.44 with 1 Axes>"
      ]
     },
     "metadata": {},
     "output_type": "display_data"
    }
   ],
   "source": [
    "sns.violinplot(x='loja', y='preco', data=body_splash)"
   ]
  },
  {
   "cell_type": "markdown",
   "id": "42f5cd6d",
   "metadata": {},
   "source": [
    "É possivel notar que cada uma das lojas possui uma concentração de preços em diferentes faixas, a Jequiti possui uma expressiva quantidade de produtos na faixa de R$ 35,00, enquanto os preços da Avon se concentram mais uniformimente em diferentes faixas. A partir desse gráfico, também é possível visualizar de forma clara o piso e o teto de cada loja.\n",
    "\n",
    "Obs: considerei como \"0,0\" produtos que estavam indisponiveis, logo, é possível notar que a Avon possui alguns produtos indisponiveis no estoque enquanto a Jequiti está com todos os produtos disponiveis."
   ]
  },
  {
   "cell_type": "code",
   "execution_count": 217,
   "id": "8ea1c31b",
   "metadata": {},
   "outputs": [
    {
     "data": {
      "text/plain": [
       "<AxesSubplot:xlabel='loja', ylabel='preco'>"
      ]
     },
     "execution_count": 217,
     "metadata": {},
     "output_type": "execute_result"
    },
    {
     "data": {
      "image/png": "[encoded data removed]",
      "text/plain": [
       "<Figure size 842.4x595.44 with 1 Axes>"
      ]
     },
     "metadata": {},
     "output_type": "display_data"
    }
   ],
   "source": [
    "sns.boxplot(x='loja', y='preco', data=body_splash)"
   ]
  },
  {
   "cell_type": "markdown",
   "id": "4d8170ca",
   "metadata": {},
   "source": [
    "Neste gráfico podemos observar o bloco de agrupamento dos preços, por exemplo, a Jequiti possui uma caixa mais achatada, nos dizendo que a informação daquela parte dos preços é de alta previsibilidade, ao mesmo tempo em que há pouca variabilidade. A loja da Avon, pelo contrário, é que possui maior variabilidade , enquanto que sua previsibilidade torna-se um pouco mais escassa."
   ]
  },
  {
   "cell_type": "code",
   "execution_count": 218,
   "id": "070964a3",
   "metadata": {},
   "outputs": [
    {
     "data": {
      "text/plain": [
       "<AxesSubplot:xlabel='atributo', ylabel='valor'>"
      ]
     },
     "execution_count": 218,
     "metadata": {},
     "output_type": "execute_result"
    },
    {
     "data": {
      "image/png": "[encoded data removed]",
      "text/plain": [
       "<Figure size 842.4x595.44 with 1 Axes>"
      ]
     },
     "metadata": {},
     "output_type": "display_data"
    }
   ],
   "source": [
    "sns.barplot(x= 'atributo', y = 'valor', hue = 'loja', data = transform_describe)"
   ]
  },
  {
   "cell_type": "markdown",
   "id": "c0cb53f2",
   "metadata": {},
   "source": [
    "O maior desvio padrao é da avon, confirmando a análise anterior no boxplot."
   ]
  },
  {
   "cell_type": "markdown",
   "id": "c78fcc42",
   "metadata": {},
   "source": [
    "### Antitranspirante"
   ]
  },
  {
   "cell_type": "code",
   "execution_count": 219,
   "id": "a5c282ad",
   "metadata": {},
   "outputs": [],
   "source": [
    "antitranspirante_a['loja'] = 'avon'\n",
    "antitranspirante_j['loja'] = 'jequiti'"
   ]
  },
  {
   "cell_type": "code",
   "execution_count": 220,
   "id": "fa8af652",
   "metadata": {},
   "outputs": [],
   "source": [
    "# concatenando dataframes #\n",
    "antitranspirante = pd.concat([antitranspirante_a,antitranspirante_j])\n",
    "#  #  #  #\n",
    "\n",
    "# removendo a coluna 'Unnamed: 0' #\n",
    "antitranspirante = antitranspirante.drop(columns={'Unnamed: 0'})\n",
    "#  #  #  #"
   ]
  },
  {
   "cell_type": "code",
   "execution_count": 221,
   "id": "dc681c0c",
   "metadata": {},
   "outputs": [],
   "source": [
    "# transformando str em float #\n",
    "antitranspirante['preco'] = antitranspirante['preco'].astype(float)\n",
    "#  #  #  #"
   ]
  },
  {
   "cell_type": "code",
   "execution_count": 222,
   "id": "25d8524c",
   "metadata": {},
   "outputs": [],
   "source": [
    "# ordenando preços #\n",
    "antitranspirante = antitranspirante.sort_values('preco')\n",
    "#  #  #  #"
   ]
  },
  {
   "cell_type": "code",
   "execution_count": 223,
   "id": "adfebe6f",
   "metadata": {},
   "outputs": [
    {
     "data": {
      "text/html": [
       "<div>\n",
       "<style scoped>\n",
       "    .dataframe tbody tr th:only-of-type {\n",
       "        vertical-align: middle;\n",
       "    }\n",
       "\n",
       "    .dataframe tbody tr th {\n",
       "        vertical-align: top;\n",
       "    }\n",
       "\n",
       "    .dataframe thead th {\n",
       "        text-align: right;\n",
       "    }\n",
       "</style>\n",
       "<table border=\"1\" class=\"dataframe\">\n",
       "  <thead>\n",
       "    <tr style=\"text-align: right;\">\n",
       "      <th></th>\n",
       "      <th>mean</th>\n",
       "      <th>std</th>\n",
       "      <th>min</th>\n",
       "      <th>25%</th>\n",
       "      <th>50%</th>\n",
       "      <th>75%</th>\n",
       "      <th>max</th>\n",
       "    </tr>\n",
       "    <tr>\n",
       "      <th>loja</th>\n",
       "      <th></th>\n",
       "      <th></th>\n",
       "      <th></th>\n",
       "      <th></th>\n",
       "      <th></th>\n",
       "      <th></th>\n",
       "      <th></th>\n",
       "    </tr>\n",
       "  </thead>\n",
       "  <tbody>\n",
       "    <tr>\n",
       "      <th>avon</th>\n",
       "      <td>8.507045</td>\n",
       "      <td>4.381229</td>\n",
       "      <td>0.00</td>\n",
       "      <td>6.99</td>\n",
       "      <td>6.99</td>\n",
       "      <td>7.99</td>\n",
       "      <td>17.99</td>\n",
       "    </tr>\n",
       "    <tr>\n",
       "      <th>jequiti</th>\n",
       "      <td>26.618750</td>\n",
       "      <td>36.258019</td>\n",
       "      <td>11.82</td>\n",
       "      <td>11.82</td>\n",
       "      <td>14.36</td>\n",
       "      <td>16.91</td>\n",
       "      <td>149.90</td>\n",
       "    </tr>\n",
       "  </tbody>\n",
       "</table>\n",
       "</div>"
      ],
      "text/plain": [
       "              mean        std    min    25%    50%    75%     max\n",
       "loja                                                             \n",
       "avon      8.507045   4.381229   0.00   6.99   6.99   7.99   17.99\n",
       "jequiti  26.618750  36.258019  11.82  11.82  14.36  16.91  149.90"
      ]
     },
     "execution_count": 223,
     "metadata": {},
     "output_type": "execute_result"
    }
   ],
   "source": [
    "# estatistica #\n",
    "analise_a = antitranspirante.groupby('loja').describe()['preco']\n",
    "analise_a = analise_a.drop(columns={'count'})\n",
    "analise_a\n",
    "#  #  #  #"
   ]
  },
  {
   "cell_type": "code",
   "execution_count": 224,
   "id": "685c9ae9",
   "metadata": {},
   "outputs": [
    {
     "data": {
      "text/html": [
       "<div>\n",
       "<style scoped>\n",
       "    .dataframe tbody tr th:only-of-type {\n",
       "        vertical-align: middle;\n",
       "    }\n",
       "\n",
       "    .dataframe tbody tr th {\n",
       "        vertical-align: top;\n",
       "    }\n",
       "\n",
       "    .dataframe thead th {\n",
       "        text-align: right;\n",
       "    }\n",
       "</style>\n",
       "<table border=\"1\" class=\"dataframe\">\n",
       "  <thead>\n",
       "    <tr style=\"text-align: right;\">\n",
       "      <th></th>\n",
       "      <th>loja</th>\n",
       "      <th>atributo</th>\n",
       "      <th>valor</th>\n",
       "    </tr>\n",
       "  </thead>\n",
       "  <tbody>\n",
       "    <tr>\n",
       "      <th>0</th>\n",
       "      <td>avon</td>\n",
       "      <td>mean</td>\n",
       "      <td>8.507045</td>\n",
       "    </tr>\n",
       "    <tr>\n",
       "      <th>1</th>\n",
       "      <td>avon</td>\n",
       "      <td>std</td>\n",
       "      <td>4.381229</td>\n",
       "    </tr>\n",
       "    <tr>\n",
       "      <th>2</th>\n",
       "      <td>avon</td>\n",
       "      <td>min</td>\n",
       "      <td>0.000000</td>\n",
       "    </tr>\n",
       "  </tbody>\n",
       "</table>\n",
       "</div>"
      ],
      "text/plain": [
       "   loja atributo     valor\n",
       "0  avon     mean  8.507045\n",
       "1  avon      std  4.381229\n",
       "2  avon      min  0.000000"
      ]
     },
     "execution_count": 224,
     "metadata": {},
     "output_type": "execute_result"
    }
   ],
   "source": [
    "# tranformando describe #\n",
    "transform_describe = pd.DataFrame(columns=['loja', 'atributo', 'valor'])\n",
    "for loja, atributo in itertools.product(analise_a.index, analise_a.columns):\n",
    "    valor = analise_a.at[loja, atributo]\n",
    "    transform_describe = transform_describe.append({'loja': loja, 'atributo': atributo, 'valor': valor},\n",
    "                           ignore_index=True)\n",
    "    \n",
    "transform_describe.head(3)\n",
    "#  #  #  #"
   ]
  },
  {
   "cell_type": "markdown",
   "id": "98393e4a",
   "metadata": {},
   "source": [
    "#### Analises"
   ]
  },
  {
   "cell_type": "code",
   "execution_count": 225,
   "id": "50c1cc24",
   "metadata": {},
   "outputs": [
    {
     "data": {
      "text/plain": [
       "<seaborn.axisgrid.FacetGrid at 0x17eed148>"
      ]
     },
     "execution_count": 225,
     "metadata": {},
     "output_type": "execute_result"
    },
    {
     "data": {
      "image/png": "[encoded data removed]",
      "text/plain": [
       "<Figure size 720x360 with 1 Axes>"
      ]
     },
     "metadata": {},
     "output_type": "display_data"
    }
   ],
   "source": [
    "sns.catplot(x='loja', y='preco', data=antitranspirante, height=5, aspect=2)"
   ]
  },
  {
   "cell_type": "markdown",
   "id": "884d40aa",
   "metadata": {},
   "source": [
    "A distribuição de preços de antitranspirantes de cada loja não está tao diferente, embora a Jequiti tenha alguns outliers."
   ]
  },
  {
   "cell_type": "code",
   "execution_count": 226,
   "id": "e178753f",
   "metadata": {},
   "outputs": [
    {
     "data": {
      "text/plain": [
       "<AxesSubplot:xlabel='loja', ylabel='preco'>"
      ]
     },
     "execution_count": 226,
     "metadata": {},
     "output_type": "execute_result"
    },
    {
     "data": {
      "image/png": "[encoded data removed]",
      "text/plain": [
       "<Figure size 842.4x595.44 with 1 Axes>"
      ]
     },
     "metadata": {},
     "output_type": "display_data"
    }
   ],
   "source": [
    "sns.violinplot(x='loja', y='preco', data=antitranspirante)"
   ]
  },
  {
   "cell_type": "markdown",
   "id": "75ef42e2",
   "metadata": {},
   "source": [
    "É possivel notar que cada uma das lojas possui uma concentração de preços que não estão tao distantes de uma loja para outra, porem a Avon possui maior concentração de preços na faixa em uma determinada faixa enquanto a Jequiti se concentra de forma mais uniforme em outras faixas de preço, o que significa uma maior variabilidade de preços."
   ]
  },
  {
   "cell_type": "code",
   "execution_count": 227,
   "id": "285c8c8c",
   "metadata": {},
   "outputs": [
    {
     "data": {
      "text/plain": [
       "<AxesSubplot:xlabel='loja', ylabel='preco'>"
      ]
     },
     "execution_count": 227,
     "metadata": {},
     "output_type": "execute_result"
    },
    {
     "data": {
      "image/png": "[encoded data removed]",
      "text/plain": [
       "<Figure size 842.4x595.44 with 1 Axes>"
      ]
     },
     "metadata": {},
     "output_type": "display_data"
    }
   ],
   "source": [
    "sns.boxplot(x='loja', y='preco', data=antitranspirante)"
   ]
  },
  {
   "cell_type": "markdown",
   "id": "d642adfc",
   "metadata": {},
   "source": [
    "A Avon possui uma caixa mais achatada, nos dizendo que a informação daquela parte dos preços é de alta previsibilidade, ao mesmo tempo em que há pouca variabilidade de preço."
   ]
  },
  {
   "cell_type": "code",
   "execution_count": 228,
   "id": "0b47146e",
   "metadata": {},
   "outputs": [
    {
     "data": {
      "text/plain": [
       "<AxesSubplot:xlabel='atributo', ylabel='valor'>"
      ]
     },
     "execution_count": 228,
     "metadata": {},
     "output_type": "execute_result"
    },
    {
     "data": {
      "image/png": "[encoded data removed]",
      "text/plain": [
       "<Figure size 842.4x595.44 with 1 Axes>"
      ]
     },
     "metadata": {},
     "output_type": "display_data"
    }
   ],
   "source": [
    "sns.barplot(x= 'atributo', y = 'valor', hue = 'loja', data = transform_describe)"
   ]
  },
  {
   "cell_type": "markdown",
   "id": "4e273521",
   "metadata": {},
   "source": [
    "O maior desvio padrao é da Jequiti, confirmando a análise anterior no boxplot."
   ]
  },
  {
   "cell_type": "markdown",
   "id": "f2606198",
   "metadata": {},
   "source": [
    "### Shampoo"
   ]
  },
  {
   "cell_type": "code",
   "execution_count": null,
   "id": "ea523ffd",
   "metadata": {},
   "outputs": [],
   "source": []
  },
  {
   "cell_type": "markdown",
   "id": "f02395c0",
   "metadata": {},
   "source": [
    "### Sabonete"
   ]
  },
  {
   "cell_type": "code",
   "execution_count": null,
   "id": "06d0f31c",
   "metadata": {},
   "outputs": [],
   "source": []
  }
 ],
 "metadata": {
  "kernelspec": {
   "display_name": "Python 3",
   "language": "python",
   "name": "python3"
  },
  "language_info": {
   "codemirror_mode": {
    "name": "ipython",
    "version": 3
   },
   "file_extension": ".py",
   "mimetype": "text/x-python",
   "name": "python",
   "nbconvert_exporter": "python",
   "pygments_lexer": "ipython3",
   "version": "3.8.8"
  }
 },
 "nbformat": 4,
 "nbformat_minor": 5
}
