{
 "cells": [
  {
   "cell_type": "markdown",
   "id": "f1af2c83",
   "metadata": {},
   "source": [
    "# Geração de gráficos e analises"
   ]
  },
  {
   "cell_type": "markdown",
   "id": "a8beb2b5",
   "metadata": {},
   "source": [
    "## Bibliotecas"
   ]
  },
  {
   "cell_type": "code",
   "execution_count": 1,
   "id": "262cff91",
   "metadata": {},
   "outputs": [],
   "source": [
    "import pandas as pd"
   ]
  },
  {
   "cell_type": "markdown",
   "id": "2c42f37b",
   "metadata": {},
   "source": [
    "## importando base de dados - Avon"
   ]
  },
  {
   "cell_type": "code",
   "execution_count": 4,
   "id": "cf622ba1",
   "metadata": {},
   "outputs": [],
   "source": [
    "body_splash_a =  pd.read_csv('../perfumaria/dados/avon/body_splash.csv')\n",
    "antitranspirante_a =  pd.read_csv('../perfumaria/dados/avon/antitranspirante.csv')\n",
    "shampoo_a =  pd.read_csv('../perfumaria/dados/avon/shampoo.csv')\n",
    "sabonete_a =  pd.read_csv('../perfumaria/dados/avon/sabonete.csv')"
   ]
  },
  {
   "cell_type": "markdown",
   "id": "94f6c191",
   "metadata": {},
   "source": [
    "## importando base de dados - Jequiti"
   ]
  },
  {
   "cell_type": "code",
   "execution_count": 5,
   "id": "dc363de7",
   "metadata": {},
   "outputs": [],
   "source": [
    "body_splash_b =  pd.read_csv('../perfumaria/dados/jequiti/body_splash.csv')\n",
    "antitranspirante_b = pd.read_csv('../perfumaria/dados/jequiti/antitranspirante.csv')\n",
    "shampoo_b = pd.read_csv('../perfumaria/dados/jequiti/shampoo.csv')\n",
    "sabonete_b = pd.read_csv('../perfumaria/dados/jequiti/sabonete.csv')"
   ]
  },
  {
   "cell_type": "code",
   "execution_count": null,
   "id": "66b32b50",
   "metadata": {},
   "outputs": [],
   "source": []
  }
 ],
 "metadata": {
  "kernelspec": {
   "display_name": "Python 3",
   "language": "python",
   "name": "python3"
  },
  "language_info": {
   "codemirror_mode": {
    "name": "ipython",
    "version": 3
   },
   "file_extension": ".py",
   "mimetype": "text/x-python",
   "name": "python",
   "nbconvert_exporter": "python",
   "pygments_lexer": "ipython3",
   "version": "3.8.8"
  }
 },
 "nbformat": 4,
 "nbformat_minor": 5
}
