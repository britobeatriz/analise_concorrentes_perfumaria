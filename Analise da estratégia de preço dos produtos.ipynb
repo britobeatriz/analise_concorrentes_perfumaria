{
 "cells": [
  {
   "cell_type": "markdown",
   "id": "c701bdb1",
   "metadata": {},
   "source": [
    "# Bibliotecas"
   ]
  },
  {
   "cell_type": "code",
   "execution_count": 325,
   "id": "be796184",
   "metadata": {},
   "outputs": [],
   "source": [
    "import pandas as pd\n",
    "import seaborn as sns\n",
    "import itertools\n",
    "\n",
    "sns.set(rc={'figure.figsize':(11.7,8.27)})"
   ]
  },
  {
   "cell_type": "markdown",
   "id": "9e1b8de9",
   "metadata": {},
   "source": [
    "## Datasets"
   ]
  },
  {
   "cell_type": "code",
   "execution_count": 326,
   "id": "9a5f901e",
   "metadata": {},
   "outputs": [],
   "source": [
    "body_splash_a = pd.read_csv('../perfumaria/dados/body_splash_a.csv')\n",
    "body_splash_j = pd.read_csv('../perfumaria/dados/body_splash_j.csv')\n",
    "antitranspirante_a = pd.read_csv('../perfumaria/dados/antitranspirante_a.csv')\n",
    "antitranspirante_j = pd.read_csv('../perfumaria/dados/antitranspirante_j.csv')\n",
    "shampoo_a = pd.read_csv('../perfumaria/dados/shampoo_a.csv')\n",
    "shampoo_j = pd.read_csv('../perfumaria/dados/shampoo_j.csv')\n",
    "sabonete_a = pd.read_csv('../perfumaria/dados/sabonete_a.csv')\n",
    "sabonete_j = pd.read_csv('../perfumaria/dados/sabonete_j.csv')"
   ]
  },
  {
   "cell_type": "markdown",
   "id": "3d860cc5",
   "metadata": {},
   "source": [
    "### Body Splash"
   ]
  },
  {
   "cell_type": "code",
   "execution_count": 327,
   "id": "3ad485db",
   "metadata": {},
   "outputs": [],
   "source": [
    "body_splash_a['loja'] = 'avon'\n",
    "body_splash_j['loja'] = 'jequiti'"
   ]
  },
  {
   "cell_type": "code",
   "execution_count": 328,
   "id": "6386ac8d",
   "metadata": {},
   "outputs": [],
   "source": [
    "# concatenando dataframes #\n",
    "body_splash= pd.concat([body_splash_a,body_splash_j])\n",
    "#  #  #  #\n",
    "\n",
    "# removendo a coluna 'Unnamed: 0' #\n",
    "body_splash = body_splash.drop(columns={'Unnamed: 0'})\n",
    "#  #  #  #"
   ]
  },
  {
   "cell_type": "code",
   "execution_count": 329,
   "id": "80d0b4ad",
   "metadata": {},
   "outputs": [],
   "source": [
    "# transformando str em float #\n",
    "body_splash['preco'] = body_splash['preco'].astype(float)\n",
    "#  #  #  #"
   ]
  },
  {
   "cell_type": "code",
   "execution_count": 330,
   "id": "c61507d3",
   "metadata": {},
   "outputs": [],
   "source": [
    "# ordenando preços #\n",
    "body_splash = body_splash.sort_values('preco')\n",
    "#  #  #  #"
   ]
  },
  {
   "cell_type": "code",
   "execution_count": 331,
   "id": "6cd8de48",
   "metadata": {},
   "outputs": [
    {
     "data": {
      "text/html": [
       "<div>\n",
       "<style scoped>\n",
       "    .dataframe tbody tr th:only-of-type {\n",
       "        vertical-align: middle;\n",
       "    }\n",
       "\n",
       "    .dataframe tbody tr th {\n",
       "        vertical-align: top;\n",
       "    }\n",
       "\n",
       "    .dataframe thead th {\n",
       "        text-align: right;\n",
       "    }\n",
       "</style>\n",
       "<table border=\"1\" class=\"dataframe\">\n",
       "  <thead>\n",
       "    <tr style=\"text-align: right;\">\n",
       "      <th></th>\n",
       "      <th>mean</th>\n",
       "      <th>std</th>\n",
       "      <th>min</th>\n",
       "      <th>25%</th>\n",
       "      <th>50%</th>\n",
       "      <th>75%</th>\n",
       "      <th>max</th>\n",
       "    </tr>\n",
       "    <tr>\n",
       "      <th>loja</th>\n",
       "      <th></th>\n",
       "      <th></th>\n",
       "      <th></th>\n",
       "      <th></th>\n",
       "      <th></th>\n",
       "      <th></th>\n",
       "      <th></th>\n",
       "    </tr>\n",
       "  </thead>\n",
       "  <tbody>\n",
       "    <tr>\n",
       "      <th>avon</th>\n",
       "      <td>22.140</td>\n",
       "      <td>12.559817</td>\n",
       "      <td>0.00</td>\n",
       "      <td>12.39</td>\n",
       "      <td>23.99</td>\n",
       "      <td>23.990</td>\n",
       "      <td>44.90</td>\n",
       "    </tr>\n",
       "    <tr>\n",
       "      <th>jequiti</th>\n",
       "      <td>36.885</td>\n",
       "      <td>0.850000</td>\n",
       "      <td>36.46</td>\n",
       "      <td>36.46</td>\n",
       "      <td>36.46</td>\n",
       "      <td>36.885</td>\n",
       "      <td>38.16</td>\n",
       "    </tr>\n",
       "  </tbody>\n",
       "</table>\n",
       "</div>"
      ],
      "text/plain": [
       "           mean        std    min    25%    50%     75%    max\n",
       "loja                                                          \n",
       "avon     22.140  12.559817   0.00  12.39  23.99  23.990  44.90\n",
       "jequiti  36.885   0.850000  36.46  36.46  36.46  36.885  38.16"
      ]
     },
     "execution_count": 331,
     "metadata": {},
     "output_type": "execute_result"
    }
   ],
   "source": [
    "# estatistica #\n",
    "analise_bs = body_splash.groupby('loja').describe()['preco']\n",
    "analise_bs = analise_bs.drop(columns={'count'})\n",
    "analise_bs\n",
    "#  #  #  #"
   ]
  },
  {
   "cell_type": "code",
   "execution_count": 332,
   "id": "7bd9da8b",
   "metadata": {},
   "outputs": [
    {
     "data": {
      "text/html": [
       "<div>\n",
       "<style scoped>\n",
       "    .dataframe tbody tr th:only-of-type {\n",
       "        vertical-align: middle;\n",
       "    }\n",
       "\n",
       "    .dataframe tbody tr th {\n",
       "        vertical-align: top;\n",
       "    }\n",
       "\n",
       "    .dataframe thead th {\n",
       "        text-align: right;\n",
       "    }\n",
       "</style>\n",
       "<table border=\"1\" class=\"dataframe\">\n",
       "  <thead>\n",
       "    <tr style=\"text-align: right;\">\n",
       "      <th></th>\n",
       "      <th>loja</th>\n",
       "      <th>atributo</th>\n",
       "      <th>valor</th>\n",
       "    </tr>\n",
       "  </thead>\n",
       "  <tbody>\n",
       "    <tr>\n",
       "      <th>0</th>\n",
       "      <td>avon</td>\n",
       "      <td>mean</td>\n",
       "      <td>22.140000</td>\n",
       "    </tr>\n",
       "    <tr>\n",
       "      <th>1</th>\n",
       "      <td>avon</td>\n",
       "      <td>std</td>\n",
       "      <td>12.559817</td>\n",
       "    </tr>\n",
       "    <tr>\n",
       "      <th>2</th>\n",
       "      <td>avon</td>\n",
       "      <td>min</td>\n",
       "      <td>0.000000</td>\n",
       "    </tr>\n",
       "  </tbody>\n",
       "</table>\n",
       "</div>"
      ],
      "text/plain": [
       "   loja atributo      valor\n",
       "0  avon     mean  22.140000\n",
       "1  avon      std  12.559817\n",
       "2  avon      min   0.000000"
      ]
     },
     "execution_count": 332,
     "metadata": {},
     "output_type": "execute_result"
    }
   ],
   "source": [
    "# tranformando describe #\n",
    "transform_describe = pd.DataFrame(columns=['loja', 'atributo', 'valor'])\n",
    "for loja, atributo in itertools.product(analise_bs.index, analise_bs.columns):\n",
    "    valor = analise_bs.at[loja, atributo]\n",
    "    transform_describe = transform_describe.append({'loja': loja, 'atributo': atributo, 'valor': valor},\n",
    "                           ignore_index=True)\n",
    "    \n",
    "transform_describe.head(3)\n",
    "#  #  #  #"
   ]
  },
  {
   "cell_type": "markdown",
   "id": "20020eb5",
   "metadata": {},
   "source": [
    "#### Analises "
   ]
  },
  {
   "cell_type": "code",
   "execution_count": 333,
   "id": "b1836410",
   "metadata": {},
   "outputs": [
    {
     "data": {
      "text/plain": [
       "<seaborn.axisgrid.FacetGrid at 0x201ff448>"
      ]
     },
     "execution_count": 333,
     "metadata": {},
     "output_type": "execute_result"
    },
    {
     "data": {
      "image/png": "[encoded data removed]",
      "text/plain": [
       "<Figure size 720x360 with 1 Axes>"
      ]
     },
     "metadata": {},
     "output_type": "display_data"
    }
   ],
   "source": [
    "sns.catplot(x='loja', y='preco', data=body_splash, height=5, aspect=2)"
   ]
  },
  {
   "cell_type": "markdown",
   "id": "c9f09d6a",
   "metadata": {},
   "source": [
    "O gráfico mostra a distruibuição de preços de body splashs de cada loja, sendo possivel observar como estão sendo espalhados os preços dos produtos. A partir de uma perspectiva mais analítica, é visivel que a Avon possui uma distruibuição de preço mais 'espalhada' em relaçao a Jequiti, englobando maiores faixas de preço, logo, a Avon possui um arsenal maior de body splash. "
   ]
  },
  {
   "cell_type": "code",
   "execution_count": 334,
   "id": "9c0c606e",
   "metadata": {},
   "outputs": [
    {
     "data": {
      "text/plain": [
       "<AxesSubplot:xlabel='loja', ylabel='preco'>"
      ]
     },
     "execution_count": 334,
     "metadata": {},
     "output_type": "execute_result"
    },
    {
     "data": {
      "image/png": "[encoded data removed]",
      "text/plain": [
       "<Figure size 842.4x595.44 with 1 Axes>"
      ]
     },
     "metadata": {},
     "output_type": "display_data"
    }
   ],
   "source": [
    "sns.violinplot(x='loja', y='preco', data=body_splash)"
   ]
  },
  {
   "cell_type": "markdown",
   "id": "2a255764",
   "metadata": {},
   "source": [
    "É possivel notar que cada uma das lojas possui uma concentração de preços em diferentes faixas, a Jequiti possui uma expressiva quantidade de produtos na faixa de R$ 35,00, enquanto os preços da Avon se concentram mais uniformimente em diferentes faixas. A partir desse gráfico, também é possível visualizar de forma clara o piso e o teto de cada loja.\n",
    "\n",
    "Obs: considerei como \"0,0\" produtos que estavam indisponiveis, logo, é possível notar que a Avon possui alguns produtos indisponiveis no estoque enquanto a Jequiti está com todos os produtos disponiveis."
   ]
  },
  {
   "cell_type": "code",
   "execution_count": 335,
   "id": "68165048",
   "metadata": {},
   "outputs": [
    {
     "data": {
      "text/plain": [
       "<AxesSubplot:xlabel='loja', ylabel='preco'>"
      ]
     },
     "execution_count": 335,
     "metadata": {},
     "output_type": "execute_result"
    },
    {
     "data": {
      "image/png": "[encoded data removed]",
      "text/plain": [
       "<Figure size 842.4x595.44 with 1 Axes>"
      ]
     },
     "metadata": {},
     "output_type": "display_data"
    }
   ],
   "source": [
    "sns.boxplot(x='loja', y='preco', data=body_splash)"
   ]
  },
  {
   "cell_type": "markdown",
   "id": "993f283a",
   "metadata": {},
   "source": [
    "Neste gráfico podemos observar o bloco de agrupamento dos preços, por exemplo, a Jequiti possui uma caixa mais achatada, nos dizendo que a informação daquela parte dos preços é de alta previsibilidade, ao mesmo tempo em que há pouca variabilidade. A loja da Avon, pelo contrário, é que possui maior variabilidade , enquanto que sua previsibilidade torna-se um pouco mais escassa."
   ]
  },
  {
   "cell_type": "code",
   "execution_count": 336,
   "id": "80e683b8",
   "metadata": {},
   "outputs": [
    {
     "data": {
      "text/plain": [
       "<AxesSubplot:xlabel='atributo', ylabel='valor'>"
      ]
     },
     "execution_count": 336,
     "metadata": {},
     "output_type": "execute_result"
    },
    {
     "data": {
      "image/png": "[encoded data removed]",
      "text/plain": [
       "<Figure size 842.4x595.44 with 1 Axes>"
      ]
     },
     "metadata": {},
     "output_type": "display_data"
    }
   ],
   "source": [
    "sns.barplot(x= 'atributo', y = 'valor', hue = 'loja', data = transform_describe)"
   ]
  },
  {
   "cell_type": "markdown",
   "id": "29f2e2de",
   "metadata": {},
   "source": [
    "O maior desvio padrao é da avon, confirmando a análise anterior no boxplot."
   ]
  },
  {
   "cell_type": "markdown",
   "id": "c78fcc42",
   "metadata": {},
   "source": [
    "### Antitranspirante"
   ]
  },
  {
   "cell_type": "code",
   "execution_count": 337,
   "id": "a5c282ad",
   "metadata": {},
   "outputs": [],
   "source": [
    "antitranspirante_a['loja'] = 'avon'\n",
    "antitranspirante_j['loja'] = 'jequiti'"
   ]
  },
  {
   "cell_type": "code",
   "execution_count": 338,
   "id": "19413a0e",
   "metadata": {},
   "outputs": [],
   "source": [
    "# concatenando dataframes #\n",
    "antitranspirante = pd.concat([antitranspirante_a,antitranspirante_j])\n",
    "#  #  #  #\n",
    "\n",
    "# removendo a coluna 'Unnamed: 0' #\n",
    "antitranspirante = antitranspirante.drop(columns={'Unnamed: 0'})\n",
    "#  #  #  #"
   ]
  },
  {
   "cell_type": "code",
   "execution_count": 339,
   "id": "7279e1cb",
   "metadata": {},
   "outputs": [],
   "source": [
    "# transformando str em float #\n",
    "antitranspirante['preco'] = antitranspirante['preco'].astype(float)\n",
    "#  #  #  #"
   ]
  },
  {
   "cell_type": "code",
   "execution_count": 340,
   "id": "f2631c14",
   "metadata": {},
   "outputs": [],
   "source": [
    "# ordenando preços #\n",
    "antitranspirante = antitranspirante.sort_values('preco')\n",
    "#  #  #  #"
   ]
  },
  {
   "cell_type": "code",
   "execution_count": 341,
   "id": "e01a5e97",
   "metadata": {},
   "outputs": [
    {
     "data": {
      "text/html": [
       "<div>\n",
       "<style scoped>\n",
       "    .dataframe tbody tr th:only-of-type {\n",
       "        vertical-align: middle;\n",
       "    }\n",
       "\n",
       "    .dataframe tbody tr th {\n",
       "        vertical-align: top;\n",
       "    }\n",
       "\n",
       "    .dataframe thead th {\n",
       "        text-align: right;\n",
       "    }\n",
       "</style>\n",
       "<table border=\"1\" class=\"dataframe\">\n",
       "  <thead>\n",
       "    <tr style=\"text-align: right;\">\n",
       "      <th></th>\n",
       "      <th>mean</th>\n",
       "      <th>std</th>\n",
       "      <th>min</th>\n",
       "      <th>25%</th>\n",
       "      <th>50%</th>\n",
       "      <th>75%</th>\n",
       "      <th>max</th>\n",
       "    </tr>\n",
       "    <tr>\n",
       "      <th>loja</th>\n",
       "      <th></th>\n",
       "      <th></th>\n",
       "      <th></th>\n",
       "      <th></th>\n",
       "      <th></th>\n",
       "      <th></th>\n",
       "      <th></th>\n",
       "    </tr>\n",
       "  </thead>\n",
       "  <tbody>\n",
       "    <tr>\n",
       "      <th>avon</th>\n",
       "      <td>8.507045</td>\n",
       "      <td>4.381229</td>\n",
       "      <td>0.00</td>\n",
       "      <td>6.99</td>\n",
       "      <td>6.99</td>\n",
       "      <td>7.99</td>\n",
       "      <td>17.99</td>\n",
       "    </tr>\n",
       "    <tr>\n",
       "      <th>jequiti</th>\n",
       "      <td>26.618750</td>\n",
       "      <td>36.258019</td>\n",
       "      <td>11.82</td>\n",
       "      <td>11.82</td>\n",
       "      <td>14.36</td>\n",
       "      <td>16.91</td>\n",
       "      <td>149.90</td>\n",
       "    </tr>\n",
       "  </tbody>\n",
       "</table>\n",
       "</div>"
      ],
      "text/plain": [
       "              mean        std    min    25%    50%    75%     max\n",
       "loja                                                             \n",
       "avon      8.507045   4.381229   0.00   6.99   6.99   7.99   17.99\n",
       "jequiti  26.618750  36.258019  11.82  11.82  14.36  16.91  149.90"
      ]
     },
     "execution_count": 341,
     "metadata": {},
     "output_type": "execute_result"
    }
   ],
   "source": [
    "# estatistica #\n",
    "analise_a = antitranspirante.groupby('loja').describe()['preco']\n",
    "analise_a = analise_a.drop(columns={'count'})\n",
    "analise_a\n",
    "#  #  #  #"
   ]
  },
  {
   "cell_type": "code",
   "execution_count": 342,
   "id": "0ec9d7b1",
   "metadata": {},
   "outputs": [
    {
     "data": {
      "text/html": [
       "<div>\n",
       "<style scoped>\n",
       "    .dataframe tbody tr th:only-of-type {\n",
       "        vertical-align: middle;\n",
       "    }\n",
       "\n",
       "    .dataframe tbody tr th {\n",
       "        vertical-align: top;\n",
       "    }\n",
       "\n",
       "    .dataframe thead th {\n",
       "        text-align: right;\n",
       "    }\n",
       "</style>\n",
       "<table border=\"1\" class=\"dataframe\">\n",
       "  <thead>\n",
       "    <tr style=\"text-align: right;\">\n",
       "      <th></th>\n",
       "      <th>loja</th>\n",
       "      <th>atributo</th>\n",
       "      <th>valor</th>\n",
       "    </tr>\n",
       "  </thead>\n",
       "  <tbody>\n",
       "    <tr>\n",
       "      <th>0</th>\n",
       "      <td>avon</td>\n",
       "      <td>mean</td>\n",
       "      <td>8.507045</td>\n",
       "    </tr>\n",
       "    <tr>\n",
       "      <th>1</th>\n",
       "      <td>avon</td>\n",
       "      <td>std</td>\n",
       "      <td>4.381229</td>\n",
       "    </tr>\n",
       "    <tr>\n",
       "      <th>2</th>\n",
       "      <td>avon</td>\n",
       "      <td>min</td>\n",
       "      <td>0.000000</td>\n",
       "    </tr>\n",
       "  </tbody>\n",
       "</table>\n",
       "</div>"
      ],
      "text/plain": [
       "   loja atributo     valor\n",
       "0  avon     mean  8.507045\n",
       "1  avon      std  4.381229\n",
       "2  avon      min  0.000000"
      ]
     },
     "execution_count": 342,
     "metadata": {},
     "output_type": "execute_result"
    }
   ],
   "source": [
    "# tranformando describe #\n",
    "transform_describe = pd.DataFrame(columns=['loja', 'atributo', 'valor'])\n",
    "for loja, atributo in itertools.product(analise_a.index, analise_a.columns):\n",
    "    valor = analise_a.at[loja, atributo]\n",
    "    transform_describe = transform_describe.append({'loja': loja, 'atributo': atributo, 'valor': valor},\n",
    "                           ignore_index=True)\n",
    "    \n",
    "transform_describe.head(3)\n",
    "#  #  #  #"
   ]
  },
  {
   "cell_type": "markdown",
   "id": "251729e5",
   "metadata": {},
   "source": [
    "#### Analises"
   ]
  },
  {
   "cell_type": "code",
   "execution_count": 343,
   "id": "6f25bab9",
   "metadata": {},
   "outputs": [
    {
     "data": {
      "text/plain": [
       "<seaborn.axisgrid.FacetGrid at 0x20260748>"
      ]
     },
     "execution_count": 343,
     "metadata": {},
     "output_type": "execute_result"
    },
    {
     "data": {
      "image/png": "[encoded data removed]",
      "text/plain": [
       "<Figure size 720x360 with 1 Axes>"
      ]
     },
     "metadata": {},
     "output_type": "display_data"
    }
   ],
   "source": [
    "sns.catplot(x='loja', y='preco', data=antitranspirante, height=5, aspect=2)"
   ]
  },
  {
   "cell_type": "markdown",
   "id": "1823c3e3",
   "metadata": {},
   "source": [
    "A distribuição de preços de antitranspirantes de cada loja não está tao diferente, embora a Jequiti tenha alguns outliers."
   ]
  },
  {
   "cell_type": "code",
   "execution_count": 344,
   "id": "7e154d60",
   "metadata": {},
   "outputs": [
    {
     "data": {
      "text/plain": [
       "<AxesSubplot:xlabel='loja', ylabel='preco'>"
      ]
     },
     "execution_count": 344,
     "metadata": {},
     "output_type": "execute_result"
    },
    {
     "data": {
      "image/png": "[encoded data removed]",
      "text/plain": [
       "<Figure size 842.4x595.44 with 1 Axes>"
      ]
     },
     "metadata": {},
     "output_type": "display_data"
    }
   ],
   "source": [
    "sns.violinplot(x='loja', y='preco', data=antitranspirante)"
   ]
  },
  {
   "cell_type": "markdown",
   "id": "f551325f",
   "metadata": {},
   "source": [
    "É possivel notar que cada uma das lojas possui uma concentração de preços que não estão tao distantes de uma loja para outra, porem a Avon possui maior concentração de preços em uma determinada faixa enquanto a Jequiti se concentra de forma mais uniforme em outras faixas de preço, o que significa uma maior variabilidade de preços."
   ]
  },
  {
   "cell_type": "code",
   "execution_count": 345,
   "id": "37400915",
   "metadata": {},
   "outputs": [
    {
     "data": {
      "text/plain": [
       "<AxesSubplot:xlabel='loja', ylabel='preco'>"
      ]
     },
     "execution_count": 345,
     "metadata": {},
     "output_type": "execute_result"
    },
    {
     "data": {
      "image/png": "[encoded data removed]",
      "text/plain": [
       "<Figure size 842.4x595.44 with 1 Axes>"
      ]
     },
     "metadata": {},
     "output_type": "display_data"
    }
   ],
   "source": [
    "sns.boxplot(x='loja', y='preco', data=antitranspirante)"
   ]
  },
  {
   "cell_type": "markdown",
   "id": "c6502798",
   "metadata": {},
   "source": [
    "A Avon possui uma caixa mais achatada, nos dizendo que a informação daquela parte dos preços é de alta previsibilidade, ao mesmo tempo em que há pouca variabilidade de preço."
   ]
  },
  {
   "cell_type": "code",
   "execution_count": 346,
   "id": "78c320e6",
   "metadata": {},
   "outputs": [
    {
     "data": {
      "text/plain": [
       "<AxesSubplot:xlabel='atributo', ylabel='valor'>"
      ]
     },
     "execution_count": 346,
     "metadata": {},
     "output_type": "execute_result"
    },
    {
     "data": {
      "image/png": "[encoded data removed]",
      "text/plain": [
       "<Figure size 842.4x595.44 with 1 Axes>"
      ]
     },
     "metadata": {},
     "output_type": "display_data"
    }
   ],
   "source": [
    "sns.barplot(x= 'atributo', y = 'valor', hue = 'loja', data = transform_describe)"
   ]
  },
  {
   "cell_type": "markdown",
   "id": "698b7668",
   "metadata": {},
   "source": [
    "O maior desvio padrao é da Jequiti, confirmando a análise anterior no boxplot."
   ]
  },
  {
   "cell_type": "markdown",
   "id": "f2606198",
   "metadata": {},
   "source": [
    "### Shampoo"
   ]
  },
  {
   "cell_type": "code",
   "execution_count": 347,
   "id": "ea523ffd",
   "metadata": {},
   "outputs": [],
   "source": [
    "shampoo_a['loja'] = 'avon'\n",
    "shampoo_j['loja'] = 'jequiti'"
   ]
  },
  {
   "cell_type": "code",
   "execution_count": 348,
   "id": "ce6f17cb",
   "metadata": {},
   "outputs": [],
   "source": [
    "# concatenando dataframes #\n",
    "shampoo = pd.concat([shampoo_a,shampoo_j])\n",
    "#  #  #  #\n",
    "\n",
    "# removendo a coluna 'Unnamed: 0' #\n",
    "shampoo = shampoo.drop(columns={'Unnamed: 0'})\n",
    "#  #  #  #"
   ]
  },
  {
   "cell_type": "code",
   "execution_count": 349,
   "id": "b3fbff39",
   "metadata": {},
   "outputs": [],
   "source": [
    "# transformando str em float #\n",
    "shampoo['preco'] = shampoo['preco'].astype(float)\n",
    "#  #  #  #"
   ]
  },
  {
   "cell_type": "code",
   "execution_count": 350,
   "id": "fb60ea93",
   "metadata": {},
   "outputs": [],
   "source": [
    "# ordenando preços #\n",
    "shampoo = shampoo.sort_values('preco')\n",
    "#  #  #  #"
   ]
  },
  {
   "cell_type": "code",
   "execution_count": 351,
   "id": "cb908af1",
   "metadata": {},
   "outputs": [
    {
     "data": {
      "text/html": [
       "<div>\n",
       "<style scoped>\n",
       "    .dataframe tbody tr th:only-of-type {\n",
       "        vertical-align: middle;\n",
       "    }\n",
       "\n",
       "    .dataframe tbody tr th {\n",
       "        vertical-align: top;\n",
       "    }\n",
       "\n",
       "    .dataframe thead th {\n",
       "        text-align: right;\n",
       "    }\n",
       "</style>\n",
       "<table border=\"1\" class=\"dataframe\">\n",
       "  <thead>\n",
       "    <tr style=\"text-align: right;\">\n",
       "      <th></th>\n",
       "      <th>mean</th>\n",
       "      <th>std</th>\n",
       "      <th>min</th>\n",
       "      <th>25%</th>\n",
       "      <th>50%</th>\n",
       "      <th>75%</th>\n",
       "      <th>max</th>\n",
       "    </tr>\n",
       "    <tr>\n",
       "      <th>loja</th>\n",
       "      <th></th>\n",
       "      <th></th>\n",
       "      <th></th>\n",
       "      <th></th>\n",
       "      <th></th>\n",
       "      <th></th>\n",
       "      <th></th>\n",
       "    </tr>\n",
       "  </thead>\n",
       "  <tbody>\n",
       "    <tr>\n",
       "      <th>avon</th>\n",
       "      <td>15.148824</td>\n",
       "      <td>11.909970</td>\n",
       "      <td>0.00</td>\n",
       "      <td>1.875</td>\n",
       "      <td>16.99</td>\n",
       "      <td>19.99</td>\n",
       "      <td>49.99</td>\n",
       "    </tr>\n",
       "    <tr>\n",
       "      <th>jequiti</th>\n",
       "      <td>48.255500</td>\n",
       "      <td>37.783034</td>\n",
       "      <td>11.82</td>\n",
       "      <td>23.925</td>\n",
       "      <td>31.80</td>\n",
       "      <td>64.90</td>\n",
       "      <td>149.94</td>\n",
       "    </tr>\n",
       "  </tbody>\n",
       "</table>\n",
       "</div>"
      ],
      "text/plain": [
       "              mean        std    min     25%    50%    75%     max\n",
       "loja                                                              \n",
       "avon     15.148824  11.909970   0.00   1.875  16.99  19.99   49.99\n",
       "jequiti  48.255500  37.783034  11.82  23.925  31.80  64.90  149.94"
      ]
     },
     "execution_count": 351,
     "metadata": {},
     "output_type": "execute_result"
    }
   ],
   "source": [
    "# estatistica #\n",
    "analise_sh = shampoo.groupby('loja').describe()['preco']\n",
    "analise_sh = analise_sh.drop(columns={'count'})\n",
    "analise_sh\n",
    "#  #  #  #"
   ]
  },
  {
   "cell_type": "code",
   "execution_count": 352,
   "id": "155417ad",
   "metadata": {},
   "outputs": [
    {
     "data": {
      "text/html": [
       "<div>\n",
       "<style scoped>\n",
       "    .dataframe tbody tr th:only-of-type {\n",
       "        vertical-align: middle;\n",
       "    }\n",
       "\n",
       "    .dataframe tbody tr th {\n",
       "        vertical-align: top;\n",
       "    }\n",
       "\n",
       "    .dataframe thead th {\n",
       "        text-align: right;\n",
       "    }\n",
       "</style>\n",
       "<table border=\"1\" class=\"dataframe\">\n",
       "  <thead>\n",
       "    <tr style=\"text-align: right;\">\n",
       "      <th></th>\n",
       "      <th>loja</th>\n",
       "      <th>atributo</th>\n",
       "      <th>valor</th>\n",
       "    </tr>\n",
       "  </thead>\n",
       "  <tbody>\n",
       "    <tr>\n",
       "      <th>0</th>\n",
       "      <td>avon</td>\n",
       "      <td>mean</td>\n",
       "      <td>8.507045</td>\n",
       "    </tr>\n",
       "    <tr>\n",
       "      <th>1</th>\n",
       "      <td>avon</td>\n",
       "      <td>std</td>\n",
       "      <td>4.381229</td>\n",
       "    </tr>\n",
       "    <tr>\n",
       "      <th>2</th>\n",
       "      <td>avon</td>\n",
       "      <td>min</td>\n",
       "      <td>0.000000</td>\n",
       "    </tr>\n",
       "  </tbody>\n",
       "</table>\n",
       "</div>"
      ],
      "text/plain": [
       "   loja atributo     valor\n",
       "0  avon     mean  8.507045\n",
       "1  avon      std  4.381229\n",
       "2  avon      min  0.000000"
      ]
     },
     "execution_count": 352,
     "metadata": {},
     "output_type": "execute_result"
    }
   ],
   "source": [
    "# tranformando describe #\n",
    "transform_describe = pd.DataFrame(columns=['loja', 'atributo', 'valor'])\n",
    "for loja, atributo in itertools.product(analise_a.index, analise_a.columns):\n",
    "    valor = analise_a.at[loja, atributo]\n",
    "    transform_describe = transform_describe.append({'loja': loja, 'atributo': atributo, 'valor': valor},\n",
    "                           ignore_index=True)\n",
    "    \n",
    "transform_describe.head(3)\n",
    "#  #  #  #"
   ]
  },
  {
   "cell_type": "markdown",
   "id": "3e297600",
   "metadata": {},
   "source": [
    "#### Analises"
   ]
  },
  {
   "cell_type": "code",
   "execution_count": 353,
   "id": "970743bd",
   "metadata": {},
   "outputs": [
    {
     "data": {
      "text/plain": [
       "<seaborn.axisgrid.FacetGrid at 0x1f5a0fb8>"
      ]
     },
     "execution_count": 353,
     "metadata": {},
     "output_type": "execute_result"
    },
    {
     "data": {
      "image/png": "[encoded data removed]",
      "text/plain": [
       "<Figure size 720x360 with 1 Axes>"
      ]
     },
     "metadata": {},
     "output_type": "display_data"
    }
   ],
   "source": [
    "sns.catplot(x='loja', y='preco', data=shampoo, height=5, aspect=2)"
   ]
  },
  {
   "cell_type": "markdown",
   "id": "8eff09a8",
   "metadata": {},
   "source": [
    "Os preços da Jequiti estão mais espalhados, o que significa mais variabilidade de preços enquanto os da Avon estão mais condensados."
   ]
  },
  {
   "cell_type": "code",
   "execution_count": 354,
   "id": "5224a9dd",
   "metadata": {},
   "outputs": [
    {
     "data": {
      "text/plain": [
       "<AxesSubplot:xlabel='loja', ylabel='preco'>"
      ]
     },
     "execution_count": 354,
     "metadata": {},
     "output_type": "execute_result"
    },
    {
     "data": {
      "image/png": "[encoded data removed]",
      "text/plain": [
       "<Figure size 842.4x595.44 with 1 Axes>"
      ]
     },
     "metadata": {},
     "output_type": "display_data"
    }
   ],
   "source": [
    "sns.violinplot(x='loja', y='preco', data=shampoo)"
   ]
  },
  {
   "cell_type": "markdown",
   "id": "a9d2a125",
   "metadata": {},
   "source": [
    "A Avon possui maior concentração de preços em uma determinada faixa enquanto a Jequiti se concentra de forma mais uniforme em outras faixas de preço, o que significa uma maior variabilidade de preços."
   ]
  },
  {
   "cell_type": "code",
   "execution_count": 355,
   "id": "3cca9997",
   "metadata": {},
   "outputs": [
    {
     "data": {
      "text/plain": [
       "<AxesSubplot:xlabel='loja', ylabel='preco'>"
      ]
     },
     "execution_count": 355,
     "metadata": {},
     "output_type": "execute_result"
    },
    {
     "data": {
      "image/png": "[encoded data removed]",
      "text/plain": [
       "<Figure size 842.4x595.44 with 1 Axes>"
      ]
     },
     "metadata": {},
     "output_type": "display_data"
    }
   ],
   "source": [
    "sns.boxplot(x='loja', y='preco', data=shampoo)"
   ]
  },
  {
   "cell_type": "markdown",
   "id": "ca9bd359",
   "metadata": {},
   "source": [
    "A Avon possui uma caixa mais achatada, nos dizendo que a informação daquela parte dos preços é de alta previsibilidade, ao mesmo tempo em que há pouca variabilidade de preço."
   ]
  },
  {
   "cell_type": "code",
   "execution_count": 356,
   "id": "eeaf3c69",
   "metadata": {},
   "outputs": [
    {
     "data": {
      "text/plain": [
       "<AxesSubplot:xlabel='atributo', ylabel='valor'>"
      ]
     },
     "execution_count": 356,
     "metadata": {},
     "output_type": "execute_result"
    },
    {
     "data": {
      "image/png": "[encoded data removed]",
      "text/plain": [
       "<Figure size 842.4x595.44 with 1 Axes>"
      ]
     },
     "metadata": {},
     "output_type": "display_data"
    }
   ],
   "source": [
    "sns.barplot(x= 'atributo', y = 'valor', hue = 'loja', data = transform_describe)"
   ]
  },
  {
   "cell_type": "markdown",
   "id": "4790d795",
   "metadata": {},
   "source": [
    "O maior desvio padrao é da Jequiti, confirmando a análise anterior no boxplot."
   ]
  },
  {
   "cell_type": "markdown",
   "id": "f02395c0",
   "metadata": {},
   "source": [
    "### Sabonete"
   ]
  },
  {
   "cell_type": "code",
   "execution_count": 357,
   "id": "d86ef8bd",
   "metadata": {},
   "outputs": [],
   "source": [
    "sabonete_a['loja'] = 'avon'\n",
    "sabonete_j['loja'] = 'jequiti'"
   ]
  },
  {
   "cell_type": "code",
   "execution_count": 358,
   "id": "0efea242",
   "metadata": {},
   "outputs": [],
   "source": [
    "# concatenando dataframes #\n",
    "sabonete = pd.concat([sabonete_a,sabonete_j])\n",
    "#  #  #  #\n",
    "\n",
    "# removendo a coluna 'Unnamed: 0' #\n",
    "sabonete = sabonete.drop(columns={'Unnamed: 0'})\n",
    "#  #  #  #"
   ]
  },
  {
   "cell_type": "code",
   "execution_count": 359,
   "id": "00589179",
   "metadata": {},
   "outputs": [],
   "source": [
    "# transformando str em float #\n",
    "sabonete['preco'] = sabonete['preco'].astype(float)\n",
    "#  #  #  #"
   ]
  },
  {
   "cell_type": "code",
   "execution_count": 360,
   "id": "fe619fa6",
   "metadata": {},
   "outputs": [],
   "source": [
    "# ordenando preços #\n",
    "sabonete = sabonete.sort_values('preco')\n",
    "#  #  #  #"
   ]
  },
  {
   "cell_type": "code",
   "execution_count": 361,
   "id": "1a58222a",
   "metadata": {},
   "outputs": [
    {
     "data": {
      "text/html": [
       "<div>\n",
       "<style scoped>\n",
       "    .dataframe tbody tr th:only-of-type {\n",
       "        vertical-align: middle;\n",
       "    }\n",
       "\n",
       "    .dataframe tbody tr th {\n",
       "        vertical-align: top;\n",
       "    }\n",
       "\n",
       "    .dataframe thead th {\n",
       "        text-align: right;\n",
       "    }\n",
       "</style>\n",
       "<table border=\"1\" class=\"dataframe\">\n",
       "  <thead>\n",
       "    <tr style=\"text-align: right;\">\n",
       "      <th></th>\n",
       "      <th>mean</th>\n",
       "      <th>std</th>\n",
       "      <th>min</th>\n",
       "      <th>25%</th>\n",
       "      <th>50%</th>\n",
       "      <th>75%</th>\n",
       "      <th>max</th>\n",
       "    </tr>\n",
       "    <tr>\n",
       "      <th>loja</th>\n",
       "      <th></th>\n",
       "      <th></th>\n",
       "      <th></th>\n",
       "      <th></th>\n",
       "      <th></th>\n",
       "      <th></th>\n",
       "      <th></th>\n",
       "    </tr>\n",
       "  </thead>\n",
       "  <tbody>\n",
       "    <tr>\n",
       "      <th>avon</th>\n",
       "      <td>17.071731</td>\n",
       "      <td>7.682181</td>\n",
       "      <td>0.00</td>\n",
       "      <td>12.49</td>\n",
       "      <td>17.99</td>\n",
       "      <td>21.99</td>\n",
       "      <td>33.9</td>\n",
       "    </tr>\n",
       "    <tr>\n",
       "      <th>jequiti</th>\n",
       "      <td>33.910909</td>\n",
       "      <td>29.557159</td>\n",
       "      <td>2.72</td>\n",
       "      <td>18.19</td>\n",
       "      <td>20.32</td>\n",
       "      <td>59.66</td>\n",
       "      <td>116.9</td>\n",
       "    </tr>\n",
       "  </tbody>\n",
       "</table>\n",
       "</div>"
      ],
      "text/plain": [
       "              mean        std   min    25%    50%    75%    max\n",
       "loja                                                           \n",
       "avon     17.071731   7.682181  0.00  12.49  17.99  21.99   33.9\n",
       "jequiti  33.910909  29.557159  2.72  18.19  20.32  59.66  116.9"
      ]
     },
     "execution_count": 361,
     "metadata": {},
     "output_type": "execute_result"
    }
   ],
   "source": [
    "# estatistica #\n",
    "analise_sa = sabonete.groupby('loja').describe()['preco']\n",
    "analise_sa = analise_sa.drop(columns={'count'})\n",
    "analise_sa\n",
    "#  #  #  #"
   ]
  },
  {
   "cell_type": "code",
   "execution_count": 362,
   "id": "c755b3b7",
   "metadata": {},
   "outputs": [
    {
     "data": {
      "text/html": [
       "<div>\n",
       "<style scoped>\n",
       "    .dataframe tbody tr th:only-of-type {\n",
       "        vertical-align: middle;\n",
       "    }\n",
       "\n",
       "    .dataframe tbody tr th {\n",
       "        vertical-align: top;\n",
       "    }\n",
       "\n",
       "    .dataframe thead th {\n",
       "        text-align: right;\n",
       "    }\n",
       "</style>\n",
       "<table border=\"1\" class=\"dataframe\">\n",
       "  <thead>\n",
       "    <tr style=\"text-align: right;\">\n",
       "      <th></th>\n",
       "      <th>loja</th>\n",
       "      <th>atributo</th>\n",
       "      <th>valor</th>\n",
       "    </tr>\n",
       "  </thead>\n",
       "  <tbody>\n",
       "    <tr>\n",
       "      <th>0</th>\n",
       "      <td>avon</td>\n",
       "      <td>mean</td>\n",
       "      <td>17.071731</td>\n",
       "    </tr>\n",
       "    <tr>\n",
       "      <th>1</th>\n",
       "      <td>avon</td>\n",
       "      <td>std</td>\n",
       "      <td>7.682181</td>\n",
       "    </tr>\n",
       "    <tr>\n",
       "      <th>2</th>\n",
       "      <td>avon</td>\n",
       "      <td>min</td>\n",
       "      <td>0.000000</td>\n",
       "    </tr>\n",
       "  </tbody>\n",
       "</table>\n",
       "</div>"
      ],
      "text/plain": [
       "   loja atributo      valor\n",
       "0  avon     mean  17.071731\n",
       "1  avon      std   7.682181\n",
       "2  avon      min   0.000000"
      ]
     },
     "execution_count": 362,
     "metadata": {},
     "output_type": "execute_result"
    }
   ],
   "source": [
    "# tranformando describe #\n",
    "transform_describe = pd.DataFrame(columns=['loja', 'atributo', 'valor'])\n",
    "for loja, atributo in itertools.product(analise_sa.index, analise_sa.columns):\n",
    "    valor = analise_sa.at[loja, atributo]\n",
    "    transform_describe = transform_describe.append({'loja': loja, 'atributo': atributo, 'valor': valor},\n",
    "                           ignore_index=True)\n",
    "    \n",
    "transform_describe.head(3)\n",
    "#  #  #  #"
   ]
  },
  {
   "cell_type": "markdown",
   "id": "364d6bd3",
   "metadata": {},
   "source": [
    "#### Analises"
   ]
  },
  {
   "cell_type": "code",
   "execution_count": 363,
   "id": "d4cbc260",
   "metadata": {},
   "outputs": [
    {
     "data": {
      "text/plain": [
       "<seaborn.axisgrid.FacetGrid at 0x22fc39e8>"
      ]
     },
     "execution_count": 363,
     "metadata": {},
     "output_type": "execute_result"
    },
    {
     "data": {
      "image/png": "[encoded data removed]",
      "text/plain": [
       "<Figure size 720x360 with 1 Axes>"
      ]
     },
     "metadata": {},
     "output_type": "display_data"
    }
   ],
   "source": [
    "sns.catplot(x='loja', y='preco', data=sabonete, height=5, aspect=2)"
   ]
  },
  {
   "cell_type": "markdown",
   "id": "baf92ce3",
   "metadata": {},
   "source": [
    "Os preços da Jequiti estão mais espalhados, o que significa mais variabilidade de preços enquanto os da Avon estão mais condensados."
   ]
  },
  {
   "cell_type": "code",
   "execution_count": 364,
   "id": "8d90ca45",
   "metadata": {},
   "outputs": [
    {
     "data": {
      "text/plain": [
       "<AxesSubplot:xlabel='loja', ylabel='preco'>"
      ]
     },
     "execution_count": 364,
     "metadata": {},
     "output_type": "execute_result"
    },
    {
     "data": {
      "image/png": "[encoded data removed]",
      "text/plain": [
       "<Figure size 842.4x595.44 with 1 Axes>"
      ]
     },
     "metadata": {},
     "output_type": "display_data"
    }
   ],
   "source": [
    "sns.violinplot(x='loja', y='preco', data=sabonete)"
   ]
  },
  {
   "cell_type": "markdown",
   "id": "263c52f9",
   "metadata": {},
   "source": [
    "A Avon possui maior concentração de preços em uma determinada faixa enquanto a Jequiti se concentra de forma mais uniforme em outras faixas de preço, o que significa uma maior variabilidade de preços."
   ]
  },
  {
   "cell_type": "code",
   "execution_count": 365,
   "id": "7d2a9424",
   "metadata": {},
   "outputs": [
    {
     "data": {
      "text/plain": [
       "<AxesSubplot:xlabel='loja', ylabel='preco'>"
      ]
     },
     "execution_count": 365,
     "metadata": {},
     "output_type": "execute_result"
    },
    {
     "data": {
      "image/png": "[encoded data removed]",
      "text/plain": [
       "<Figure size 842.4x595.44 with 1 Axes>"
      ]
     },
     "metadata": {},
     "output_type": "display_data"
    }
   ],
   "source": [
    "sns.boxplot(x='loja', y='preco', data=sabonete)"
   ]
  },
  {
   "cell_type": "markdown",
   "id": "b6b65793",
   "metadata": {},
   "source": [
    "A Avon possui uma caixa mais achatada, nos dizendo que a informação daquela parte dos preços é de alta previsibilidade, ao mesmo tempo em que há pouca variabilidade de preço."
   ]
  },
  {
   "cell_type": "code",
   "execution_count": 366,
   "id": "58be202d",
   "metadata": {},
   "outputs": [
    {
     "data": {
      "text/plain": [
       "<AxesSubplot:xlabel='atributo', ylabel='valor'>"
      ]
     },
     "execution_count": 366,
     "metadata": {},
     "output_type": "execute_result"
    },
    {
     "data": {
      "image/png": "[encoded data removed]",
      "text/plain": [
       "<Figure size 842.4x595.44 with 1 Axes>"
      ]
     },
     "metadata": {},
     "output_type": "display_data"
    }
   ],
   "source": [
    "sns.barplot(x= 'atributo', y = 'valor', hue = 'loja', data = transform_describe)"
   ]
  },
  {
   "cell_type": "markdown",
   "id": "8b26d453",
   "metadata": {},
   "source": [
    "O maior desvio padrao é da Jequiti, confirmando a análise anterior no boxplot."
   ]
  },
  {
   "cell_type": "markdown",
   "id": "96f3c7ba",
   "metadata": {},
   "source": [
    "# Conclusão"
   ]
  },
  {
   "cell_type": "markdown",
   "id": "7d404e2a",
   "metadata": {},
   "source": [
    "Ambas empresas são do mesmo segmento porém, possuem estrategias de preço divergente, a Jequiti com preços mais variados e até mais elevados, enquanto a Avon possui menor variabilidade de preço e preços menores. A jequiti tem como publico alvo a classe C, enquanto a Avon tem como publico alvo a classe C e D, por isso a divergencia entre preços."
   ]
  }
 ],
 "metadata": {
  "kernelspec": {
   "display_name": "Python 3",
   "language": "python",
   "name": "python3"
  },
  "language_info": {
   "codemirror_mode": {
    "name": "ipython",
    "version": 3
   },
   "file_extension": ".py",
   "mimetype": "text/x-python",
   "name": "python",
   "nbconvert_exporter": "python",
   "pygments_lexer": "ipython3",
   "version": "3.8.8"
  }
 },
 "nbformat": 4,
 "nbformat_minor": 5
}
