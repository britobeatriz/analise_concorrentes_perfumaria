{
 "cells": [
  {
   "cell_type": "markdown",
   "id": "c701bdb1",
   "metadata": {},
   "source": [
    "# Bibliotecas"
   ]
  },
  {
   "cell_type": "code",
   "execution_count": 123,
   "id": "be796184",
   "metadata": {},
   "outputs": [],
   "source": [
    "import pandas as pd\n",
    "import seaborn as sns\n",
    "import itertools\n",
    "\n",
    "sns.set(rc={'figure.figsize':(11.7,8.27)})"
   ]
  },
  {
   "cell_type": "markdown",
   "id": "9e1b8de9",
   "metadata": {},
   "source": [
    "## Datasets"
   ]
  },
  {
   "cell_type": "code",
   "execution_count": 95,
   "id": "9a5f901e",
   "metadata": {},
   "outputs": [],
   "source": [
    "body_splash_a = pd.read_csv('../perfumaria/dados/body_splash_a.csv')\n",
    "body_splash_j = pd.read_csv('../perfumaria/dados/body_splash_j.csv')\n",
    "antitranspirante_a = pd.read_csv('../perfumaria/dados/antitranspirante_a.csv')\n",
    "antitranspirante_j = pd.read_csv('../perfumaria/dados/antitranspirante_j.csv')\n",
    "shampoo_a = pd.read_csv('../perfumaria/dados/shampoo_a.csv')\n",
    "shampoo_j = pd.read_csv('../perfumaria/dados/shampoo_j.csv')\n",
    "sabonete_a = pd.read_csv('../perfumaria/dados/sabonete_a.csv')\n",
    "sabonete_j = pd.read_csv('../perfumaria/dados/sabonete_j.csv')"
   ]
  },
  {
   "cell_type": "markdown",
   "id": "3d860cc5",
   "metadata": {},
   "source": [
    "### Body Splash"
   ]
  },
  {
   "cell_type": "code",
   "execution_count": 96,
   "id": "3ad485db",
   "metadata": {},
   "outputs": [],
   "source": [
    "body_splash_a['loja'] = 'avon'\n",
    "body_splash_j['loja'] = 'jequiti'"
   ]
  },
  {
   "cell_type": "code",
   "execution_count": 97,
   "id": "6386ac8d",
   "metadata": {},
   "outputs": [],
   "source": [
    "# concatenando dataframes #\n",
    "body_splash= pd.concat([body_splash_a,body_splash_j])\n",
    "#  #  #  #\n",
    "\n",
    "# removendo a coluna 'Unnamed: 0' #\n",
    "body_splash = body_splash.drop(columns={'Unnamed: 0'})\n",
    "#  #  #  #"
   ]
  },
  {
   "cell_type": "code",
   "execution_count": 98,
   "id": "80d0b4ad",
   "metadata": {},
   "outputs": [],
   "source": [
    "# transformando str em float #\n",
    "body_splash['preco'] = body_splash['preco'].astype(float)\n",
    "#  #  #  #"
   ]
  },
  {
   "cell_type": "code",
   "execution_count": 99,
   "id": "c61507d3",
   "metadata": {},
   "outputs": [],
   "source": [
    "# ordenando preços #\n",
    "body_splash = body_splash.sort_values('preco')\n",
    "#  #  #  #"
   ]
  },
  {
   "cell_type": "code",
   "execution_count": 115,
   "id": "08c4813d",
   "metadata": {},
   "outputs": [
    {
     "data": {
      "text/html": [
       "<div>\n",
       "<style scoped>\n",
       "    .dataframe tbody tr th:only-of-type {\n",
       "        vertical-align: middle;\n",
       "    }\n",
       "\n",
       "    .dataframe tbody tr th {\n",
       "        vertical-align: top;\n",
       "    }\n",
       "\n",
       "    .dataframe thead th {\n",
       "        text-align: right;\n",
       "    }\n",
       "</style>\n",
       "<table border=\"1\" class=\"dataframe\">\n",
       "  <thead>\n",
       "    <tr style=\"text-align: right;\">\n",
       "      <th></th>\n",
       "      <th>mean</th>\n",
       "      <th>std</th>\n",
       "      <th>min</th>\n",
       "      <th>25%</th>\n",
       "      <th>50%</th>\n",
       "      <th>75%</th>\n",
       "      <th>max</th>\n",
       "    </tr>\n",
       "    <tr>\n",
       "      <th>loja</th>\n",
       "      <th></th>\n",
       "      <th></th>\n",
       "      <th></th>\n",
       "      <th></th>\n",
       "      <th></th>\n",
       "      <th></th>\n",
       "      <th></th>\n",
       "    </tr>\n",
       "  </thead>\n",
       "  <tbody>\n",
       "    <tr>\n",
       "      <th>avon</th>\n",
       "      <td>22.140</td>\n",
       "      <td>12.559817</td>\n",
       "      <td>0.00</td>\n",
       "      <td>12.39</td>\n",
       "      <td>23.99</td>\n",
       "      <td>23.990</td>\n",
       "      <td>44.90</td>\n",
       "    </tr>\n",
       "    <tr>\n",
       "      <th>jequiti</th>\n",
       "      <td>36.885</td>\n",
       "      <td>0.850000</td>\n",
       "      <td>36.46</td>\n",
       "      <td>36.46</td>\n",
       "      <td>36.46</td>\n",
       "      <td>36.885</td>\n",
       "      <td>38.16</td>\n",
       "    </tr>\n",
       "  </tbody>\n",
       "</table>\n",
       "</div>"
      ],
      "text/plain": [
       "           mean        std    min    25%    50%     75%    max\n",
       "loja                                                          \n",
       "avon     22.140  12.559817   0.00  12.39  23.99  23.990  44.90\n",
       "jequiti  36.885   0.850000  36.46  36.46  36.46  36.885  38.16"
      ]
     },
     "execution_count": 115,
     "metadata": {},
     "output_type": "execute_result"
    }
   ],
   "source": [
    "# estatistica #\n",
    "analise_bs = body_splash.groupby('loja').describe()['preco']\n",
    "analise_bs = analise_bs.drop(columns={'count'})\n",
    "analise_bs\n",
    "#  #  #  #"
   ]
  },
  {
   "cell_type": "code",
   "execution_count": 132,
   "id": "afc1278e",
   "metadata": {},
   "outputs": [
    {
     "data": {
      "text/html": [
       "<div>\n",
       "<style scoped>\n",
       "    .dataframe tbody tr th:only-of-type {\n",
       "        vertical-align: middle;\n",
       "    }\n",
       "\n",
       "    .dataframe tbody tr th {\n",
       "        vertical-align: top;\n",
       "    }\n",
       "\n",
       "    .dataframe thead th {\n",
       "        text-align: right;\n",
       "    }\n",
       "</style>\n",
       "<table border=\"1\" class=\"dataframe\">\n",
       "  <thead>\n",
       "    <tr style=\"text-align: right;\">\n",
       "      <th></th>\n",
       "      <th>loja</th>\n",
       "      <th>atributo</th>\n",
       "      <th>valor</th>\n",
       "    </tr>\n",
       "  </thead>\n",
       "  <tbody>\n",
       "    <tr>\n",
       "      <th>0</th>\n",
       "      <td>avon</td>\n",
       "      <td>mean</td>\n",
       "      <td>22.140000</td>\n",
       "    </tr>\n",
       "    <tr>\n",
       "      <th>1</th>\n",
       "      <td>avon</td>\n",
       "      <td>std</td>\n",
       "      <td>12.559817</td>\n",
       "    </tr>\n",
       "    <tr>\n",
       "      <th>2</th>\n",
       "      <td>avon</td>\n",
       "      <td>min</td>\n",
       "      <td>0.000000</td>\n",
       "    </tr>\n",
       "  </tbody>\n",
       "</table>\n",
       "</div>"
      ],
      "text/plain": [
       "   loja atributo      valor\n",
       "0  avon     mean  22.140000\n",
       "1  avon      std  12.559817\n",
       "2  avon      min   0.000000"
      ]
     },
     "execution_count": 132,
     "metadata": {},
     "output_type": "execute_result"
    }
   ],
   "source": [
    "# tranformando describe #\n",
    "transform_describe = pd.DataFrame(columns=['loja', 'atributo', 'valor'])\n",
    "for loja, atributo in itertools.product(analise_bs.index, analise_bs.columns):\n",
    "    valor = analise_bs.at[loja, atributo]\n",
    "    transform_describe = transform_describe.append({'loja': loja, 'atributo': atributo, 'valor': valor},\n",
    "                           ignore_index=True)\n",
    "    \n",
    "transform_describe.head(3)\n",
    "#  #  #  #"
   ]
  },
  {
   "cell_type": "markdown",
   "id": "ac5fb460",
   "metadata": {},
   "source": [
    "#### Analises "
   ]
  },
  {
   "cell_type": "code",
   "execution_count": 117,
   "id": "b1836410",
   "metadata": {},
   "outputs": [
    {
     "data": {
      "text/plain": [
       "<seaborn.axisgrid.FacetGrid at 0x17b37718>"
      ]
     },
     "execution_count": 117,
     "metadata": {},
     "output_type": "execute_result"
    },
    {
     "data": {
      "image/png": "[encoded data removed]",
      "text/plain": [
       "<Figure size 720x360 with 1 Axes>"
      ]
     },
     "metadata": {},
     "output_type": "display_data"
    }
   ],
   "source": [
    "sns.catplot(x='loja', y='preco', data=body_splash, height=5, aspect=2)"
   ]
  },
  {
   "cell_type": "markdown",
   "id": "8f37ad76",
   "metadata": {},
   "source": [
    "O gráfico mostra a distruibuição de preços de body splashs de cada loja, sendo possivel observar como estão sendo espalhados os preços dos produtos. A partir de uma perspectiva mais analítica, é visivel que a Avon possui uma distruibuição de preço mais 'espalhada' em relaçao a Jequiti, englobando maiores faixas de preço, logo, a Avon possui um arsenal maior de body splash. "
   ]
  },
  {
   "cell_type": "code",
   "execution_count": 118,
   "id": "9c0c606e",
   "metadata": {},
   "outputs": [
    {
     "data": {
      "text/plain": [
       "<AxesSubplot:xlabel='loja', ylabel='preco'>"
      ]
     },
     "execution_count": 118,
     "metadata": {},
     "output_type": "execute_result"
    },
    {
     "data": {
      "image/png": "[encoded data removed]",
      "text/plain": [
       "<Figure size 842.4x595.44 with 1 Axes>"
      ]
     },
     "metadata": {},
     "output_type": "display_data"
    }
   ],
   "source": [
    "sns.violinplot(x='loja', y='preco', data=body_splash)"
   ]
  },
  {
   "cell_type": "markdown",
   "id": "fe0886ac",
   "metadata": {},
   "source": [
    "É possivel notar que cada uma das lojas possui uma concentração de preços em diferentes faixas, a Jequiti possui uma expressiva quantidade de produtos na faixa de R$ 35,00, enquanto os preços da Avon se concentram mais uniformimente em diferentes faixas. A partir desse gráfico, também é possível visualizar de forma clara o piso e o teto de cada loja.\n",
    "\n",
    "Obs: considerei como \"0,0\" produtos que estavam indisponiveis, logo, é possível notar que a Avon possui alguns produtos indisponiveis no estoque enquanto a Jequiti está com todos os produtos disponiveis."
   ]
  },
  {
   "cell_type": "code",
   "execution_count": 119,
   "id": "c50dd5b1",
   "metadata": {},
   "outputs": [
    {
     "data": {
      "text/plain": [
       "<AxesSubplot:xlabel='loja', ylabel='preco'>"
      ]
     },
     "execution_count": 119,
     "metadata": {},
     "output_type": "execute_result"
    },
    {
     "data": {
      "image/png": "[encoded data removed]",
      "text/plain": [
       "<Figure size 842.4x595.44 with 1 Axes>"
      ]
     },
     "metadata": {},
     "output_type": "display_data"
    }
   ],
   "source": [
    "sns.boxplot(x='loja', y='preco', data=body_splash)"
   ]
  },
  {
   "cell_type": "markdown",
   "id": "edcbb6da",
   "metadata": {},
   "source": [
    "Neste gráfico podemos observar o bloco de agrupamento dos preços, por exemplo, a Jequiti possui uma caixa mais achatada, nos dizendo que a informação daquela parte dos preços é de alta previsibilidade, ao mesmo tempo em que há pouca variabilidade. A loja da Avon, pelo contrário, é que possui maior variabilidade , enquanto que sua previsibilidade torna-se um pouco mais escassa."
   ]
  },
  {
   "cell_type": "code",
   "execution_count": 133,
   "id": "562369e9",
   "metadata": {},
   "outputs": [
    {
     "data": {
      "text/plain": [
       "<AxesSubplot:xlabel='atributo', ylabel='valor'>"
      ]
     },
     "execution_count": 133,
     "metadata": {},
     "output_type": "execute_result"
    },
    {
     "data": {
      "image/png": "[encoded data removed]",
      "text/plain": [
       "<Figure size 842.4x595.44 with 1 Axes>"
      ]
     },
     "metadata": {},
     "output_type": "display_data"
    }
   ],
   "source": [
    "sns.barplot(x= 'atributo', y = 'valor', hue = 'loja', data = transform_describe)"
   ]
  },
  {
   "cell_type": "code",
   "execution_count": null,
   "id": "276015fc",
   "metadata": {},
   "outputs": [],
   "source": [
    "O maior desvio padrao é da avon, confirmando a análise anterior no boxplot."
   ]
  },
  {
   "cell_type": "markdown",
   "id": "c78fcc42",
   "metadata": {},
   "source": [
    "### Antitranspirante"
   ]
  },
  {
   "cell_type": "code",
   "execution_count": null,
   "id": "a5c282ad",
   "metadata": {},
   "outputs": [],
   "source": []
  },
  {
   "cell_type": "markdown",
   "id": "f2606198",
   "metadata": {},
   "source": [
    "### Shampoo"
   ]
  },
  {
   "cell_type": "code",
   "execution_count": null,
   "id": "ea523ffd",
   "metadata": {},
   "outputs": [],
   "source": []
  },
  {
   "cell_type": "markdown",
   "id": "f02395c0",
   "metadata": {},
   "source": [
    "### Sabonete"
   ]
  },
  {
   "cell_type": "code",
   "execution_count": null,
   "id": "06d0f31c",
   "metadata": {},
   "outputs": [],
   "source": []
  }
 ],
 "metadata": {
  "kernelspec": {
   "display_name": "Python 3",
   "language": "python",
   "name": "python3"
  },
  "language_info": {
   "codemirror_mode": {
    "name": "ipython",
    "version": 3
   },
   "file_extension": ".py",
   "mimetype": "text/x-python",
   "name": "python",
   "nbconvert_exporter": "python",
   "pygments_lexer": "ipython3",
   "version": "3.8.8"
  }
 },
 "nbformat": 4,
 "nbformat_minor": 5
}
