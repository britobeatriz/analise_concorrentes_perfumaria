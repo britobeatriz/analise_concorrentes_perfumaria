{
 "cells": [
  {
   "cell_type": "markdown",
   "id": "0f3ee9e0",
   "metadata": {},
   "source": [
    "# Visualização dos dados e tratamento"
   ]
  },
  {
   "cell_type": "markdown",
   "id": "4366fe5b",
   "metadata": {},
   "source": [
    "## Bibliotecas"
   ]
  },
  {
   "cell_type": "code",
   "execution_count": 32,
   "id": "abad667e",
   "metadata": {},
   "outputs": [],
   "source": [
    "import pandas as pd"
   ]
  },
  {
   "cell_type": "markdown",
   "id": "5dc22280",
   "metadata": {},
   "source": [
    "## Importando os dados"
   ]
  },
  {
   "cell_type": "code",
   "execution_count": 33,
   "id": "9b79f257",
   "metadata": {},
   "outputs": [],
   "source": [
    "body_splash = pd.read_csv('../jequiti/body_splash/bodysplash.csv')\n",
    "antitranspirante = pd.read_csv('../jequiti/antitranspirante/antitranspirante.csv')\n",
    "shampoo1 = pd.read_csv('../jequiti/shampoo/shampoo1.csv')\n",
    "shampoo2 = pd.read_csv('../jequiti/shampoo/shampoo2.csv')\n",
    "shampoo3 = pd.read_csv('../jequiti/shampoo/shampoo3.csv')\n",
    "shampoo4 = pd.read_csv('../jequiti/shampoo/shampoo4.csv')\n",
    "sabonete1 = pd.read_csv('../jequiti/sabonete/sabonete1.csv')\n",
    "sabonete2 = pd.read_csv('../jequiti/sabonete/sabonete2.csv')\n",
    "sabonete3 = pd.read_csv('../jequiti/sabonete/sabonete3.csv')\n",
    "sabonete4 = pd.read_csv('../jequiti/sabonete/sabonete4.csv')\n",
    "sabonete5 = pd.read_csv('../jequiti/sabonete/sabonete5.csv')\n",
    "sabonete6 = pd.read_csv('../jequiti/sabonete/sabonete6.csv')"
   ]
  },
  {
   "cell_type": "markdown",
   "id": "c4a35d55",
   "metadata": {},
   "source": [
    "## Tratando dados da Jequiti"
   ]
  },
  {
   "cell_type": "markdown",
   "id": "3d53e7b6",
   "metadata": {},
   "source": [
    "### Conhecendo os DataFrame"
   ]
  },
  {
   "cell_type": "markdown",
   "id": "096ca6cd",
   "metadata": {},
   "source": [
    "#### Body Splashs"
   ]
  },
  {
   "cell_type": "code",
   "execution_count": 34,
   "id": "44c09514",
   "metadata": {},
   "outputs": [
    {
     "data": {
      "text/html": [
       "<div>\n",
       "<style scoped>\n",
       "    .dataframe tbody tr th:only-of-type {\n",
       "        vertical-align: middle;\n",
       "    }\n",
       "\n",
       "    .dataframe tbody tr th {\n",
       "        vertical-align: top;\n",
       "    }\n",
       "\n",
       "    .dataframe thead th {\n",
       "        text-align: right;\n",
       "    }\n",
       "</style>\n",
       "<table border=\"1\" class=\"dataframe\">\n",
       "  <thead>\n",
       "    <tr style=\"text-align: right;\">\n",
       "      <th></th>\n",
       "      <th>nome</th>\n",
       "      <th>preco</th>\n",
       "    </tr>\n",
       "  </thead>\n",
       "  <tbody>\n",
       "    <tr>\n",
       "      <th>0</th>\n",
       "      <td>Patricia Abravanel Intenso Desodorante Colônia...</td>\n",
       "      <td>R$ 110,42</td>\n",
       "    </tr>\n",
       "    <tr>\n",
       "      <th>1</th>\n",
       "      <td>Batom Cremoso Ellas Candy Rosa, 3,5 g</td>\n",
       "      <td>R$ 8,42</td>\n",
       "    </tr>\n",
       "    <tr>\n",
       "      <th>2</th>\n",
       "      <td>Shampoo Sensi Hidratacao e Maciez, 250 ml</td>\n",
       "      <td>R$ 13,52</td>\n",
       "    </tr>\n",
       "    <tr>\n",
       "      <th>3</th>\n",
       "      <td>Desodorante Colônia Splash Eu Conquisto 200 ml</td>\n",
       "      <td>R$ 36,46</td>\n",
       "    </tr>\n",
       "  </tbody>\n",
       "</table>\n",
       "</div>"
      ],
      "text/plain": [
       "                                                nome      preco\n",
       "0  Patricia Abravanel Intenso Desodorante Colônia...  R$ 110,42\n",
       "1              Batom Cremoso Ellas Candy Rosa, 3,5 g    R$ 8,42\n",
       "2          Shampoo Sensi Hidratacao e Maciez, 250 ml   R$ 13,52\n",
       "3     Desodorante Colônia Splash Eu Conquisto 200 ml   R$ 36,46"
      ]
     },
     "execution_count": 34,
     "metadata": {},
     "output_type": "execute_result"
    }
   ],
   "source": [
    "body_splash.head(4)"
   ]
  },
  {
   "cell_type": "code",
   "execution_count": 35,
   "id": "f8f665ad",
   "metadata": {},
   "outputs": [],
   "source": [
    "# removendo duplicadas #\n",
    "body_splash = body_splash.drop_duplicates(subset='nome')\n",
    "\n",
    "# removendo produtos que nao são body splash #\n",
    "bs = body_splash.drop(body_splash.index[[0,1,2]])\n",
    "#  #  #  #"
   ]
  },
  {
   "cell_type": "code",
   "execution_count": 36,
   "id": "5d6ab24d",
   "metadata": {},
   "outputs": [
    {
     "data": {
      "text/plain": [
       "(4, 2)"
      ]
     },
     "execution_count": 36,
     "metadata": {},
     "output_type": "execute_result"
    }
   ],
   "source": [
    "bs.shape"
   ]
  },
  {
   "cell_type": "code",
   "execution_count": 37,
   "id": "fd4edf5f",
   "metadata": {},
   "outputs": [
    {
     "name": "stdout",
     "output_type": "stream",
     "text": [
      "Ocorrencia de valor nulo em cada coluna:\n"
     ]
    },
    {
     "data": {
      "text/plain": [
       "nome     0\n",
       "preco    0\n",
       "dtype: int64"
      ]
     },
     "execution_count": 37,
     "metadata": {},
     "output_type": "execute_result"
    }
   ],
   "source": [
    "print('Ocorrencia de valor nulo em cada coluna:')\n",
    "bs.isna().sum()"
   ]
  },
  {
   "cell_type": "code",
   "execution_count": 38,
   "id": "5a7443db",
   "metadata": {},
   "outputs": [],
   "source": [
    "# transformando dados #\n",
    "\n",
    "# removendo 'R$' #\n",
    "bs['preco'] = bs['preco'].map(lambda x: str(x).replace('R$', ''))\n",
    "\n",
    "# transformando ',' em '. #'\n",
    "bs['preco'] = bs['preco'].map(lambda x: str(x).replace(',', '.'))\n",
    "\n",
    "# transformando 'produto indisponivel' em '0.0' #\n",
    "bs['preco'] = bs['preco'].map(lambda x: str(x).replace('Produto indisponível', '0.0'))\n",
    "\n",
    "# renomeando coluna 'preco' #\n",
    "bs = bs.rename(columns={'preco':'preco(R$)'})\n",
    "#  #  #  #"
   ]
  },
  {
   "cell_type": "code",
   "execution_count": 39,
   "id": "6cdfbf45",
   "metadata": {},
   "outputs": [
    {
     "name": "stdout",
     "output_type": "stream",
     "text": [
      "           nome\n",
      "preco(R$)      \n",
      " 36.46        3\n",
      " 38.16        1\n"
     ]
    }
   ],
   "source": [
    "# quantidade de produtos indisponiveis #\n",
    "freq = bs.groupby(['preco(R$)']).count() \n",
    "print(freq)\n",
    "#  #  #  #"
   ]
  },
  {
   "cell_type": "code",
   "execution_count": 40,
   "id": "5a62711c",
   "metadata": {},
   "outputs": [
    {
     "name": "stdout",
     "output_type": "stream",
     "text": [
      "O DataFrame possui 4 linhas e 2 colunas e 0 dados nulos, com isso, presumo que possui 4 produtos.\n",
      " Produtos indisponiveis considerei como \"0.0\", o dataframe possui 0 valores indisponiveis.\n",
      "\n",
      "\n",
      "<class 'pandas.core.frame.DataFrame'>\n",
      "Int64Index: 7 entries, 0 to 6\n",
      "Data columns (total 2 columns):\n",
      " #   Column  Non-Null Count  Dtype \n",
      "---  ------  --------------  ----- \n",
      " 0   nome    7 non-null      object\n",
      " 1   preco   7 non-null      object\n",
      "dtypes: object(2)\n",
      "memory usage: 336.0+ bytes\n"
     ]
    }
   ],
   "source": [
    "print(f'O DataFrame possui {bs.shape[0]} linhas e {bs.shape[1]} colunas e 0 dados nulos, com isso, presumo que possui {bs.shape[0]} produtos.\\n Produtos indisponiveis considerei como \"0.0\", o dataframe possui 0 valores indisponiveis.')\n",
    "print('\\n')\n",
    "body_splash.info()"
   ]
  },
  {
   "cell_type": "markdown",
   "id": "8f6f35a1",
   "metadata": {},
   "source": [
    "#### Antitranspirante"
   ]
  },
  {
   "cell_type": "code",
   "execution_count": 41,
   "id": "e9ec0563",
   "metadata": {},
   "outputs": [
    {
     "data": {
      "text/html": [
       "<div>\n",
       "<style scoped>\n",
       "    .dataframe tbody tr th:only-of-type {\n",
       "        vertical-align: middle;\n",
       "    }\n",
       "\n",
       "    .dataframe tbody tr th {\n",
       "        vertical-align: top;\n",
       "    }\n",
       "\n",
       "    .dataframe thead th {\n",
       "        text-align: right;\n",
       "    }\n",
       "</style>\n",
       "<table border=\"1\" class=\"dataframe\">\n",
       "  <thead>\n",
       "    <tr style=\"text-align: right;\">\n",
       "      <th></th>\n",
       "      <th>nome</th>\n",
       "      <th>preco</th>\n",
       "    </tr>\n",
       "  </thead>\n",
       "  <tbody>\n",
       "    <tr>\n",
       "      <th>0</th>\n",
       "      <td>Patricia Abravanel Intenso Desodorante Colônia...</td>\n",
       "      <td>R$ 110,42</td>\n",
       "    </tr>\n",
       "    <tr>\n",
       "      <th>1</th>\n",
       "      <td>Batom Cremoso Ellas Candy Rosa, 3,5 g</td>\n",
       "      <td>R$ 8,42</td>\n",
       "    </tr>\n",
       "    <tr>\n",
       "      <th>2</th>\n",
       "      <td>Shampoo Sensi Hidratacao e Maciez, 250 ml</td>\n",
       "      <td>R$ 13,52</td>\n",
       "    </tr>\n",
       "    <tr>\n",
       "      <th>3</th>\n",
       "      <td>Desodorante Aerossol Antitranspirante Sensi Me...</td>\n",
       "      <td>R$ 19,46</td>\n",
       "    </tr>\n",
       "    <tr>\n",
       "      <th>4</th>\n",
       "      <td>Desodorante Antitranspirante Sensi Suave Aeros...</td>\n",
       "      <td>R$ 14,36</td>\n",
       "    </tr>\n",
       "  </tbody>\n",
       "</table>\n",
       "</div>"
      ],
      "text/plain": [
       "                                                nome      preco\n",
       "0  Patricia Abravanel Intenso Desodorante Colônia...  R$ 110,42\n",
       "1              Batom Cremoso Ellas Candy Rosa, 3,5 g    R$ 8,42\n",
       "2          Shampoo Sensi Hidratacao e Maciez, 250 ml   R$ 13,52\n",
       "3  Desodorante Aerossol Antitranspirante Sensi Me...   R$ 19,46\n",
       "4  Desodorante Antitranspirante Sensi Suave Aeros...   R$ 14,36"
      ]
     },
     "execution_count": 41,
     "metadata": {},
     "output_type": "execute_result"
    }
   ],
   "source": [
    "antitranspirante.head(5)"
   ]
  },
  {
   "cell_type": "code",
   "execution_count": 42,
   "id": "4d7af43d",
   "metadata": {},
   "outputs": [
    {
     "data": {
      "text/html": [
       "<div>\n",
       "<style scoped>\n",
       "    .dataframe tbody tr th:only-of-type {\n",
       "        vertical-align: middle;\n",
       "    }\n",
       "\n",
       "    .dataframe tbody tr th {\n",
       "        vertical-align: top;\n",
       "    }\n",
       "\n",
       "    .dataframe thead th {\n",
       "        text-align: right;\n",
       "    }\n",
       "</style>\n",
       "<table border=\"1\" class=\"dataframe\">\n",
       "  <thead>\n",
       "    <tr style=\"text-align: right;\">\n",
       "      <th></th>\n",
       "      <th>nome</th>\n",
       "      <th>preco</th>\n",
       "    </tr>\n",
       "  </thead>\n",
       "  <tbody>\n",
       "    <tr>\n",
       "      <th>14</th>\n",
       "      <td>Desodorante Antitranspirante Sensi Men Cool Ic...</td>\n",
       "      <td>R$ 14,36</td>\n",
       "    </tr>\n",
       "    <tr>\n",
       "      <th>15</th>\n",
       "      <td>Desodorante Antitranspirante Roll-On Sensi Men...</td>\n",
       "      <td>R$ 11,82</td>\n",
       "    </tr>\n",
       "    <tr>\n",
       "      <th>16</th>\n",
       "      <td>Desodorante Antitranspirante Roll On Masculino...</td>\n",
       "      <td>R$ 11,82</td>\n",
       "    </tr>\n",
       "    <tr>\n",
       "      <th>17</th>\n",
       "      <td>Desodorante Roll-on Antitranspirante Sensi Men...</td>\n",
       "      <td>R$ 11,82</td>\n",
       "    </tr>\n",
       "    <tr>\n",
       "      <th>18</th>\n",
       "      <td>Kit de Desodorantes Aerossol Antitranspirante ...</td>\n",
       "      <td>R$ 74,90</td>\n",
       "    </tr>\n",
       "  </tbody>\n",
       "</table>\n",
       "</div>"
      ],
      "text/plain": [
       "                                                 nome     preco\n",
       "14  Desodorante Antitranspirante Sensi Men Cool Ic...  R$ 14,36\n",
       "15  Desodorante Antitranspirante Roll-On Sensi Men...  R$ 11,82\n",
       "16  Desodorante Antitranspirante Roll On Masculino...  R$ 11,82\n",
       "17  Desodorante Roll-on Antitranspirante Sensi Men...  R$ 11,82\n",
       "18  Kit de Desodorantes Aerossol Antitranspirante ...  R$ 74,90"
      ]
     },
     "execution_count": 42,
     "metadata": {},
     "output_type": "execute_result"
    }
   ],
   "source": [
    "antitranspirante.tail(5)"
   ]
  },
  {
   "cell_type": "code",
   "execution_count": 43,
   "id": "ad57773d",
   "metadata": {},
   "outputs": [],
   "source": [
    "# removendo duplicadas #\n",
    "antitranspirante = antitranspirante.drop_duplicates(subset='nome')\n",
    "\n",
    "# removendo produtos que nao são body splash #\n",
    "a = antitranspirante.drop(antitranspirante.index[[0,1,2]])\n",
    "#  #  #  #"
   ]
  },
  {
   "cell_type": "code",
   "execution_count": 44,
   "id": "0d9ca5ec",
   "metadata": {},
   "outputs": [
    {
     "data": {
      "text/plain": [
       "(16, 2)"
      ]
     },
     "execution_count": 44,
     "metadata": {},
     "output_type": "execute_result"
    }
   ],
   "source": [
    "a.shape"
   ]
  },
  {
   "cell_type": "code",
   "execution_count": 45,
   "id": "af251fae",
   "metadata": {},
   "outputs": [
    {
     "name": "stdout",
     "output_type": "stream",
     "text": [
      "Ocorrencia de valor nulo em cada coluna:\n"
     ]
    },
    {
     "data": {
      "text/plain": [
       "nome     0\n",
       "preco    0\n",
       "dtype: int64"
      ]
     },
     "execution_count": 45,
     "metadata": {},
     "output_type": "execute_result"
    }
   ],
   "source": [
    "print('Ocorrencia de valor nulo em cada coluna:')\n",
    "a.isna().sum()"
   ]
  },
  {
   "cell_type": "code",
   "execution_count": 46,
   "id": "3ea83bce",
   "metadata": {},
   "outputs": [],
   "source": [
    "# transformando dados #\n",
    "\n",
    "# removendo 'R$' #\n",
    "a['preco'] = a['preco'].map(lambda x: str(x).replace('R$', ''))\n",
    "\n",
    "# transformando ',' em '. #'\n",
    "a['preco'] = a['preco'].map(lambda x: str(x).replace(',', '.'))\n",
    "\n",
    "# transformando 'produto indisponivel' em '0.0' #\n",
    "a['preco'] = a['preco'].map(lambda x: str(x).replace('Produto indisponível', '0.0'))\n",
    "\n",
    "# renomeando coluna 'preco' #\n",
    "a = a.rename(columns={'preco':'preco(R$)'})\n",
    "#  #  #  #"
   ]
  },
  {
   "cell_type": "code",
   "execution_count": 47,
   "id": "d229f482",
   "metadata": {},
   "outputs": [
    {
     "name": "stdout",
     "output_type": "stream",
     "text": [
      "           nome\n",
      "preco(R$)      \n",
      " 11.82        5\n",
      " 14.36        5\n",
      " 149.90       1\n",
      " 15.22        1\n",
      " 16.06        1\n",
      " 19.46        2\n",
      " 74.90        1\n"
     ]
    }
   ],
   "source": [
    "# quantidade de produtos indisponiveis #\n",
    "freq = a.groupby(['preco(R$)']).count() \n",
    "print(freq)\n",
    "#  #  #  #"
   ]
  },
  {
   "cell_type": "code",
   "execution_count": 48,
   "id": "95feadcb",
   "metadata": {},
   "outputs": [
    {
     "name": "stdout",
     "output_type": "stream",
     "text": [
      "O DataFrame possui 16 linhas e 2 colunas e 0 dados nulos, com isso, presumo que possui 16 produtos.\n",
      " Produtos indisponiveis considerei como \"0.0\", o dataframe possui 0 valores indisponiveis.\n",
      "\n",
      "\n",
      "<class 'pandas.core.frame.DataFrame'>\n",
      "Int64Index: 7 entries, 0 to 6\n",
      "Data columns (total 2 columns):\n",
      " #   Column  Non-Null Count  Dtype \n",
      "---  ------  --------------  ----- \n",
      " 0   nome    7 non-null      object\n",
      " 1   preco   7 non-null      object\n",
      "dtypes: object(2)\n",
      "memory usage: 336.0+ bytes\n"
     ]
    }
   ],
   "source": [
    "print(f'O DataFrame possui {a.shape[0]} linhas e {a.shape[1]} colunas e 0 dados nulos, com isso, presumo que possui {a.shape[0]} produtos.\\n Produtos indisponiveis considerei como \"0.0\", o dataframe possui 0 valores indisponiveis.')\n",
    "print('\\n')\n",
    "body_splash.info()"
   ]
  },
  {
   "cell_type": "markdown",
   "id": "cf17511c",
   "metadata": {},
   "source": [
    "#### Shampoo"
   ]
  },
  {
   "cell_type": "code",
   "execution_count": 49,
   "id": "77a8ba58",
   "metadata": {},
   "outputs": [
    {
     "data": {
      "text/html": [
       "<div>\n",
       "<style scoped>\n",
       "    .dataframe tbody tr th:only-of-type {\n",
       "        vertical-align: middle;\n",
       "    }\n",
       "\n",
       "    .dataframe tbody tr th {\n",
       "        vertical-align: top;\n",
       "    }\n",
       "\n",
       "    .dataframe thead th {\n",
       "        text-align: right;\n",
       "    }\n",
       "</style>\n",
       "<table border=\"1\" class=\"dataframe\">\n",
       "  <thead>\n",
       "    <tr style=\"text-align: right;\">\n",
       "      <th></th>\n",
       "      <th>nome</th>\n",
       "      <th>preco</th>\n",
       "    </tr>\n",
       "  </thead>\n",
       "  <tbody>\n",
       "    <tr>\n",
       "      <th>0</th>\n",
       "      <td>Patricia Abravanel Intenso Desodorante Colônia...</td>\n",
       "      <td>R$ 110,42</td>\n",
       "    </tr>\n",
       "    <tr>\n",
       "      <th>1</th>\n",
       "      <td>Lápis Para Olhos Ellas Kajal 1, 2 g</td>\n",
       "      <td>R$ 16,06</td>\n",
       "    </tr>\n",
       "    <tr>\n",
       "      <th>2</th>\n",
       "      <td>Shampoo Sensi Hidratacao e Maciez, 250 ml</td>\n",
       "      <td>R$ 13,52</td>\n",
       "    </tr>\n",
       "    <tr>\n",
       "      <th>3</th>\n",
       "      <td>Shampoo Sensi Hidratacao e Maciez, 250 ml</td>\n",
       "      <td>R$ 13,52</td>\n",
       "    </tr>\n",
       "    <tr>\n",
       "      <th>4</th>\n",
       "      <td>Shampoo Fyo Profissional Cachos Naturais e Def...</td>\n",
       "      <td>R$ 24,56</td>\n",
       "    </tr>\n",
       "    <tr>\n",
       "      <th>5</th>\n",
       "      <td>Shampoo Fyo Profissional Liso Prolongado, 300 ml</td>\n",
       "      <td>R$ 24,56</td>\n",
       "    </tr>\n",
       "    <tr>\n",
       "      <th>6</th>\n",
       "      <td>Shampoo Fyo Profissional Reconstrução Pós-Quím...</td>\n",
       "      <td>R$ 24,56</td>\n",
       "    </tr>\n",
       "  </tbody>\n",
       "</table>\n",
       "</div>"
      ],
      "text/plain": [
       "                                                nome      preco\n",
       "0  Patricia Abravanel Intenso Desodorante Colônia...  R$ 110,42\n",
       "1                Lápis Para Olhos Ellas Kajal 1, 2 g   R$ 16,06\n",
       "2          Shampoo Sensi Hidratacao e Maciez, 250 ml   R$ 13,52\n",
       "3          Shampoo Sensi Hidratacao e Maciez, 250 ml   R$ 13,52\n",
       "4  Shampoo Fyo Profissional Cachos Naturais e Def...   R$ 24,56\n",
       "5   Shampoo Fyo Profissional Liso Prolongado, 300 ml   R$ 24,56\n",
       "6  Shampoo Fyo Profissional Reconstrução Pós-Quím...   R$ 24,56"
      ]
     },
     "execution_count": 49,
     "metadata": {},
     "output_type": "execute_result"
    }
   ],
   "source": [
    "frames = [shampoo1, shampoo2, shampoo3, shampoo4]\n",
    "shampoo = pd.concat(frames)\n",
    "shampoo.head(7)"
   ]
  },
  {
   "cell_type": "code",
   "execution_count": 50,
   "id": "323967db",
   "metadata": {},
   "outputs": [],
   "source": [
    "# removendo duplicadas #\n",
    "shampoo = shampoo.drop_duplicates(subset='nome')\n",
    "\n",
    "# removendo produtos que nao são body splash #\n",
    "s = shampoo.drop(shampoo.index[[0,1,2]])\n",
    "#  #  #  #"
   ]
  },
  {
   "cell_type": "code",
   "execution_count": 51,
   "id": "2ba5beaa",
   "metadata": {},
   "outputs": [
    {
     "data": {
      "text/plain": [
       "(40, 2)"
      ]
     },
     "execution_count": 51,
     "metadata": {},
     "output_type": "execute_result"
    }
   ],
   "source": [
    "s.shape"
   ]
  },
  {
   "cell_type": "code",
   "execution_count": 52,
   "id": "d9d1d783",
   "metadata": {},
   "outputs": [
    {
     "name": "stdout",
     "output_type": "stream",
     "text": [
      "Ocorrencia de valor nulo em cada coluna:\n"
     ]
    },
    {
     "data": {
      "text/plain": [
       "nome     0\n",
       "preco    0\n",
       "dtype: int64"
      ]
     },
     "execution_count": 52,
     "metadata": {},
     "output_type": "execute_result"
    }
   ],
   "source": [
    "print('Ocorrencia de valor nulo em cada coluna:')\n",
    "s.isna().sum()"
   ]
  },
  {
   "cell_type": "code",
   "execution_count": 53,
   "id": "4e9117cb",
   "metadata": {
    "collapsed": true
   },
   "outputs": [
    {
     "name": "stderr",
     "output_type": "stream",
     "text": [
      "<ipython-input-53-90f4367f5cb4>:4: SettingWithCopyWarning: \n",
      "A value is trying to be set on a copy of a slice from a DataFrame.\n",
      "Try using .loc[row_indexer,col_indexer] = value instead\n",
      "\n",
      "See the caveats in the documentation: https://pandas.pydata.org/pandas-docs/stable/user_guide/indexing.html#returning-a-view-versus-a-copy\n",
      "  s['preco'] = s['preco'].map(lambda x: str(x).replace('R$', ''))\n",
      "<ipython-input-53-90f4367f5cb4>:7: SettingWithCopyWarning: \n",
      "A value is trying to be set on a copy of a slice from a DataFrame.\n",
      "Try using .loc[row_indexer,col_indexer] = value instead\n",
      "\n",
      "See the caveats in the documentation: https://pandas.pydata.org/pandas-docs/stable/user_guide/indexing.html#returning-a-view-versus-a-copy\n",
      "  s['preco'] = s['preco'].map(lambda x: str(x).replace(',', '.'))\n",
      "<ipython-input-53-90f4367f5cb4>:10: SettingWithCopyWarning: \n",
      "A value is trying to be set on a copy of a slice from a DataFrame.\n",
      "Try using .loc[row_indexer,col_indexer] = value instead\n",
      "\n",
      "See the caveats in the documentation: https://pandas.pydata.org/pandas-docs/stable/user_guide/indexing.html#returning-a-view-versus-a-copy\n",
      "  s['preco'] = s['preco'].map(lambda x: str(x).replace('Produto indisponível', '0.0'))\n"
     ]
    }
   ],
   "source": [
    "# transformando dados #\n",
    "\n",
    "# removendo 'R$' #\n",
    "s['preco'] = s['preco'].map(lambda x: str(x).replace('R$', ''))\n",
    "\n",
    "# transformando ',' em '. #'\n",
    "s['preco'] = s['preco'].map(lambda x: str(x).replace(',', '.'))\n",
    "\n",
    "# transformando 'produto indisponivel' em '0.0' #\n",
    "s['preco'] = s['preco'].map(lambda x: str(x).replace('Produto indisponível', '0.0'))\n",
    "\n",
    "# renomeando coluna 'preco' #\n",
    "s = s.rename(columns={'preco':'preco(R$)'})\n",
    "#  #  #  #"
   ]
  },
  {
   "cell_type": "code",
   "execution_count": 54,
   "id": "dc316837",
   "metadata": {},
   "outputs": [
    {
     "name": "stdout",
     "output_type": "stream",
     "text": [
      "           nome\n",
      "preco(R$)      \n",
      " 109.90       1\n",
      " 11.82        1\n",
      " 114.90       2\n",
      " 116.90       1\n",
      " 13.52        1\n",
      " 14.36        1\n",
      " 149.94       2\n",
      " 16.06        1\n",
      " 16.92        1\n",
      " 18.62        1\n",
      " 19.46        1\n",
      " 22.02        3\n",
      " 24.56        9\n",
      " 31.80        2\n",
      " 38.16        1\n",
      " 39.90        4\n",
      " 59.90        2\n",
      " 61.40        1\n",
      " 64.90        2\n",
      " 66.90        1\n",
      " 67.92        1\n",
      " 68.70        1\n"
     ]
    }
   ],
   "source": [
    "# quantidade de produtos indisponiveis #\n",
    "freq = s.groupby(['preco(R$)']).count() \n",
    "print(freq)\n",
    "#  #  #  #"
   ]
  },
  {
   "cell_type": "code",
   "execution_count": 63,
   "id": "d4d60ca9",
   "metadata": {},
   "outputs": [
    {
     "name": "stdout",
     "output_type": "stream",
     "text": [
      "O DataFrame possui 40 linhas e 2 colunas e 0 dados nulos, com isso, presumo que possui 40 produtos.\n",
      " Produtos indisponiveis considerei como \"0.0\", o dataframe possui 0 valores indisponiveis.\n",
      "\n",
      "\n",
      "<class 'pandas.core.frame.DataFrame'>\n",
      "Int64Index: 40 entries, 4 to 24\n",
      "Data columns (total 2 columns):\n",
      " #   Column     Non-Null Count  Dtype \n",
      "---  ------     --------------  ----- \n",
      " 0   nome       40 non-null     object\n",
      " 1   preco(R$)  40 non-null     object\n",
      "dtypes: object(2)\n",
      "memory usage: 640.0+ bytes\n"
     ]
    }
   ],
   "source": [
    "print(f'O DataFrame possui {s.shape[0]} linhas e {s.shape[1]} colunas e 0 dados nulos, com isso, presumo que possui {s.shape[0]} produtos.\\n Produtos indisponiveis considerei como \"0.0\", o dataframe possui 0 valores indisponiveis.')\n",
    "print('\\n')\n",
    "s.info()"
   ]
  },
  {
   "cell_type": "markdown",
   "id": "6a9cc8b0",
   "metadata": {},
   "source": [
    "#### Sabonete"
   ]
  },
  {
   "cell_type": "code",
   "execution_count": 56,
   "id": "ee428266",
   "metadata": {},
   "outputs": [
    {
     "data": {
      "text/html": [
       "<div>\n",
       "<style scoped>\n",
       "    .dataframe tbody tr th:only-of-type {\n",
       "        vertical-align: middle;\n",
       "    }\n",
       "\n",
       "    .dataframe tbody tr th {\n",
       "        vertical-align: top;\n",
       "    }\n",
       "\n",
       "    .dataframe thead th {\n",
       "        text-align: right;\n",
       "    }\n",
       "</style>\n",
       "<table border=\"1\" class=\"dataframe\">\n",
       "  <thead>\n",
       "    <tr style=\"text-align: right;\">\n",
       "      <th></th>\n",
       "      <th>nome</th>\n",
       "      <th>preco</th>\n",
       "    </tr>\n",
       "  </thead>\n",
       "  <tbody>\n",
       "    <tr>\n",
       "      <th>0</th>\n",
       "      <td>Patricia Abravanel Intenso Desodorante Colônia...</td>\n",
       "      <td>R$ 110,42</td>\n",
       "    </tr>\n",
       "    <tr>\n",
       "      <th>1</th>\n",
       "      <td>Batom Cremoso Ellas Candy Rosa, 3,5 g</td>\n",
       "      <td>R$ 8,42</td>\n",
       "    </tr>\n",
       "    <tr>\n",
       "      <th>2</th>\n",
       "      <td>Shampoo Sensi Hidratacao e Maciez, 250 ml</td>\n",
       "      <td>R$ 13,52</td>\n",
       "    </tr>\n",
       "    <tr>\n",
       "      <th>3</th>\n",
       "      <td>Sabonete Hidratante Em Barra Sensi Sortidos 5X...</td>\n",
       "      <td>R$ 19,46</td>\n",
       "    </tr>\n",
       "    <tr>\n",
       "      <th>4</th>\n",
       "      <td>Sabonete Hidratante em Barra Sensi Leite 90 g</td>\n",
       "      <td>R$ 2,72</td>\n",
       "    </tr>\n",
       "    <tr>\n",
       "      <th>5</th>\n",
       "      <td>Sabonete Hidratante em Barra Sensi Mix de Óleo...</td>\n",
       "      <td>R$ 2,72</td>\n",
       "    </tr>\n",
       "    <tr>\n",
       "      <th>6</th>\n",
       "      <td>Sabonete Hidratante em Barra Sensi Verbena 90 g</td>\n",
       "      <td>R$ 3,57</td>\n",
       "    </tr>\n",
       "  </tbody>\n",
       "</table>\n",
       "</div>"
      ],
      "text/plain": [
       "                                                nome      preco\n",
       "0  Patricia Abravanel Intenso Desodorante Colônia...  R$ 110,42\n",
       "1              Batom Cremoso Ellas Candy Rosa, 3,5 g    R$ 8,42\n",
       "2          Shampoo Sensi Hidratacao e Maciez, 250 ml   R$ 13,52\n",
       "3  Sabonete Hidratante Em Barra Sensi Sortidos 5X...   R$ 19,46\n",
       "4      Sabonete Hidratante em Barra Sensi Leite 90 g    R$ 2,72\n",
       "5  Sabonete Hidratante em Barra Sensi Mix de Óleo...    R$ 2,72\n",
       "6    Sabonete Hidratante em Barra Sensi Verbena 90 g    R$ 3,57"
      ]
     },
     "execution_count": 56,
     "metadata": {},
     "output_type": "execute_result"
    }
   ],
   "source": [
    "frames = [sabonete1, sabonete2, sabonete3, sabonete4, sabonete5, sabonete6]\n",
    "sabonete = pd.concat(frames)\n",
    "sabonete.head(7)"
   ]
  },
  {
   "cell_type": "code",
   "execution_count": 57,
   "id": "f616569e",
   "metadata": {},
   "outputs": [],
   "source": [
    "# removendo duplicadas #\n",
    "sabonete = sabonete.drop_duplicates(subset='nome')\n",
    "\n",
    "# removendo produtos que nao são body splash #\n",
    "sa = sabonete.drop(sabonete.index[[0,1,2]])\n",
    "#  #  #  #"
   ]
  },
  {
   "cell_type": "code",
   "execution_count": 58,
   "id": "ecc9105b",
   "metadata": {},
   "outputs": [
    {
     "data": {
      "text/plain": [
       "(55, 2)"
      ]
     },
     "execution_count": 58,
     "metadata": {},
     "output_type": "execute_result"
    }
   ],
   "source": [
    "sa.shape"
   ]
  },
  {
   "cell_type": "code",
   "execution_count": 59,
   "id": "c637bc09",
   "metadata": {},
   "outputs": [
    {
     "name": "stdout",
     "output_type": "stream",
     "text": [
      "Ocorrencia de valor nulo em cada coluna:\n"
     ]
    },
    {
     "data": {
      "text/plain": [
       "nome     0\n",
       "preco    0\n",
       "dtype: int64"
      ]
     },
     "execution_count": 59,
     "metadata": {},
     "output_type": "execute_result"
    }
   ],
   "source": [
    "print('Ocorrencia de valor nulo em cada coluna:')\n",
    "sa.isna().sum()"
   ]
  },
  {
   "cell_type": "code",
   "execution_count": 60,
   "id": "fefbdbb0",
   "metadata": {
    "collapsed": true
   },
   "outputs": [
    {
     "name": "stderr",
     "output_type": "stream",
     "text": [
      "<ipython-input-60-98998bf6793b>:4: SettingWithCopyWarning: \n",
      "A value is trying to be set on a copy of a slice from a DataFrame.\n",
      "Try using .loc[row_indexer,col_indexer] = value instead\n",
      "\n",
      "See the caveats in the documentation: https://pandas.pydata.org/pandas-docs/stable/user_guide/indexing.html#returning-a-view-versus-a-copy\n",
      "  sa['preco'] = sa['preco'].map(lambda x: str(x).replace('R$', ''))\n",
      "<ipython-input-60-98998bf6793b>:7: SettingWithCopyWarning: \n",
      "A value is trying to be set on a copy of a slice from a DataFrame.\n",
      "Try using .loc[row_indexer,col_indexer] = value instead\n",
      "\n",
      "See the caveats in the documentation: https://pandas.pydata.org/pandas-docs/stable/user_guide/indexing.html#returning-a-view-versus-a-copy\n",
      "  sa['preco'] = sa['preco'].map(lambda x: str(x).replace(',', '.'))\n"
     ]
    }
   ],
   "source": [
    "# transformando dados #\n",
    "\n",
    "# removendo 'R$' #\n",
    "sa['preco'] = sa['preco'].map(lambda x: str(x).replace('R$', ''))\n",
    "\n",
    "# transformando ',' em '. #'\n",
    "sa['preco'] = sa['preco'].map(lambda x: str(x).replace(',', '.'))\n",
    "\n",
    "# transformando 'produto indisponivel' em '0.0' #\n",
    "sa['preco'] = sa['preco'].map(lambda x: str(x).replace('Produto indisponível', '0.0'))\n",
    "\n",
    "# renomeando coluna 'preco' #\n",
    "sa = sa.rename(columns={'preco':'preco(R$)'})\n",
    "#  #  #  #"
   ]
  },
  {
   "cell_type": "code",
   "execution_count": 61,
   "id": "6382009a",
   "metadata": {},
   "outputs": [
    {
     "name": "stdout",
     "output_type": "stream",
     "text": [
      "           nome\n",
      "preco(R$)      \n",
      " 109.90       1\n",
      " 11.82        1\n",
      " 114.90       2\n",
      " 116.90       1\n",
      " 13.52        1\n",
      " 14.36        1\n",
      " 149.94       2\n",
      " 16.06        1\n",
      " 16.92        1\n",
      " 18.62        1\n",
      " 19.46        1\n",
      " 22.02        3\n",
      " 24.56        9\n",
      " 31.80        2\n",
      " 38.16        1\n",
      " 39.90        4\n",
      " 59.90        2\n",
      " 61.40        1\n",
      " 64.90        2\n",
      " 66.90        1\n",
      " 67.92        1\n",
      " 68.70        1\n"
     ]
    }
   ],
   "source": [
    "# quantidade de produtos indisponiveis #\n",
    "freq = sa.groupby(['preco(R$)']).count() \n",
    "print(freq)\n",
    "#  #  #  #"
   ]
  },
  {
   "cell_type": "code",
   "execution_count": 62,
   "id": "c1300f80",
   "metadata": {},
   "outputs": [
    {
     "name": "stdout",
     "output_type": "stream",
     "text": [
      "O DataFrame possui 40 linhas e 2 colunas e 0 dados nulos, com isso, presumo que possui 40 produtos.\n",
      " Produtos indisponiveis considerei como \"0.0\", o dataframe possui 0 valores indisponiveis.\n",
      "\n",
      "\n",
      "<class 'pandas.core.frame.DataFrame'>\n",
      "Int64Index: 40 entries, 4 to 24\n",
      "Data columns (total 2 columns):\n",
      " #   Column     Non-Null Count  Dtype \n",
      "---  ------     --------------  ----- \n",
      " 0   nome       40 non-null     object\n",
      " 1   preco(R$)  40 non-null     object\n",
      "dtypes: object(2)\n",
      "memory usage: 640.0+ bytes\n"
     ]
    }
   ],
   "source": [
    "print(f'O DataFrame possui {sa.shape[0]} linhas e {sa.shape[1]} colunas e 0 dados nulos, com isso, presumo que possui {sa.shape[0]} produtos.\\n Produtos indisponiveis considerei como \"0.0\", o dataframe possui 0 valores indisponiveis.')\n",
    "print('\\n')\n",
    "sa.info()"
   ]
  }
 ],
 "metadata": {
  "kernelspec": {
   "display_name": "Python 3",
   "language": "python",
   "name": "python3"
  },
  "language_info": {
   "codemirror_mode": {
    "name": "ipython",
    "version": 3
   },
   "file_extension": ".py",
   "mimetype": "text/x-python",
   "name": "python",
   "nbconvert_exporter": "python",
   "pygments_lexer": "ipython3",
   "version": "3.8.8"
  }
 },
 "nbformat": 4,
 "nbformat_minor": 5
}
