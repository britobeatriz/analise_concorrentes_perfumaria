{
 "cells": [
  {
   "cell_type": "markdown",
   "id": "078730e0",
   "metadata": {},
   "source": [
    "# Visualização dos dados e tratamento"
   ]
  },
  {
   "cell_type": "markdown",
   "id": "bdd959fd",
   "metadata": {},
   "source": [
    "## Bibliotecas"
   ]
  },
  {
   "cell_type": "code",
   "execution_count": 48,
   "id": "8e8fb01a",
   "metadata": {},
   "outputs": [],
   "source": [
    "import pandas as pd"
   ]
  },
  {
   "cell_type": "markdown",
   "id": "5b236090",
   "metadata": {},
   "source": [
    "## Importando os dados"
   ]
  },
  {
   "cell_type": "code",
   "execution_count": 49,
   "id": "af567fa6",
   "metadata": {},
   "outputs": [],
   "source": [
    "body_splash = pd.read_csv('../jequiti/body_splash/bodysplash.csv')"
   ]
  },
  {
   "cell_type": "markdown",
   "id": "3f54142f",
   "metadata": {},
   "source": [
    "## Tratando dados da Jequiti"
   ]
  },
  {
   "cell_type": "markdown",
   "id": "15976b51",
   "metadata": {},
   "source": [
    "### Conhecendo os DataFrame"
   ]
  },
  {
   "cell_type": "markdown",
   "id": "ac26c29b",
   "metadata": {},
   "source": [
    "#### Body Splashs"
   ]
  },
  {
   "cell_type": "code",
   "execution_count": 50,
   "id": "9d46cf09",
   "metadata": {},
   "outputs": [
    {
     "data": {
      "text/html": [
       "<div>\n",
       "<style scoped>\n",
       "    .dataframe tbody tr th:only-of-type {\n",
       "        vertical-align: middle;\n",
       "    }\n",
       "\n",
       "    .dataframe tbody tr th {\n",
       "        vertical-align: top;\n",
       "    }\n",
       "\n",
       "    .dataframe thead th {\n",
       "        text-align: right;\n",
       "    }\n",
       "</style>\n",
       "<table border=\"1\" class=\"dataframe\">\n",
       "  <thead>\n",
       "    <tr style=\"text-align: right;\">\n",
       "      <th></th>\n",
       "      <th>nome</th>\n",
       "      <th>preco</th>\n",
       "    </tr>\n",
       "  </thead>\n",
       "  <tbody>\n",
       "    <tr>\n",
       "      <th>0</th>\n",
       "      <td>Patricia Abravanel Intenso Desodorante Colônia...</td>\n",
       "      <td>R$ 110,42</td>\n",
       "    </tr>\n",
       "    <tr>\n",
       "      <th>1</th>\n",
       "      <td>Batom Cremoso Ellas Candy Rosa, 3,5 g</td>\n",
       "      <td>R$ 8,42</td>\n",
       "    </tr>\n",
       "    <tr>\n",
       "      <th>2</th>\n",
       "      <td>Shampoo Sensi Hidratacao e Maciez, 250 ml</td>\n",
       "      <td>R$ 13,52</td>\n",
       "    </tr>\n",
       "    <tr>\n",
       "      <th>3</th>\n",
       "      <td>Desodorante Colônia Splash Eu Conquisto 200 ml</td>\n",
       "      <td>R$ 36,46</td>\n",
       "    </tr>\n",
       "  </tbody>\n",
       "</table>\n",
       "</div>"
      ],
      "text/plain": [
       "                                                nome      preco\n",
       "0  Patricia Abravanel Intenso Desodorante Colônia...  R$ 110,42\n",
       "1              Batom Cremoso Ellas Candy Rosa, 3,5 g    R$ 8,42\n",
       "2          Shampoo Sensi Hidratacao e Maciez, 250 ml   R$ 13,52\n",
       "3     Desodorante Colônia Splash Eu Conquisto 200 ml   R$ 36,46"
      ]
     },
     "execution_count": 50,
     "metadata": {},
     "output_type": "execute_result"
    }
   ],
   "source": [
    "body_splash.head(4)"
   ]
  },
  {
   "cell_type": "code",
   "execution_count": 51,
   "id": "f1c76b5e",
   "metadata": {},
   "outputs": [],
   "source": [
    "# removendo duplicadas #\n",
    "body_splash = body_splash.drop_duplicates(subset='nome')\n",
    "\n",
    "# removendo produtos que nao são body splash #\n",
    "bs = body_splash.drop(body_splash.index[[0,1,2]])\n",
    "#  #  #  #"
   ]
  },
  {
   "cell_type": "code",
   "execution_count": 52,
   "id": "7248fb35",
   "metadata": {},
   "outputs": [
    {
     "data": {
      "text/plain": [
       "(4, 2)"
      ]
     },
     "execution_count": 52,
     "metadata": {},
     "output_type": "execute_result"
    }
   ],
   "source": [
    "bs.shape"
   ]
  },
  {
   "cell_type": "code",
   "execution_count": 53,
   "id": "771e032e",
   "metadata": {},
   "outputs": [
    {
     "name": "stdout",
     "output_type": "stream",
     "text": [
      "Ocorrencia de valor nulo em cada coluna:\n"
     ]
    },
    {
     "data": {
      "text/plain": [
       "nome     0\n",
       "preco    0\n",
       "dtype: int64"
      ]
     },
     "execution_count": 53,
     "metadata": {},
     "output_type": "execute_result"
    }
   ],
   "source": [
    "print('Ocorrencia de valor nulo em cada coluna:')\n",
    "bs.isna().sum()"
   ]
  },
  {
   "cell_type": "code",
   "execution_count": 54,
   "id": "bf45fb79",
   "metadata": {},
   "outputs": [],
   "source": [
    "# transformando dados #\n",
    "\n",
    "# removendo 'R$' #\n",
    "bs['preco'] = bs['preco'].map(lambda x: str(x).replace('R$', ''))\n",
    "\n",
    "# transformando ',' em '. #'\n",
    "bs['preco'] = bs['preco'].map(lambda x: str(x).replace(',', '.'))\n",
    "\n",
    "# transformando 'produto indisponivel' em '0.0' #\n",
    "bs['preco'] = bs['preco'].map(lambda x: str(x).replace('Produto indisponível', '0.0'))\n",
    "\n",
    "# renomeando coluna 'preco' #\n",
    "bs = bs.rename(columns={'preco':'preco(R$)'})\n",
    "#  #  #  #"
   ]
  },
  {
   "cell_type": "code",
   "execution_count": 55,
   "id": "31e71677",
   "metadata": {},
   "outputs": [
    {
     "name": "stdout",
     "output_type": "stream",
     "text": [
      "           nome\n",
      "preco(R$)      \n",
      " 36.46        3\n",
      " 38.16        1\n"
     ]
    }
   ],
   "source": [
    "# quantidade de produtos indisponiveis #\n",
    "freq = bs.groupby(['preco(R$)']).count() \n",
    "print(freq)\n",
    "#  #  #  #"
   ]
  },
  {
   "cell_type": "code",
   "execution_count": 56,
   "id": "ca627e68",
   "metadata": {},
   "outputs": [
    {
     "name": "stdout",
     "output_type": "stream",
     "text": [
      "O DataFrame possui 4 linhas e 2 colunas e 0 dados nulos, com isso, presumo que possui 4 produtos.\n",
      " Produtos indisponiveis considerei como \"0.0\", o dataframe possui 0 valores indisponiveis.\n",
      "\n",
      "\n",
      "<class 'pandas.core.frame.DataFrame'>\n",
      "Int64Index: 7 entries, 0 to 6\n",
      "Data columns (total 2 columns):\n",
      " #   Column  Non-Null Count  Dtype \n",
      "---  ------  --------------  ----- \n",
      " 0   nome    7 non-null      object\n",
      " 1   preco   7 non-null      object\n",
      "dtypes: object(2)\n",
      "memory usage: 336.0+ bytes\n"
     ]
    }
   ],
   "source": [
    "print(f'O DataFrame possui {bs.shape[0]} linhas e {bs.shape[1]} colunas e 0 dados nulos, com isso, presumo que possui {bs.shape[0]} produtos.\\n Produtos indisponiveis considerei como \"0.0\", o dataframe possui 0 valores indisponiveis.')\n",
    "print('\\n')\n",
    "body_splash.info()"
   ]
  },
  {
   "cell_type": "markdown",
   "id": "0df81f17",
   "metadata": {},
   "source": [
    "#### Antitranspirante"
   ]
  },
  {
   "cell_type": "code",
   "execution_count": null,
   "id": "94b270c3",
   "metadata": {},
   "outputs": [],
   "source": []
  }
 ],
 "metadata": {
  "kernelspec": {
   "display_name": "Python 3",
   "language": "python",
   "name": "python3"
  },
  "language_info": {
   "codemirror_mode": {
    "name": "ipython",
    "version": 3
   },
   "file_extension": ".py",
   "mimetype": "text/x-python",
   "name": "python",
   "nbconvert_exporter": "python",
   "pygments_lexer": "ipython3",
   "version": "3.8.8"
  }
 },
 "nbformat": 4,
 "nbformat_minor": 5
}
