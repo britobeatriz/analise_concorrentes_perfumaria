{
 "cells": [
  {
   "cell_type": "markdown",
   "id": "b96d3061",
   "metadata": {},
   "source": [
    "# Visualização dos dados e tratamento"
   ]
  },
  {
   "cell_type": "markdown",
   "id": "916dae51",
   "metadata": {},
   "source": [
    "## Bibliotecas"
   ]
  },
  {
   "cell_type": "code",
   "execution_count": 3,
   "id": "5597e7eb",
   "metadata": {},
   "outputs": [],
   "source": [
    "import pandas as pd"
   ]
  },
  {
   "cell_type": "markdown",
   "id": "7c1659bb",
   "metadata": {},
   "source": [
    "## Importando os dados"
   ]
  },
  {
   "cell_type": "code",
   "execution_count": 4,
   "id": "7f4686b4",
   "metadata": {},
   "outputs": [],
   "source": [
    "body_splash = pd.read_csv('../avon/body_splash/bodysplash.csv')\n",
    "antitranspirante = pd.read_csv('../avon/antitranspirante/antitranspirante.csv')\n",
    "shampoo = pd.read_csv('../avon/shampoo/shampoo.csv')\n",
    "sabonete = pd.read_csv('../avon/sabonete/sabonete.csv')"
   ]
  },
  {
   "cell_type": "markdown",
   "id": "c6bddde0",
   "metadata": {},
   "source": [
    "## Tratando dados da Avon"
   ]
  },
  {
   "cell_type": "markdown",
   "id": "be23e0dd",
   "metadata": {},
   "source": [
    "### Conhecendo os DataFrame"
   ]
  },
  {
   "cell_type": "markdown",
   "id": "5be68923",
   "metadata": {},
   "source": [
    "#### Body Splashs"
   ]
  },
  {
   "cell_type": "code",
   "execution_count": 5,
   "id": "d70dfb28",
   "metadata": {},
   "outputs": [
    {
     "data": {
      "text/html": [
       "<div>\n",
       "<style scoped>\n",
       "    .dataframe tbody tr th:only-of-type {\n",
       "        vertical-align: middle;\n",
       "    }\n",
       "\n",
       "    .dataframe tbody tr th {\n",
       "        vertical-align: top;\n",
       "    }\n",
       "\n",
       "    .dataframe thead th {\n",
       "        text-align: right;\n",
       "    }\n",
       "</style>\n",
       "<table border=\"1\" class=\"dataframe\">\n",
       "  <thead>\n",
       "    <tr style=\"text-align: right;\">\n",
       "      <th></th>\n",
       "      <th>nome</th>\n",
       "      <th>preco</th>\n",
       "    </tr>\n",
       "  </thead>\n",
       "  <tbody>\n",
       "    <tr>\n",
       "      <th>0</th>\n",
       "      <td>Body Splash Aquavibe Refrescante Lavanda - 300ml</td>\n",
       "      <td>R$ 23,99</td>\n",
       "    </tr>\n",
       "    <tr>\n",
       "      <th>1</th>\n",
       "      <td>Body Splash Aquavibe Refrescantes Pretty Blue ...</td>\n",
       "      <td>R$ 44,90</td>\n",
       "    </tr>\n",
       "    <tr>\n",
       "      <th>2</th>\n",
       "      <td>Body Splash Aquavibe Lavanda - 1L</td>\n",
       "      <td>R$ 44,90</td>\n",
       "    </tr>\n",
       "  </tbody>\n",
       "</table>\n",
       "</div>"
      ],
      "text/plain": [
       "                                                nome     preco\n",
       "0   Body Splash Aquavibe Refrescante Lavanda - 300ml  R$ 23,99\n",
       "1  Body Splash Aquavibe Refrescantes Pretty Blue ...  R$ 44,90\n",
       "2                  Body Splash Aquavibe Lavanda - 1L  R$ 44,90"
      ]
     },
     "execution_count": 5,
     "metadata": {},
     "output_type": "execute_result"
    }
   ],
   "source": [
    "body_splash.head(3)"
   ]
  },
  {
   "cell_type": "code",
   "execution_count": 6,
   "id": "f3ee6fee",
   "metadata": {},
   "outputs": [],
   "source": [
    "# removendo duplicadas #\n",
    "body_splash = body_splash.drop_duplicates(subset='nome')\n",
    "#  #  #  #"
   ]
  },
  {
   "cell_type": "code",
   "execution_count": 7,
   "id": "6fbe79cd",
   "metadata": {},
   "outputs": [
    {
     "data": {
      "text/plain": [
       "(17, 2)"
      ]
     },
     "execution_count": 7,
     "metadata": {},
     "output_type": "execute_result"
    }
   ],
   "source": [
    "body_splash.shape"
   ]
  },
  {
   "cell_type": "code",
   "execution_count": 8,
   "id": "f66e356f",
   "metadata": {},
   "outputs": [
    {
     "name": "stdout",
     "output_type": "stream",
     "text": [
      "Ocorrencia de valor nulo em cada coluna:\n"
     ]
    },
    {
     "data": {
      "text/plain": [
       "nome     0\n",
       "preco    0\n",
       "dtype: int64"
      ]
     },
     "execution_count": 8,
     "metadata": {},
     "output_type": "execute_result"
    }
   ],
   "source": [
    "print('Ocorrencia de valor nulo em cada coluna:')\n",
    "body_splash.isna().sum()"
   ]
  },
  {
   "cell_type": "code",
   "execution_count": 9,
   "id": "e801ecb6",
   "metadata": {},
   "outputs": [],
   "source": [
    "# transformando dados #\n",
    "\n",
    "# removendo 'R$' #\n",
    "body_splash['preco'] = body_splash['preco'].map(lambda x: str(x).replace('R$', ''))\n",
    "\n",
    "# transformando ',' em '. #'\n",
    "body_splash['preco'] = body_splash['preco'].map(lambda x: str(x).replace(',', '.'))\n",
    "\n",
    "# transformando 'produto indisponivel' em '0.0' #\n",
    "body_splash['preco'] = body_splash['preco'].map(lambda x: str(x).replace('Produto indisponível', '0.0'))\n",
    "\n",
    "# renomeando coluna 'preco' #\n",
    "body_splash = body_splash.rename(columns={'preco':'preco(R$)'})\n",
    "#  #  #  #"
   ]
  },
  {
   "cell_type": "code",
   "execution_count": 10,
   "id": "b344df41",
   "metadata": {},
   "outputs": [
    {
     "name": "stdout",
     "output_type": "stream",
     "text": [
      "           nome\n",
      "preco(R$)      \n",
      "0.0           2\n",
      " 11.00        1\n",
      " 12.39        2\n",
      " 23.99        9\n",
      " 34.89        1\n",
      " 44.90        2\n"
     ]
    }
   ],
   "source": [
    "# quantidade de produtos indisponiveis #\n",
    "freq = body_splash.groupby(['preco(R$)']).count() \n",
    "print(freq)\n",
    "#  #  #  #"
   ]
  },
  {
   "cell_type": "code",
   "execution_count": 11,
   "id": "10170c4d",
   "metadata": {},
   "outputs": [
    {
     "name": "stdout",
     "output_type": "stream",
     "text": [
      "O DataFrame possui 17 linhas e 2 colunas e 0 dados nulos, com isso, presumo que possui 17 produtos.\n",
      " Produtos indisponiveis considerei como \"0.0\", o dataframe possui 2 valores indisponiveis.\n",
      "\n",
      "\n",
      "<class 'pandas.core.frame.DataFrame'>\n",
      "Int64Index: 17 entries, 0 to 16\n",
      "Data columns (total 2 columns):\n",
      " #   Column     Non-Null Count  Dtype \n",
      "---  ------     --------------  ----- \n",
      " 0   nome       17 non-null     object\n",
      " 1   preco(R$)  17 non-null     object\n",
      "dtypes: object(2)\n",
      "memory usage: 272.0+ bytes\n"
     ]
    }
   ],
   "source": [
    "print(f'O DataFrame possui {body_splash.shape[0]} linhas e {body_splash.shape[1]} colunas e 0 dados nulos, com isso, presumo que possui {body_splash.shape[0]} produtos.\\n Produtos indisponiveis considerei como \"0.0\", o dataframe possui 2 valores indisponiveis.')\n",
    "print('\\n')\n",
    "body_splash.info()"
   ]
  },
  {
   "cell_type": "code",
   "execution_count": 14,
   "id": "c954ea65",
   "metadata": {},
   "outputs": [],
   "source": [
    "# salvando arquivo #\n",
    "body_splash.to_csv('../dados/body_splash.csv')\n",
    "#  #  #  #"
   ]
  },
  {
   "cell_type": "markdown",
   "id": "12782bc4",
   "metadata": {},
   "source": [
    "#### Antitranspirante"
   ]
  },
  {
   "cell_type": "code",
   "execution_count": null,
   "id": "d158c5ea",
   "metadata": {},
   "outputs": [],
   "source": [
    "antitranspirante.head(3)"
   ]
  },
  {
   "cell_type": "code",
   "execution_count": null,
   "id": "d4583e45",
   "metadata": {},
   "outputs": [],
   "source": [
    "# removendo duplicadas #\n",
    "antitranspirante = antitranspirante.drop_duplicates(subset='nome')\n",
    "#  #  #  #"
   ]
  },
  {
   "cell_type": "code",
   "execution_count": null,
   "id": "a7a8eea4",
   "metadata": {},
   "outputs": [],
   "source": [
    "antitranspirante.shape"
   ]
  },
  {
   "cell_type": "code",
   "execution_count": null,
   "id": "7eab1a57",
   "metadata": {},
   "outputs": [],
   "source": [
    "print('Ocorrencia de valor nulo em cada coluna:')\n",
    "antitranspirante.isna().sum()"
   ]
  },
  {
   "cell_type": "code",
   "execution_count": null,
   "id": "bc0b677c",
   "metadata": {},
   "outputs": [],
   "source": [
    "# transformando dados #\n",
    "\n",
    "# removendo 'R$' #\n",
    "antitranspirante['preco'] = antitranspirante['preco'].map(lambda x: str(x).replace('R$', ''))\n",
    "\n",
    "# transformando ',' em '. #'\n",
    "antitranspirante['preco'] = antitranspirante['preco'].map(lambda x: str(x).replace(',', '.'))\n",
    "\n",
    "# transformando 'produto indisponivel' em '0.0' #\n",
    "antitranspirante['preco'] = antitranspirante['preco'].map(lambda x: str(x).replace('Produto indisponível', '0.0'))\n",
    "\n",
    "# renomeando coluna 'preco' #\n",
    "antitranspirante = antitranspirante.rename(columns={'preco':'preco(R$)'})\n",
    "#  #  #  #"
   ]
  },
  {
   "cell_type": "code",
   "execution_count": null,
   "id": "8855105a",
   "metadata": {},
   "outputs": [],
   "source": [
    "# quantidade de produtos indisponiveis #\n",
    "freq = antitranspirante.groupby(['preco(R$)']).count() \n",
    "print(freq)\n",
    "#  #  #  #"
   ]
  },
  {
   "cell_type": "code",
   "execution_count": null,
   "id": "0f86c26f",
   "metadata": {},
   "outputs": [],
   "source": [
    "print(f'O DataFrame possui {antitranspirante.shape[0]} linhas e {antitranspirante.shape[1]} colunas e 0 dados nulos, com isso, presumo que possui {antitranspirante.shape[0]} produtos.\\n Produtos indisponiveis considerei como \"0.0\", o data frame possui 1 valor indisponivel.')\n",
    "print('\\n')\n",
    "antitranspirante.info()"
   ]
  },
  {
   "cell_type": "code",
   "execution_count": 17,
   "id": "a9754b04",
   "metadata": {},
   "outputs": [],
   "source": [
    "# salvando arquivo #\n",
    "antitranspirante.to_csv('../dados/antitranspirante.csv')\n",
    "#  #  #  #"
   ]
  },
  {
   "cell_type": "markdown",
   "id": "6a261f70",
   "metadata": {},
   "source": [
    "#### Shampoo"
   ]
  },
  {
   "cell_type": "code",
   "execution_count": null,
   "id": "f27abf4d",
   "metadata": {},
   "outputs": [],
   "source": [
    "shampoo.head(3)"
   ]
  },
  {
   "cell_type": "code",
   "execution_count": null,
   "id": "7413a576",
   "metadata": {},
   "outputs": [],
   "source": [
    "# removendo duplicadas #\n",
    "shampoo = shampoo.drop_duplicates(subset='nome')\n",
    "#  #  #  #"
   ]
  },
  {
   "cell_type": "code",
   "execution_count": null,
   "id": "9e241e40",
   "metadata": {},
   "outputs": [],
   "source": [
    "shampoo.shape"
   ]
  },
  {
   "cell_type": "code",
   "execution_count": null,
   "id": "16b3d7bb",
   "metadata": {},
   "outputs": [],
   "source": [
    "print('Ocorrencia de valor nulo em cada coluna:')\n",
    "shampoo.isna().sum()"
   ]
  },
  {
   "cell_type": "code",
   "execution_count": null,
   "id": "015666bf",
   "metadata": {},
   "outputs": [],
   "source": [
    "# transformando dados #\n",
    "\n",
    "# removendo 'R$' #\n",
    "shampoo['preco'] = shampoo['preco'].map(lambda x: str(x).replace('R$', ''))\n",
    "\n",
    "# transformando ',' em '. #'\n",
    "shampoo['preco'] = shampoo['preco'].map(lambda x: str(x).replace(',', '.'))\n",
    "\n",
    "# transformando 'produto indisponivel' em '0.0' #\n",
    "shampoo['preco'] = shampoo['preco'].map(lambda x: str(x).replace('Produto indisponível', '0.0'))\n",
    "\n",
    "# renomeando coluna 'preco' #\n",
    "shampoo = shampoo.rename(columns={'preco':'preco(R$)'})\n",
    "#  #  #  #"
   ]
  },
  {
   "cell_type": "code",
   "execution_count": null,
   "id": "c3aace57",
   "metadata": {},
   "outputs": [],
   "source": [
    "# quantidade de produtos indisponiveis #\n",
    "freq = shampoo.groupby(['preco(R$)']).count() \n",
    "print(freq)\n",
    "#  #  #  #"
   ]
  },
  {
   "cell_type": "code",
   "execution_count": null,
   "id": "e8897054",
   "metadata": {},
   "outputs": [],
   "source": [
    "print(f'O DataFrame possui {shampoo.shape[0]} linhas e {shampoo.shape[1]} colunas e 0 dados nulos, com isso, presumo que possui {shampoo.shape[0]} produtos.\\n Produtos indisponiveis considerei como \"0.0\", o dataframe possui 1 valor indisponivel.')\n",
    "print('\\n')\n",
    "shampoo.info()"
   ]
  },
  {
   "cell_type": "code",
   "execution_count": 18,
   "id": "d52e296c",
   "metadata": {},
   "outputs": [],
   "source": [
    "# salvando arquivo #\n",
    "shampoo.to_csv('../dados/shampoo.csv')\n",
    "#  #  #  #"
   ]
  },
  {
   "cell_type": "markdown",
   "id": "4adc302f",
   "metadata": {},
   "source": [
    "#### Sabonete"
   ]
  },
  {
   "cell_type": "code",
   "execution_count": null,
   "id": "83492fda",
   "metadata": {},
   "outputs": [],
   "source": [
    "sabonete.head(3)"
   ]
  },
  {
   "cell_type": "code",
   "execution_count": null,
   "id": "d83e7e91",
   "metadata": {},
   "outputs": [],
   "source": [
    "# removendo duplicados #\n",
    "sabonete = sabonete.drop_duplicates('nome')\n",
    "#  #  #  #"
   ]
  },
  {
   "cell_type": "code",
   "execution_count": null,
   "id": "ae8e4ae9",
   "metadata": {},
   "outputs": [],
   "source": [
    "sabonete.shape"
   ]
  },
  {
   "cell_type": "code",
   "execution_count": null,
   "id": "55870de3",
   "metadata": {},
   "outputs": [],
   "source": [
    "print('Ocorrencia de valor nulo em cada coluna:')\n",
    "sabonete.isna().sum()"
   ]
  },
  {
   "cell_type": "code",
   "execution_count": null,
   "id": "57ffe9c8",
   "metadata": {},
   "outputs": [],
   "source": [
    "# transformando dados #\n",
    "\n",
    "# removendo 'R$' #\n",
    "sabonete['preco'] = sabonete['preco'].map(lambda x: str(x).replace('R$', ''))\n",
    "\n",
    "# transformando ',' em '. #'\n",
    "sabonete['preco'] = sabonete['preco'].map(lambda x: str(x).replace(',', '.'))\n",
    "\n",
    "# transformando 'produto indisponivel' em '0.0' #\n",
    "sabonete['preco'] = sabonete['preco'].map(lambda x: str(x).replace('Produto indisponível', '0.0'))\n",
    "\n",
    "# renomeando coluna 'preco' #\n",
    "sabonete = sabonete.rename(columns={'preco':'preco(R$)'})\n",
    "#  #  #  #"
   ]
  },
  {
   "cell_type": "code",
   "execution_count": null,
   "id": "5f05400d",
   "metadata": {},
   "outputs": [],
   "source": [
    "# quantidade de produtos indisponiveis #\n",
    "freq = sabonete.groupby(['preco(R$)']).count() \n",
    "print(freq)\n",
    "#  #  #  #"
   ]
  },
  {
   "cell_type": "code",
   "execution_count": null,
   "id": "200c2c7f",
   "metadata": {},
   "outputs": [],
   "source": [
    "print(f'O DataFrame possui {sabonete.shape[0]} linhas e {sabonete.shape[1]} colunas e 0 dados nulos, com isso, presumo que possui {sabonete.shape[0]} produtos.\\n Produtos indisponiveis considerei como \"0.0\", o dataframe possui 3 valores indisponiveis.')\n",
    "print('\\n')\n",
    "shampoo.info()"
   ]
  },
  {
   "cell_type": "code",
   "execution_count": 19,
   "id": "c363dd87",
   "metadata": {},
   "outputs": [],
   "source": [
    "# salvando arquivo #\n",
    "sabonete.to_csv('../dados/sabonete.csv')\n",
    "#  #  #  #"
   ]
  }
 ],
 "metadata": {
  "kernelspec": {
   "display_name": "Python 3",
   "language": "python",
   "name": "python3"
  },
  "language_info": {
   "codemirror_mode": {
    "name": "ipython",
    "version": 3
   },
   "file_extension": ".py",
   "mimetype": "text/x-python",
   "name": "python",
   "nbconvert_exporter": "python",
   "pygments_lexer": "ipython3",
   "version": "3.8.8"
  }
 },
 "nbformat": 4,
 "nbformat_minor": 5
}
