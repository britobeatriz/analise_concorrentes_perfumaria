{
 "cells": [
  {
   "cell_type": "markdown",
   "id": "613ee30f",
   "metadata": {},
   "source": [
    "# Visualização dos dados e tratamento"
   ]
  },
  {
   "cell_type": "markdown",
   "id": "d32f916c",
   "metadata": {},
   "source": [
    "## Bibliotecas"
   ]
  },
  {
   "cell_type": "code",
   "execution_count": 64,
   "id": "1e217305",
   "metadata": {},
   "outputs": [],
   "source": [
    "import pandas as pd"
   ]
  },
  {
   "cell_type": "markdown",
   "id": "36617573",
   "metadata": {},
   "source": [
    "## Importando os dados"
   ]
  },
  {
   "cell_type": "code",
   "execution_count": 65,
   "id": "42bccb84",
   "metadata": {},
   "outputs": [],
   "source": [
    "body_splash = pd.read_csv('../avon/body_splash/bodysplash.csv')\n",
    "antitranspirante = pd.read_csv('../avon/antitranspirante/antitranspirante.csv')\n",
    "shampoo = pd.read_csv('../avon/shampoo/shampoo.csv')\n",
    "sabonete = pd.read_csv('../avon/sabonete/sabonete.csv')"
   ]
  },
  {
   "cell_type": "markdown",
   "id": "537f9d64",
   "metadata": {},
   "source": [
    "## Tratando dados da Avon"
   ]
  },
  {
   "cell_type": "markdown",
   "id": "9a66f06b",
   "metadata": {},
   "source": [
    "### Conhecendo os DataFrame"
   ]
  },
  {
   "cell_type": "markdown",
   "id": "6d04aaab",
   "metadata": {},
   "source": [
    "#### Body Splashs"
   ]
  },
  {
   "cell_type": "code",
   "execution_count": 66,
   "id": "e3f73190",
   "metadata": {},
   "outputs": [
    {
     "data": {
      "text/html": [
       "<div>\n",
       "<style scoped>\n",
       "    .dataframe tbody tr th:only-of-type {\n",
       "        vertical-align: middle;\n",
       "    }\n",
       "\n",
       "    .dataframe tbody tr th {\n",
       "        vertical-align: top;\n",
       "    }\n",
       "\n",
       "    .dataframe thead th {\n",
       "        text-align: right;\n",
       "    }\n",
       "</style>\n",
       "<table border=\"1\" class=\"dataframe\">\n",
       "  <thead>\n",
       "    <tr style=\"text-align: right;\">\n",
       "      <th></th>\n",
       "      <th>nome</th>\n",
       "      <th>preco</th>\n",
       "    </tr>\n",
       "  </thead>\n",
       "  <tbody>\n",
       "    <tr>\n",
       "      <th>0</th>\n",
       "      <td>Body Splash Aquavibe Refrescante Lavanda - 300ml</td>\n",
       "      <td>R$ 23,99</td>\n",
       "    </tr>\n",
       "    <tr>\n",
       "      <th>1</th>\n",
       "      <td>Body Splash Aquavibe Refrescantes Pretty Blue ...</td>\n",
       "      <td>R$ 44,90</td>\n",
       "    </tr>\n",
       "    <tr>\n",
       "      <th>2</th>\n",
       "      <td>Body Splash Aquavibe Lavanda - 1L</td>\n",
       "      <td>R$ 44,90</td>\n",
       "    </tr>\n",
       "  </tbody>\n",
       "</table>\n",
       "</div>"
      ],
      "text/plain": [
       "                                                nome     preco\n",
       "0   Body Splash Aquavibe Refrescante Lavanda - 300ml  R$ 23,99\n",
       "1  Body Splash Aquavibe Refrescantes Pretty Blue ...  R$ 44,90\n",
       "2                  Body Splash Aquavibe Lavanda - 1L  R$ 44,90"
      ]
     },
     "execution_count": 66,
     "metadata": {},
     "output_type": "execute_result"
    }
   ],
   "source": [
    "body_splash.head(3)"
   ]
  },
  {
   "cell_type": "code",
   "execution_count": 67,
   "id": "c7e623ec",
   "metadata": {},
   "outputs": [
    {
     "data": {
      "text/plain": [
       "(17, 2)"
      ]
     },
     "execution_count": 67,
     "metadata": {},
     "output_type": "execute_result"
    }
   ],
   "source": [
    "body_splash.shape"
   ]
  },
  {
   "cell_type": "code",
   "execution_count": 68,
   "id": "4b27c8ae",
   "metadata": {},
   "outputs": [
    {
     "name": "stdout",
     "output_type": "stream",
     "text": [
      "Ocorrencia de valor nulo em cada coluna:\n"
     ]
    },
    {
     "data": {
      "text/plain": [
       "nome     0\n",
       "preco    0\n",
       "dtype: int64"
      ]
     },
     "execution_count": 68,
     "metadata": {},
     "output_type": "execute_result"
    }
   ],
   "source": [
    "print('Ocorrencia de valor nulo em cada coluna:')\n",
    "body_splash.isna().sum()"
   ]
  },
  {
   "cell_type": "code",
   "execution_count": 124,
   "id": "ee28406f",
   "metadata": {},
   "outputs": [
    {
     "name": "stdout",
     "output_type": "stream",
     "text": [
      "                                                 nome preco(R$)\n",
      "0    Body Splash Aquavibe Refrescante Lavanda - 300ml     23.99\n",
      "1   Body Splash Aquavibe Refrescantes Pretty Blue ...     44.90\n",
      "2                   Body Splash Aquavibe Lavanda - 1L     44.90\n",
      "3   Body Splash Aquavibe Refrescantes Jabuticaba -...     23.99\n",
      "4   Body Splash Aquavibe Refrescantes Coco e Abaca...     23.99\n",
      "5   Body Splash Aquavibe Refrescantes Pretty Blue ...     23.99\n",
      "6   Body Splash Aquavibe Refrescantes Baby Smell -...     23.99\n",
      "7                       Musk Storm Body Splash - 90ml     11.00\n",
      "8                    Musk Titanium Body Splash - 90ml     12.39\n",
      "9                      Musk Freeze Body Splash - 90ml     23.99\n",
      "10                    Musk Intense Body Splash - 90ml     23.99\n",
      "11      Aquavibe Refrescantes Chypre Body Splash - 1L     34.89\n",
      "12                      Musk Fresh Body Splash - 90ml     23.99\n",
      "13  Colônia Desodorante Body Splash Musk Storm - 90ml     12.39\n",
      "14                        Musk Air Body Splash - 90ml     23.99\n",
      "15   Body Splash Aquavibe Refrescantes Chypre - 300ml       0.0\n",
      "16                     Musk Marine Body Splash - 90ml       0.0\n"
     ]
    }
   ],
   "source": [
    "# transformando dados #\n",
    "\n",
    "# removendo 'R$' #\n",
    "body_splash['preco'] = body_splash['preco'].map(lambda x: str(x).replace('R$', ''))\n",
    "\n",
    "# transformando ',' em '. #'\n",
    "body_splash['preco'] = body_splash['preco'].map(lambda x: str(x).replace(',', '.'))\n",
    "\n",
    "# transformando 'produto indisponivel' em '0.0' #\n",
    "body_splash['preco'] = body_splash['preco'].map(lambda x: str(x).replace('Produto indisponível', '0.0'))\n",
    "\n",
    "# renomeando coluna 'preco' #\n",
    "body_splash = body_splash.rename(columns={'preco':'preco(R$)'})\n",
    "\n",
    "\n",
    "#  #  #  #\n",
    "print(body_splash)"
   ]
  },
  {
   "cell_type": "code",
   "execution_count": 121,
   "id": "cb57fb94",
   "metadata": {},
   "outputs": [
    {
     "name": "stdout",
     "output_type": "stream",
     "text": [
      "O DataFrame body_splash possui 17 linhas e 2 colunas e 0 dados nulos, com isso, presumo que possui 17 produtos.\n",
      " Produtos indisponiveis considerei como '0.0'.\n",
      "\n",
      "\n",
      "<class 'pandas.core.frame.DataFrame'>\n",
      "RangeIndex: 17 entries, 0 to 16\n",
      "Data columns (total 2 columns):\n",
      " #   Column  Non-Null Count  Dtype \n",
      "---  ------  --------------  ----- \n",
      " 0   nome    17 non-null     object\n",
      " 1   preco   17 non-null     object\n",
      "dtypes: object(2)\n",
      "memory usage: 200.0+ bytes\n"
     ]
    }
   ],
   "source": [
    "print(\"O DataFrame body_splash possui 17 linhas e 2 colunas e 0 dados nulos, com isso, presumo que possui 17 produtos.\\n Produtos indisponiveis considerei como '0.0'.\")\n",
    "print('\\n')\n",
    "body_splash.info()"
   ]
  },
  {
   "cell_type": "code",
   "execution_count": null,
   "id": "14d41336",
   "metadata": {},
   "outputs": [],
   "source": []
  },
  {
   "cell_type": "code",
   "execution_count": null,
   "id": "1c0611f1",
   "metadata": {},
   "outputs": [],
   "source": []
  }
 ],
 "metadata": {
  "kernelspec": {
   "display_name": "Python 3",
   "language": "python",
   "name": "python3"
  },
  "language_info": {
   "codemirror_mode": {
    "name": "ipython",
    "version": 3
   },
   "file_extension": ".py",
   "mimetype": "text/x-python",
   "name": "python",
   "nbconvert_exporter": "python",
   "pygments_lexer": "ipython3",
   "version": "3.8.8"
  }
 },
 "nbformat": 4,
 "nbformat_minor": 5
}
